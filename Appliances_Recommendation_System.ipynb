{
 "cells": [
  {
   "cell_type": "code",
   "execution_count": 4,
   "id": "e060028d",
   "metadata": {},
   "outputs": [],
   "source": [
    "from pyspark.sql import *\n",
    "from pyspark.sql.functions import *\n",
    "from pyspark.sql.types import *\n",
    "import gzip\n",
    "import json\n",
    "import pandas as pd\n",
    "import fileinput\n",
    "from pyspark.sql import SparkSession\n",
    "from pyspark.sql.types import StringType, StructType, StructField, ArrayType\n",
    "# import pyspark config\n",
    "from pyspark import SparkConf\n",
    "\n"
   ]
  },
  {
   "cell_type": "code",
   "execution_count": 5,
   "id": "963656c5",
   "metadata": {},
   "outputs": [
    {
     "name": "stdout",
     "output_type": "stream",
     "text": [
      "+---+\n",
      "|  1|\n",
      "+---+\n",
      "|  1|\n",
      "+---+\n",
      "\n"
     ]
    }
   ],
   "source": [
    "\n",
    "# create spark session builder for elastic search using username and password as basic auth and certifications\n",
    "spark = SparkSession.builder.appName(\"ecommerce_recommendation_system\").\\\n",
    "    config(\"es.nodes\", \"localhost\").\\\n",
    "    config(\"es.port\", \"9200\").\\\n",
    "    config(\"es.index.auto.create\", \"true\").\\\n",
    "    config(\"spark.es.net.http.auth.user\", \"elastic\").\\\n",
    "    config(\"spark.jars\", \"jars/elasticsearch/elasticsearch-hadoop-8.8.0/dist/elasticsearch-spark-20_2.11-8.8.0.jar\"). \\\n",
    "    config(\"spark.es.net.http.auth.pass\", \"trwI3C-KciiNdfz24a5q\").\\\n",
    "    getOrCreate()\n",
    "# test spark_es has successfully connected to elastic search\n",
    "# spark_es.sql(\"SELECT 1\").show()\n",
    "spark.sql(\"SELECT 1\").show()\n"
   ]
  },
  {
   "cell_type": "code",
   "execution_count": 6,
   "id": "41bca58d",
   "metadata": {},
   "outputs": [
    {
     "name": "stderr",
     "output_type": "stream",
     "text": [
      "                                                                                \r"
     ]
    },
    {
     "data": {
      "text/html": [
       "<div>\n",
       "<style scoped>\n",
       "    .dataframe tbody tr th:only-of-type {\n",
       "        vertical-align: middle;\n",
       "    }\n",
       "\n",
       "    .dataframe tbody tr th {\n",
       "        vertical-align: top;\n",
       "    }\n",
       "\n",
       "    .dataframe thead th {\n",
       "        text-align: right;\n",
       "    }\n",
       "</style>\n",
       "<table border=\"1\" class=\"dataframe\">\n",
       "  <thead>\n",
       "    <tr style=\"text-align: right;\">\n",
       "      <th></th>\n",
       "      <th>asin</th>\n",
       "      <th>brand</th>\n",
       "      <th>categories</th>\n",
       "      <th>description</th>\n",
       "      <th>imUrl</th>\n",
       "      <th>price</th>\n",
       "      <th>related</th>\n",
       "      <th>salesRank</th>\n",
       "      <th>title</th>\n",
       "    </tr>\n",
       "  </thead>\n",
       "  <tbody>\n",
       "    <tr>\n",
       "      <th>0</th>\n",
       "      <td>0970408285</td>\n",
       "      <td>None</td>\n",
       "      <td>[[Appliances, Parts &amp; Accessories, Washer Part...</td>\n",
       "      <td>High-pressure hose 90 end &amp; hose washer instal...</td>\n",
       "      <td>http://ecx.images-amazon.com/images/I/41kQjPIF...</td>\n",
       "      <td>40.75</td>\n",
       "      <td>None</td>\n",
       "      <td>None</td>\n",
       "      <td>None</td>\n",
       "    </tr>\n",
       "    <tr>\n",
       "      <th>1</th>\n",
       "      <td>7301113188</td>\n",
       "      <td>None</td>\n",
       "      <td>[[Appliances, Freezers, Chest Freezers]]</td>\n",
       "      <td>None</td>\n",
       "      <td>http://ecx.images-amazon.com/images/I/41EfFOPw...</td>\n",
       "      <td>NaN</td>\n",
       "      <td>None</td>\n",
       "      <td>None</td>\n",
       "      <td>None</td>\n",
       "    </tr>\n",
       "    <tr>\n",
       "      <th>2</th>\n",
       "      <td>B00002N7HY</td>\n",
       "      <td>Leviton</td>\n",
       "      <td>[[Appliances, Parts &amp; Accessories, Range Parts...</td>\n",
       "      <td>Built of durable thermoplastic, Leviton Power ...</td>\n",
       "      <td>http://ecx.images-amazon.com/images/I/316Y1KbT...</td>\n",
       "      <td>2.29</td>\n",
       "      <td>([B000BPFZHM, B000VU1KC6, B00004YUMZ, B000FK9X...</td>\n",
       "      <td>None</td>\n",
       "      <td>Leviton 5050 50 Amp, 125/250 Volt, NEMA 10-50R...</td>\n",
       "    </tr>\n",
       "    <tr>\n",
       "      <th>3</th>\n",
       "      <td>B00002NATH</td>\n",
       "      <td>Leviton</td>\n",
       "      <td>[[Appliances, Parts &amp; Accessories, Range Parts...</td>\n",
       "      <td>Built of durable thermoplastic, Leviton Power ...</td>\n",
       "      <td>http://ecx.images-amazon.com/images/I/41srC2QF...</td>\n",
       "      <td>9.13</td>\n",
       "      <td>([B002OUMU66, B007HFT034, B000EDQR6E, B00192MU...</td>\n",
       "      <td>None</td>\n",
       "      <td>Leviton 7313 30 Amp, 125 Volt, NEMA Tt-30R, 2P...</td>\n",
       "    </tr>\n",
       "    <tr>\n",
       "      <th>4</th>\n",
       "      <td>B00004SQH9</td>\n",
       "      <td>Coleman Cable</td>\n",
       "      <td>[[Appliances, Parts &amp; Accessories, Refrigerato...</td>\n",
       "      <td>Coleman Cable 3536 14/3 General-Use Appliance ...</td>\n",
       "      <td>http://ecx.images-amazon.com/images/I/41eg0Hvy...</td>\n",
       "      <td>16.29</td>\n",
       "      <td>([B000XSNDS0, B0022NH420, B000BQT7B6, B00004SQ...</td>\n",
       "      <td>None</td>\n",
       "      <td>Coleman Cable 3536 14/3 General-Use Appliance ...</td>\n",
       "    </tr>\n",
       "  </tbody>\n",
       "</table>\n",
       "</div>"
      ],
      "text/plain": [
       "         asin          brand  \\\n",
       "0  0970408285           None   \n",
       "1  7301113188           None   \n",
       "2  B00002N7HY        Leviton   \n",
       "3  B00002NATH        Leviton   \n",
       "4  B00004SQH9  Coleman Cable   \n",
       "\n",
       "                                          categories  \\\n",
       "0  [[Appliances, Parts & Accessories, Washer Part...   \n",
       "1           [[Appliances, Freezers, Chest Freezers]]   \n",
       "2  [[Appliances, Parts & Accessories, Range Parts...   \n",
       "3  [[Appliances, Parts & Accessories, Range Parts...   \n",
       "4  [[Appliances, Parts & Accessories, Refrigerato...   \n",
       "\n",
       "                                         description  \\\n",
       "0  High-pressure hose 90 end & hose washer instal...   \n",
       "1                                               None   \n",
       "2  Built of durable thermoplastic, Leviton Power ...   \n",
       "3  Built of durable thermoplastic, Leviton Power ...   \n",
       "4  Coleman Cable 3536 14/3 General-Use Appliance ...   \n",
       "\n",
       "                                               imUrl  price  \\\n",
       "0  http://ecx.images-amazon.com/images/I/41kQjPIF...  40.75   \n",
       "1  http://ecx.images-amazon.com/images/I/41EfFOPw...    NaN   \n",
       "2  http://ecx.images-amazon.com/images/I/316Y1KbT...   2.29   \n",
       "3  http://ecx.images-amazon.com/images/I/41srC2QF...   9.13   \n",
       "4  http://ecx.images-amazon.com/images/I/41eg0Hvy...  16.29   \n",
       "\n",
       "                                             related salesRank  \\\n",
       "0                                               None      None   \n",
       "1                                               None      None   \n",
       "2  ([B000BPFZHM, B000VU1KC6, B00004YUMZ, B000FK9X...      None   \n",
       "3  ([B002OUMU66, B007HFT034, B000EDQR6E, B00192MU...      None   \n",
       "4  ([B000XSNDS0, B0022NH420, B000BQT7B6, B00004SQ...      None   \n",
       "\n",
       "                                               title  \n",
       "0                                               None  \n",
       "1                                               None  \n",
       "2  Leviton 5050 50 Amp, 125/250 Volt, NEMA 10-50R...  \n",
       "3  Leviton 7313 30 Amp, 125 Volt, NEMA Tt-30R, 2P...  \n",
       "4  Coleman Cable 3536 14/3 General-Use Appliance ...  "
      ]
     },
     "execution_count": 6,
     "metadata": {},
     "output_type": "execute_result"
    }
   ],
   "source": [
    "# Specify the path to your gzip-compressed metadata file\n",
    "metadata_file = \"/Users/gracechongzuting/Documents/revision_daily/PySparkML/meta_Appliances.json.gz\"\n",
    "\n",
    "# Replace single quotes with double quotes\n",
    "with gzip.open(metadata_file, 'rt') as file:\n",
    "    for line in file:\n",
    "        pass\n",
    "        # print(line.replace(\"'\", '\"'), end='')\n",
    "\n",
    "# Read in the metadata file as a DataFrame \n",
    "df = spark.read.json(metadata_file)\n",
    "# create pandas dataframe\n",
    "df = df.toPandas()\n",
    "df.head(5)"
   ]
  },
  {
   "cell_type": "code",
   "execution_count": 7,
   "id": "6887fcf8",
   "metadata": {},
   "outputs": [
    {
     "data": {
      "text/html": [
       "<div>\n",
       "<style scoped>\n",
       "    .dataframe tbody tr th:only-of-type {\n",
       "        vertical-align: middle;\n",
       "    }\n",
       "\n",
       "    .dataframe tbody tr th {\n",
       "        vertical-align: top;\n",
       "    }\n",
       "\n",
       "    .dataframe thead th {\n",
       "        text-align: right;\n",
       "    }\n",
       "</style>\n",
       "<table border=\"1\" class=\"dataframe\">\n",
       "  <thead>\n",
       "    <tr style=\"text-align: right;\">\n",
       "      <th></th>\n",
       "      <th>asin</th>\n",
       "      <th>title</th>\n",
       "      <th>brand</th>\n",
       "      <th>image</th>\n",
       "      <th>categories</th>\n",
       "      <th>price</th>\n",
       "      <th>main_category</th>\n",
       "    </tr>\n",
       "  </thead>\n",
       "  <tbody>\n",
       "    <tr>\n",
       "      <th>0</th>\n",
       "      <td>0970408285</td>\n",
       "      <td>None</td>\n",
       "      <td>None</td>\n",
       "      <td>http://ecx.images-amazon.com/images/I/41kQjPIF...</td>\n",
       "      <td>[[Appliances, Parts &amp; Accessories, Washer Part...</td>\n",
       "      <td>40.75</td>\n",
       "      <td>Washer Parts &amp; Accessories</td>\n",
       "    </tr>\n",
       "    <tr>\n",
       "      <th>1</th>\n",
       "      <td>7301113188</td>\n",
       "      <td>None</td>\n",
       "      <td>None</td>\n",
       "      <td>http://ecx.images-amazon.com/images/I/41EfFOPw...</td>\n",
       "      <td>[[Appliances, Freezers, Chest Freezers]]</td>\n",
       "      <td>NaN</td>\n",
       "      <td>Chest Freezers</td>\n",
       "    </tr>\n",
       "    <tr>\n",
       "      <th>2</th>\n",
       "      <td>B00002N7HY</td>\n",
       "      <td>Leviton 5050 50 Amp, 125/250 Volt, NEMA 10-50R...</td>\n",
       "      <td>Leviton</td>\n",
       "      <td>http://ecx.images-amazon.com/images/I/316Y1KbT...</td>\n",
       "      <td>[[Appliances, Parts &amp; Accessories, Range Parts...</td>\n",
       "      <td>2.29</td>\n",
       "      <td>Plug Receptacles</td>\n",
       "    </tr>\n",
       "    <tr>\n",
       "      <th>3</th>\n",
       "      <td>B00002NATH</td>\n",
       "      <td>Leviton 7313 30 Amp, 125 Volt, NEMA Tt-30R, 2P...</td>\n",
       "      <td>Leviton</td>\n",
       "      <td>http://ecx.images-amazon.com/images/I/41srC2QF...</td>\n",
       "      <td>[[Appliances, Parts &amp; Accessories, Range Parts...</td>\n",
       "      <td>9.13</td>\n",
       "      <td>Plug Receptacles</td>\n",
       "    </tr>\n",
       "    <tr>\n",
       "      <th>4</th>\n",
       "      <td>B00004SQH9</td>\n",
       "      <td>Coleman Cable 3536 14/3 General-Use Appliance ...</td>\n",
       "      <td>Coleman Cable</td>\n",
       "      <td>http://ecx.images-amazon.com/images/I/41eg0Hvy...</td>\n",
       "      <td>[[Appliances, Parts &amp; Accessories, Refrigerato...</td>\n",
       "      <td>16.29</td>\n",
       "      <td>Power Cords</td>\n",
       "    </tr>\n",
       "  </tbody>\n",
       "</table>\n",
       "</div>"
      ],
      "text/plain": [
       "         asin                                              title  \\\n",
       "0  0970408285                                               None   \n",
       "1  7301113188                                               None   \n",
       "2  B00002N7HY  Leviton 5050 50 Amp, 125/250 Volt, NEMA 10-50R...   \n",
       "3  B00002NATH  Leviton 7313 30 Amp, 125 Volt, NEMA Tt-30R, 2P...   \n",
       "4  B00004SQH9  Coleman Cable 3536 14/3 General-Use Appliance ...   \n",
       "\n",
       "           brand                                              image  \\\n",
       "0           None  http://ecx.images-amazon.com/images/I/41kQjPIF...   \n",
       "1           None  http://ecx.images-amazon.com/images/I/41EfFOPw...   \n",
       "2        Leviton  http://ecx.images-amazon.com/images/I/316Y1KbT...   \n",
       "3        Leviton  http://ecx.images-amazon.com/images/I/41srC2QF...   \n",
       "4  Coleman Cable  http://ecx.images-amazon.com/images/I/41eg0Hvy...   \n",
       "\n",
       "                                          categories  price  \\\n",
       "0  [[Appliances, Parts & Accessories, Washer Part...  40.75   \n",
       "1           [[Appliances, Freezers, Chest Freezers]]    NaN   \n",
       "2  [[Appliances, Parts & Accessories, Range Parts...   2.29   \n",
       "3  [[Appliances, Parts & Accessories, Range Parts...   9.13   \n",
       "4  [[Appliances, Parts & Accessories, Refrigerato...  16.29   \n",
       "\n",
       "                main_category  \n",
       "0  Washer Parts & Accessories  \n",
       "1              Chest Freezers  \n",
       "2            Plug Receptacles  \n",
       "3            Plug Receptacles  \n",
       "4                 Power Cords  "
      ]
     },
     "execution_count": 7,
     "metadata": {},
     "output_type": "execute_result"
    }
   ],
   "source": [
    "# only show the columns we need \n",
    "df = df[['asin', 'title', 'brand', 'imUrl', 'categories', 'price']]\n",
    "# change column name or imUrl to image\n",
    "df = df.rename(columns={'imUrl': 'image'})\n",
    "# only extract the last index of categories column and rename to main category\n",
    "df['main_category'] = df['categories'].apply(lambda x: x[-1][-1])\n",
    "# drop duplicates from asin column\n",
    "df = df.drop_duplicates(subset=['asin'])\n",
    "\n",
    "\n",
    "df.head(5)"
   ]
  },
  {
   "cell_type": "code",
   "execution_count": 8,
   "id": "69d26668",
   "metadata": {},
   "outputs": [],
   "source": [
    "sdf = spark.createDataFrame(df)\n"
   ]
  },
  {
   "cell_type": "code",
   "execution_count": 9,
   "id": "96bde1bc",
   "metadata": {},
   "outputs": [
    {
     "name": "stderr",
     "output_type": "stream",
     "text": [
      "[Stage 4:>                                                          (0 + 8) / 8]\r"
     ]
    },
    {
     "name": "stdout",
     "output_type": "stream",
     "text": [
      "+--------------------+-----+\n",
      "|       main_category|count|\n",
      "+--------------------+-----+\n",
      "| Parts & Accessories| 1236|\n",
      "|       Water Filters| 1046|\n",
      "|       Refrigerators|  795|\n",
      "|Range Parts & Acc...|  541|\n",
      "|Built-In Dishwashers|  510|\n",
      "|             Washers|  505|\n",
      "|         Range Hoods|  488|\n",
      "|Refrigerator Part...|  450|\n",
      "| Freestanding Ranges|  385|\n",
      "|            Cooktops|  343|\n",
      "|              Dryers|  319|\n",
      "|Dryer Parts & Acc...|  272|\n",
      "|         Power Cords|  219|\n",
      "|          Ice Makers|  214|\n",
      "|              Motors|  210|\n",
      "| Replacement Filters|  182|\n",
      "|Cooktop Parts & A...|  180|\n",
      "|          Appliances|  164|\n",
      "|           Wash Arms|  162|\n",
      "|     Humidity Meters|  161|\n",
      "|Oven Parts & Acce...|  159|\n",
      "|           Trim Kits|  148|\n",
      "|           Fasteners|  143|\n",
      "|               Knobs|  143|\n",
      "|               Vents|  138|\n",
      "|Dishwasher Parts ...|  137|\n",
      "|    Heating Elements|  130|\n",
      "|   Replacement Wicks|  125|\n",
      "|             Filters|  121|\n",
      "|               Doors|  110|\n",
      "|Washer Parts & Ac...|  100|\n",
      "|                Bins|   90|\n",
      "|   Single Wall Ovens|   90|\n",
      "|Humidifier Parts ...|   75|\n",
      "|        Lint Screens|   75|\n",
      "|Range Hood Parts ...|   73|\n",
      "|         Dishwashers|   72|\n",
      "|               Hoses|   67|\n",
      "|     Ice Maker Parts|   63|\n",
      "|               Racks|   62|\n",
      "|Beverage Refriger...|   58|\n",
      "|      Chest Freezers|   54|\n",
      "|     Slide-In Ranges|   54|\n",
      "|   Double Wall Ovens|   51|\n",
      "|Food Waste Dispos...|   51|\n",
      "|    Upright Freezers|   49|\n",
      "|             Baskets|   46|\n",
      "|Beer Keg Refriger...|   46|\n",
      "|    Plug Receptacles|   45|\n",
      "|               Trays|   41|\n",
      "|              Panels|   40|\n",
      "|         Drain Pumps|   38|\n",
      "|             Shelves|   36|\n",
      "|All-in-One Combin...|   31|\n",
      "|           Drip Pans|   31|\n",
      "|          Oven Racks|   28|\n",
      "|Freezer Parts & A...|   27|\n",
      "|        Door Springs|   27|\n",
      "|             Handles|   26|\n",
      "|    Trash Compactors|   25|\n",
      "|           Chemicals|   24|\n",
      "|             Burners|   24|\n",
      "|             Blowers|   21|\n",
      "|Wine Cellar Parts...|   20|\n",
      "|Combination Micro...|   19|\n",
      "|Stacked Washer & ...|   18|\n",
      "|    Washers & Dryers|   15|\n",
      "|  Water Conditioners|   14|\n",
      "|Built-in Thermome...|   13|\n",
      "|             Screens|   12|\n",
      "|Trash Compactor P...|   12|\n",
      "|     Built-in Timers|   12|\n",
      "|            Paneling|   11|\n",
      "|              Grills|   11|\n",
      "|        Burner Rings|   10|\n",
      "|Appliance Warranties|   10|\n",
      "|     Warming Drawers|   10|\n",
      "|              Clamps|   10|\n",
      "|        Exhaust Fans|    9|\n",
      "|  Absorption Sleeves|    8|\n",
      "|            Freezers|    8|\n",
      "|              Ranges|    7|\n",
      "|   Replacement Belts|    6|\n",
      "|          Wall Ovens|    6|\n",
      "|  Appliance Services|    6|\n",
      "|         Floor Trays|    6|\n",
      "|          Backguards|    6|\n",
      "|      Drop-In Ranges|    5|\n",
      "|             Drawers|    5|\n",
      "|Specialty Dishwas...|    3|\n",
      "|                Rock|    2|\n",
      "|   Shoe Rack Inserts|    2|\n",
      "|     Detergent Trays|    2|\n",
      "|           Dance Pop|    1|\n",
      "|         World Music|    1|\n",
      "+--------------------+-----+\n",
      "\n"
     ]
    },
    {
     "name": "stderr",
     "output_type": "stream",
     "text": [
      "                                                                                \r"
     ]
    }
   ],
   "source": [
    "sdf.groupBy(\"main_category\").count().orderBy(col('count').desc()).show(100)"
   ]
  },
  {
   "cell_type": "code",
   "execution_count": 10,
   "id": "6334e4c3",
   "metadata": {},
   "outputs": [],
   "source": [
    "from elasticsearch import Elasticsearch"
   ]
  },
  {
   "cell_type": "code",
   "execution_count": 11,
   "id": "d1496440",
   "metadata": {},
   "outputs": [
    {
     "data": {
      "text/plain": [
       "ObjectApiResponse({'name': 'c4d1055f0816', 'cluster_name': 'docker-cluster', 'cluster_uuid': 'tmqFsIZfR-OF3wHvX3tikw', 'version': {'number': '8.8.0', 'build_flavor': 'default', 'build_type': 'docker', 'build_hash': 'c01029875a091076ed42cdb3a41c10b1a9a5a20f', 'build_date': '2023-05-23T17:16:07.179039820Z', 'build_snapshot': False, 'lucene_version': '9.6.0', 'minimum_wire_compatibility_version': '7.17.0', 'minimum_index_compatibility_version': '7.0.0'}, 'tagline': 'You Know, for Search'})"
      ]
     },
     "execution_count": 11,
     "metadata": {},
     "output_type": "execute_result"
    }
   ],
   "source": [
    "# https://www.elastic.co/guide/en/elasticsearch/reference/current/docker.html\n",
    "es = Elasticsearch('https://localhost:9200', ca_certs='./http_ca.crt', basic_auth=('elastic', 'trwI3C-KciiNdfz24a5q'))\n",
    "# reset certificate to connect to docker elastic\n",
    "# reset certificate because by default it will expire after 7 days\n",
    "# certifcate expired after 7 days\n",
    "# reset password to elastic\n",
    "es.info(pretty=True)\n",
    "# doc = {\n",
    "#     'author': 'author_name',\n",
    "#     'text': 'Interensting content...',\n",
    "#     'timestamp': datetime.now(),\n",
    "# }\n",
    "# resp = es.index(index=\"test-index\", id=1, document=doc)\n",
    "# print(resp['result'])\n"
   ]
  },
  {
   "cell_type": "code",
   "execution_count": 12,
   "id": "59b77a67",
   "metadata": {},
   "outputs": [
    {
     "name": "stderr",
     "output_type": "stream",
     "text": [
      "/var/folders/3v/prng965x6vg3z8l8gf2j4pmw0000gn/T/ipykernel_1702/755845177.py:49: DeprecationWarning: The 'body' parameter is deprecated and will be removed in a future version. Instead use individual parameters.\n",
      "  resultant = es.indices.create(index=\"products\", body=product_map)\n"
     ]
    },
    {
     "name": "stdout",
     "output_type": "stream",
     "text": [
      "{'acknowledged': True, 'shards_acknowledged': True, 'index': 'products'}\n"
     ]
    }
   ],
   "source": [
    "# delete purpose is to reset the index for each time we run the code\n",
    "es.indices.delete(index=\"products\")\n",
    "VECTOR_DIM = 25\n",
    "#  25-dimensional vector representing a person's characteristics, \n",
    "# each dimension could represent attributes like age, height, weight, income\n",
    "\n",
    "\n",
    "\n",
    "product_map = {\n",
    "    \"mappings\": {\n",
    "        \"properties\": {\n",
    "            \"asin\": {\n",
    "                \"type\": \"keyword\"\n",
    "            },\n",
    "            \"title\": {\n",
    "                \"type\": \"text\"\n",
    "            },\n",
    "            \"image\": {\n",
    "                \"type\": \"keyword\"\n",
    "            },\n",
    "            \"brand\": {\n",
    "                \"type\": \"keyword\"\n",
    "            },\n",
    "            \"categories\": {\n",
    "                \"type\": \"keyword\"\n",
    "            },\n",
    "            \"main_category\": {\n",
    "                \"type\": \"keyword\"\n",
    "            },\n",
    "            \"price\" : {\n",
    "                \"type\": \"float\",\n",
    "                \"null_value\": 0.0\n",
    "            },\n",
    "            # to define model vectors and metadata\n",
    "            \"model_vector\": {\n",
    "                \"type\": \"dense_vector\",\n",
    "                \"dims\": VECTOR_DIM\n",
    "            },\n",
    "            \"model_version\": {\n",
    "                \"type\": \"keyword\"\n",
    "            },\n",
    "            \"model_timestamp\": {\n",
    "                \"type\": \"date\"\n",
    "            }\n",
    "        }\n",
    "    }\n",
    "}\n",
    "\n",
    "resultant = es.indices.create(index=\"products\", body=product_map)\n",
    "print(resultant)"
   ]
  },
  {
   "cell_type": "code",
   "execution_count": 13,
   "id": "98acdb29",
   "metadata": {},
   "outputs": [
    {
     "name": "stdout",
     "output_type": "stream",
     "text": [
      "+----------+--------------------+-------------+--------------------+--------------------+-----+--------------------+\n",
      "|      asin|               title|        brand|               image|          categories|price|       main_category|\n",
      "+----------+--------------------+-------------+--------------------+--------------------+-----+--------------------+\n",
      "|0970408285|                null|         null|http://ecx.images...|[[Appliances, Par...|40.75|Washer Parts & Ac...|\n",
      "|7301113188|                null|         null|http://ecx.images...|[[Appliances, Fre...|  NaN|      Chest Freezers|\n",
      "|B00002N7HY|Leviton 5050 50 A...|      Leviton|http://ecx.images...|[[Appliances, Par...| 2.29|    Plug Receptacles|\n",
      "|B00002NATH|Leviton 7313 30 A...|      Leviton|http://ecx.images...|[[Appliances, Par...| 9.13|    Plug Receptacles|\n",
      "|B00004SQH9|Coleman Cable 353...|Coleman Cable|http://ecx.images...|[[Appliances, Par...|16.29|         Power Cords|\n",
      "+----------+--------------------+-------------+--------------------+--------------------+-----+--------------------+\n",
      "only showing top 5 rows\n",
      "\n"
     ]
    }
   ],
   "source": [
    "sdf.show(5)"
   ]
  },
  {
   "cell_type": "code",
   "execution_count": 14,
   "id": "a9669613",
   "metadata": {},
   "outputs": [
    {
     "name": "stdout",
     "output_type": "stream",
     "text": [
      "+------+\n",
      "| price|\n",
      "+------+\n",
      "|  9.13|\n",
      "|160.36|\n",
      "| 12.32|\n",
      "|  15.5|\n",
      "| 46.15|\n",
      "| 19.98|\n",
      "|  8.51|\n",
      "|  5.86|\n",
      "| 16.54|\n",
      "| 21.89|\n",
      "| 21.52|\n",
      "| 14.75|\n",
      "|  5.48|\n",
      "|   8.0|\n",
      "|  9.49|\n",
      "|  18.3|\n",
      "|  7.91|\n",
      "| 18.03|\n",
      "| 840.0|\n",
      "| 12.79|\n",
      "+------+\n",
      "only showing top 20 rows\n",
      "\n"
     ]
    }
   ],
   "source": [
    "# SHOW all distinct values for price column\n",
    "sdf.select('price').distinct().show()"
   ]
  },
  {
   "cell_type": "code",
   "execution_count": 15,
   "id": "ecebf515",
   "metadata": {},
   "outputs": [
    {
     "name": "stderr",
     "output_type": "stream",
     "text": [
      "/var/folders/3v/prng965x6vg3z8l8gf2j4pmw0000gn/T/ipykernel_1702/2449024641.py:28: DeprecationWarning: The 'body' parameter is deprecated and will be removed in a future version. Instead use the 'document' parameter. See https://github.com/elastic/elasticsearch-py/issues/1698 for more information\n",
      "  resp = es.index(index=index_name, id=row['asin'], body=doc)\n"
     ]
    },
    {
     "name": "stderr",
     "output_type": "stream",
     "text": [
      "/var/folders/3v/prng965x6vg3z8l8gf2j4pmw0000gn/T/ipykernel_1702/2449024641.py:34: DeprecationWarning: The 'body' parameter is deprecated and will be removed in a future version. Instead use individual parameters.\n",
      "  search_response = es.search(index=index_name, body={\"query\": {\"match_all\": {}}})\n"
     ]
    },
    {
     "name": "stdout",
     "output_type": "stream",
     "text": [
      "Data inserted successfully.\n"
     ]
    }
   ],
   "source": [
    "\n",
    "from datetime import datetime\n",
    "# # Define the index name\n",
    "index_name = \"products\"\n",
    "\n",
    "VECTOR_DIM = 25\n",
    "\n",
    "# Check if DataFrame is empty\n",
    "if df.empty:\n",
    "    print(\"DataFrame is empty. No data to index.\")\n",
    "    exit()\n",
    "\n",
    "# Iterate over the DataFrame rows and index each document\n",
    "for index, row in df.iterrows():\n",
    "    doc = {\n",
    "        'asin': row['asin'],\n",
    "        'title': row['title'],\n",
    "        'brand': row['brand'],\n",
    "        'image': row['image'],\n",
    "        'categories': row['categories'],\n",
    "        'main_category': row['main_category'],\n",
    "        'price': row['price'],\n",
    "        'model_timestamp': datetime.now()\n",
    "    }\n",
    "    # print(doc)\n",
    "    # if price is NaN, replace with 0.0\n",
    "    if pd.isnull(doc['price']):\n",
    "        doc['price'] = 0.0\n",
    "    resp = es.index(index=index_name, id=row['asin'], body=doc)\n",
    "\n",
    "# Refresh the index to make the documents searchable immediately\n",
    "#es.indices.refresh(index=index_name)\n",
    "\n",
    "# Check if data is inserted into products \n",
    "search_response = es.search(index=index_name, body={\"query\": {\"match_all\": {}}})\n",
    "hits = search_response[\"hits\"][\"hits\"]\n",
    "if len(hits) > 0:\n",
    "    print(\"Data inserted successfully.\")\n",
    "else:\n",
    "    print(\"No data found in the index.\")\n"
   ]
  },
  {
   "cell_type": "code",
   "execution_count": 16,
   "id": "8528301c",
   "metadata": {},
   "outputs": [
    {
     "name": "stderr",
     "output_type": "stream",
     "text": [
      "/var/folders/3v/prng965x6vg3z8l8gf2j4pmw0000gn/T/ipykernel_1702/1041343867.py:2: DeprecationWarning: The 'body' parameter is deprecated and will be removed in a future version. Instead use individual parameters.\n",
      "  search_response = es.search(index=index_name, body={\"query\": {\"match\": {\"title\": \"Coleman Cable 353\"}}})\n"
     ]
    },
    {
     "data": {
      "text/plain": [
       "{'took': 81,\n",
       " 'timed_out': False,\n",
       " '_shards': {'total': 1, 'successful': 1, 'skipped': 0, 'failed': 0},\n",
       " 'hits': {'total': {'value': 19, 'relation': 'eq'},\n",
       "  'max_score': 10.828733,\n",
       "  'hits': [{'_index': 'products',\n",
       "    '_id': 'B002G9TNII',\n",
       "    '_score': 10.828733,\n",
       "    '_source': {'asin': 'B002G9TNII',\n",
       "     'title': 'Coleman Cable 09733 16/3 SPT-3 Replacement Power Supply Cable, 13-Amp 125-Volt 3-Feet, Gray',\n",
       "     'brand': 'Coleman Cable',\n",
       "     'image': 'http://ecx.images-amazon.com/images/I/31pgU8c5sgL._SY300_.jpg',\n",
       "     'categories': [['Appliances',\n",
       "       'Parts & Accessories',\n",
       "       'Freezer Parts & Accessories',\n",
       "       'Power Cords']],\n",
       "     'main_category': 'Power Cords',\n",
       "     'price': 2.1,\n",
       "     'model_timestamp': '2023-06-14T12:26:30.103132'}},\n",
       "   {'_index': 'products',\n",
       "    '_id': 'B00004SQH9',\n",
       "    '_score': 10.783002,\n",
       "    '_source': {'asin': 'B00004SQH9',\n",
       "     'title': 'Coleman Cable 3536 14/3 General-Use Appliance Extension Cord, 15-Feet',\n",
       "     'brand': 'Coleman Cable',\n",
       "     'image': 'http://ecx.images-amazon.com/images/I/41eg0HvyuoL._SY300_.jpg',\n",
       "     'categories': [['Appliances',\n",
       "       'Parts & Accessories',\n",
       "       'Refrigerator Parts & Accessories',\n",
       "       'Power Cords']],\n",
       "     'main_category': 'Power Cords',\n",
       "     'price': 16.29,\n",
       "     'model_timestamp': '2023-06-14T12:26:02.229467'}},\n",
       "   {'_index': 'products',\n",
       "    '_id': 'B00004SQH5',\n",
       "    '_score': 10.783002,\n",
       "    '_source': {'asin': 'B00004SQH5',\n",
       "     'title': 'Coleman Cable 3531 14/3 General-Use Appliance Extension Cord, 3-Feet',\n",
       "     'brand': 'Coleman Cable',\n",
       "     'image': 'http://ecx.images-amazon.com/images/I/31kSM%2B1DfML._SY300_.jpg',\n",
       "     'categories': [['Appliances',\n",
       "       'Parts & Accessories',\n",
       "       'Refrigerator Parts & Accessories',\n",
       "       'Power Cords']],\n",
       "     'main_category': 'Power Cords',\n",
       "     'price': 7.38,\n",
       "     'model_timestamp': '2023-06-14T12:26:02.244890'}},\n",
       "   {'_index': 'products',\n",
       "    '_id': 'B000BQY9RI',\n",
       "    '_score': 9.30318,\n",
       "    '_source': {'asin': 'B000BQY9RI',\n",
       "     'title': 'Coleman Cable 09726 16/3 Appliance Replacement Cord, 13-Amp 125-Volt SPT-3, 6-Foot',\n",
       "     'brand': 'Coleman Cable',\n",
       "     'image': 'http://ecx.images-amazon.com/images/I/31RmwpUXvZL._SY300_.jpg',\n",
       "     'categories': [['Appliances',\n",
       "       'Parts & Accessories',\n",
       "       'Dryer Parts & Accessories',\n",
       "       'Power Cords']],\n",
       "     'main_category': 'Power Cords',\n",
       "     'price': 7.68,\n",
       "     'model_timestamp': '2023-06-14T12:26:08.033194'}},\n",
       "   {'_index': 'products',\n",
       "    '_id': 'B001JYQ7I0',\n",
       "    '_score': 9.30318,\n",
       "    '_source': {'asin': 'B001JYQ7I0',\n",
       "     'title': 'Coleman Cable 09736 16/3 Appliance Replacement Cord, 13-Amp 125-Volt SPT-3, 6-Foot',\n",
       "     'brand': 'Coleman Cable',\n",
       "     'image': 'http://ecx.images-amazon.com/images/I/41tY67cmOUL._SY300_.jpg',\n",
       "     'categories': [['Appliances',\n",
       "       'Parts & Accessories',\n",
       "       'Freezer Parts & Accessories',\n",
       "       'Power Cords']],\n",
       "     'main_category': 'Power Cords',\n",
       "     'price': 10.08,\n",
       "     'model_timestamp': '2023-06-14T12:26:25.473152'}},\n",
       "   {'_index': 'products',\n",
       "    '_id': 'B0002YUHAW',\n",
       "    '_score': 8.434988,\n",
       "    '_source': {'asin': 'B0002YUHAW',\n",
       "     'title': 'Coleman Cable 09126 10/3-Gauge SRDT 30-Amp Dryer Power Supply Cord, 6-Feet, 3-Wire, 125/250V',\n",
       "     'brand': 'Coleman Cable',\n",
       "     'image': 'http://ecx.images-amazon.com/images/I/41pyjQARCpL._SX300_.jpg',\n",
       "     'categories': [['Appliances',\n",
       "       'Parts & Accessories',\n",
       "       'Dryer Parts & Accessories',\n",
       "       'Power Cords']],\n",
       "     'main_category': 'Power Cords',\n",
       "     'price': 7.12,\n",
       "     'model_timestamp': '2023-06-14T12:26:04.281228'}},\n",
       "   {'_index': 'products',\n",
       "    '_id': 'B00004SQHH',\n",
       "    '_score': 8.434988,\n",
       "    '_source': {'asin': 'B00004SQHH',\n",
       "     'title': 'Coleman Cable 09155 10/4-Gauge SRDT 30-Amp Dryer Power Supply Cord, 5-Feet, 4-Wire, 125/250V',\n",
       "     'brand': 'Coleman Cable',\n",
       "     'image': 'http://ecx.images-amazon.com/images/I/41r-LjosPwL._SY300_.jpg',\n",
       "     'categories': [['Appliances',\n",
       "       'Parts & Accessories',\n",
       "       'Dryer Parts & Accessories',\n",
       "       'Power Cords']],\n",
       "     'main_category': 'Power Cords',\n",
       "     'price': 14.94,\n",
       "     'model_timestamp': '2023-06-14T12:26:02.257143'}},\n",
       "   {'_index': 'products',\n",
       "    '_id': 'B003RRWW54',\n",
       "    '_score': 7.9409437,\n",
       "    '_source': {'asin': 'B003RRWW54',\n",
       "     'title': 'Coleman Cable 01824 Power Distribution Generator Extension Cord, 30-Amp Dryer Plug (14-30P) to 50-Amp Outlet (CA 50A Twist)',\n",
       "     'brand': None,\n",
       "     'image': 'http://ecx.images-amazon.com/images/I/41L88YN7SiL._SY300_.jpg',\n",
       "     'categories': [['Appliances',\n",
       "       'Parts & Accessories',\n",
       "       'Dryer Parts & Accessories',\n",
       "       'Power Cords']],\n",
       "     'main_category': 'Power Cords',\n",
       "     'price': 111.68,\n",
       "     'model_timestamp': '2023-06-14T12:26:41.583292'}},\n",
       "   {'_index': 'products',\n",
       "    '_id': 'B000BQ8D7A',\n",
       "    '_score': 7.715007,\n",
       "    '_source': {'asin': 'B000BQ8D7A',\n",
       "     'title': 'Coleman Cable 09016 6/2 and 8/1-Gauge SRDT 50-Amp Range Power Supply Cord, 6-Feet, 3-Wire, 125/250V',\n",
       "     'brand': 'Coleman Cable',\n",
       "     'image': 'http://ecx.images-amazon.com/images/I/41Kw%2Bw%2BdSlL._SX300_.jpg',\n",
       "     'categories': [['Appliances',\n",
       "       'Parts & Accessories',\n",
       "       'Dryer Parts & Accessories',\n",
       "       'Power Cords']],\n",
       "     'main_category': 'Power Cords',\n",
       "     'price': 9.99,\n",
       "     'model_timestamp': '2023-06-14T12:26:07.482686'}},\n",
       "   {'_index': 'products',\n",
       "    '_id': 'B00004SQHD',\n",
       "    '_score': 7.715007,\n",
       "    '_source': {'asin': 'B00004SQHD',\n",
       "     'title': 'Coleman Cable 09045 6/2 and 8/2-Gauge SRDT 50-Amp Range Power Supply Cord, 5-Feet, 4-Wire, 125/250V',\n",
       "     'brand': 'Coleman Cable',\n",
       "     'image': 'http://ecx.images-amazon.com/images/I/41GSDd7cNGL._SX300_.jpg',\n",
       "     'categories': [['Appliances',\n",
       "       'Parts & Accessories',\n",
       "       'Range Parts & Accessories',\n",
       "       'Power Cords']],\n",
       "     'main_category': 'Power Cords',\n",
       "     'price': 18.03,\n",
       "     'model_timestamp': '2023-06-14T12:26:02.266748'}}]}}"
      ]
     },
     "execution_count": 16,
     "metadata": {},
     "output_type": "execute_result"
    }
   ],
   "source": [
    "# search for a product with title like Coleman Cable 353\n",
    "search_response = es.search(index=index_name, body={\"query\": {\"match\": {\"title\": \"Coleman Cable 353\"}}})\n",
    "search_response.body"
   ]
  },
  {
   "cell_type": "code",
   "execution_count": 17,
   "id": "b41c7512",
   "metadata": {},
   "outputs": [
    {
     "data": {
      "text/plain": [
       "{'count': 11656,\n",
       " '_shards': {'total': 1, 'successful': 1, 'skipped': 0, 'failed': 0}}"
      ]
     },
     "execution_count": 17,
     "metadata": {},
     "output_type": "execute_result"
    }
   ],
   "source": [
    "es.count(index=\"products\").body"
   ]
  },
  {
   "cell_type": "code",
   "execution_count": 18,
   "id": "79f22d06",
   "metadata": {},
   "outputs": [
    {
     "name": "stdout",
     "output_type": "stream",
     "text": [
      "products spark dataframe count:  11656\n",
      "elastic search products index count:  11656\n"
     ]
    }
   ],
   "source": [
    "# check products count and elastic search count to ensure they are the same\n",
    "print(\"products spark dataframe count: \", sdf.count())\n",
    "print(\"elastic search products index count: \", es.count(index=\"products\").body['count'])"
   ]
  },
  {
   "cell_type": "code",
   "execution_count": 19,
   "id": "9930bffe",
   "metadata": {},
   "outputs": [
    {
     "name": "stderr",
     "output_type": "stream",
     "text": [
      "/var/folders/3v/prng965x6vg3z8l8gf2j4pmw0000gn/T/ipykernel_1702/2368506357.py:2: DeprecationWarning: The 'body' parameter is deprecated and will be removed in a future version. Instead use individual parameters.\n",
      "  search_response = es.search(index=\"products\", body={\"query\": {\"match\": {\"main_category\": \"Appliances\"}}})\n"
     ]
    },
    {
     "data": {
      "text/plain": [
       "{'took': 13,\n",
       " 'timed_out': False,\n",
       " '_shards': {'total': 1, 'successful': 1, 'skipped': 0, 'failed': 0},\n",
       " 'hits': {'total': {'value': 164, 'relation': 'eq'},\n",
       "  'max_score': 4.2607517,\n",
       "  'hits': [{'_index': 'products',\n",
       "    '_id': 'B000N40IGY',\n",
       "    '_score': 4.2607517,\n",
       "    '_source': {'asin': 'B000N40IGY',\n",
       "     'title': None,\n",
       "     'brand': None,\n",
       "     'image': 'http://ecx.images-amazon.com/images/I/31dC5JloycL._SY300_.jpg',\n",
       "     'categories': [['Appliances']],\n",
       "     'main_category': 'Appliances',\n",
       "     'price': 0.0,\n",
       "     'model_timestamp': '2023-06-14T12:26:12.129846'}},\n",
       "   {'_index': 'products',\n",
       "    '_id': 'B000BPZ7KM',\n",
       "    '_score': 4.2607517,\n",
       "    '_source': {'asin': 'B000BPZ7KM',\n",
       "     'title': None,\n",
       "     'brand': None,\n",
       "     'image': 'http://ecx.images-amazon.com/images/I/41I0YHiQHwL._SY300_.jpg',\n",
       "     'categories': [['Appliances']],\n",
       "     'main_category': 'Appliances',\n",
       "     'price': 0.0,\n",
       "     'model_timestamp': '2023-06-14T12:26:07.394203'}},\n",
       "   {'_index': 'products',\n",
       "    '_id': 'B0006FTYG0',\n",
       "    '_score': 4.2607517,\n",
       "    '_source': {'asin': 'B0006FTYG0',\n",
       "     'title': None,\n",
       "     'brand': None,\n",
       "     'image': 'http://ecx.images-amazon.com/images/I/31T4BZz5S%2BL._SY300_.jpg',\n",
       "     'categories': [['Appliances']],\n",
       "     'main_category': 'Appliances',\n",
       "     'price': 0.0,\n",
       "     'model_timestamp': '2023-06-14T12:26:04.660426'}},\n",
       "   {'_index': 'products',\n",
       "    '_id': 'B0007XKIP2',\n",
       "    '_score': 4.2607517,\n",
       "    '_source': {'asin': 'B0007XKIP2',\n",
       "     'title': None,\n",
       "     'brand': None,\n",
       "     'image': 'http://ecx.images-amazon.com/images/I/31aVnspKFOL._SY300_.jpg',\n",
       "     'categories': [['Appliances']],\n",
       "     'main_category': 'Appliances',\n",
       "     'price': 0.0,\n",
       "     'model_timestamp': '2023-06-14T12:26:05.623444'}},\n",
       "   {'_index': 'products',\n",
       "    '_id': 'B000FK99DO',\n",
       "    '_score': 4.2607517,\n",
       "    '_source': {'asin': 'B000FK99DO',\n",
       "     'title': None,\n",
       "     'brand': None,\n",
       "     'image': 'http://ecx.images-amazon.com/images/I/41jiScLIS5L._SY300_.jpg',\n",
       "     'categories': [['Appliances']],\n",
       "     'main_category': 'Appliances',\n",
       "     'price': 0.0,\n",
       "     'model_timestamp': '2023-06-14T12:26:09.198189'}},\n",
       "   {'_index': 'products',\n",
       "    '_id': 'B000BTDNEK',\n",
       "    '_score': 4.2607517,\n",
       "    '_source': {'asin': 'B000BTDNEK',\n",
       "     'title': None,\n",
       "     'brand': None,\n",
       "     'image': 'http://ecx.images-amazon.com/images/I/51lDEyAIKOL._SY300_.jpg',\n",
       "     'categories': [['Appliances']],\n",
       "     'main_category': 'Appliances',\n",
       "     'price': 7.38,\n",
       "     'model_timestamp': '2023-06-14T12:26:08.097238'}},\n",
       "   {'_index': 'products',\n",
       "    '_id': 'B000KKISE0',\n",
       "    '_score': 4.2607517,\n",
       "    '_source': {'asin': 'B000KKISE0',\n",
       "     'title': None,\n",
       "     'brand': None,\n",
       "     'image': 'http://ecx.images-amazon.com/images/I/51ox8JBsHIL._SY300_.jpg',\n",
       "     'categories': [['Appliances']],\n",
       "     'main_category': 'Appliances',\n",
       "     'price': 0.01,\n",
       "     'model_timestamp': '2023-06-14T12:26:11.485014'}},\n",
       "   {'_index': 'products',\n",
       "    '_id': 'B000KQ2CWS',\n",
       "    '_score': 4.2607517,\n",
       "    '_source': {'asin': 'B000KQ2CWS',\n",
       "     'title': None,\n",
       "     'brand': None,\n",
       "     'image': 'http://ecx.images-amazon.com/images/I/31HvniJAroL._SY300_.jpg',\n",
       "     'categories': [['Appliances']],\n",
       "     'main_category': 'Appliances',\n",
       "     'price': 40.88,\n",
       "     'model_timestamp': '2023-06-14T12:26:11.707875'}},\n",
       "   {'_index': 'products',\n",
       "    '_id': 'B001C4C3GM',\n",
       "    '_score': 4.2607517,\n",
       "    '_source': {'asin': 'B001C4C3GM',\n",
       "     'title': None,\n",
       "     'brand': None,\n",
       "     'image': 'http://ecx.images-amazon.com/images/I/41UM24lwdFL._SY300_.jpg',\n",
       "     'categories': [['Appliances']],\n",
       "     'main_category': 'Appliances',\n",
       "     'price': 0.0,\n",
       "     'model_timestamp': '2023-06-14T12:26:20.195816'}},\n",
       "   {'_index': 'products',\n",
       "    '_id': 'B001DHGAM6',\n",
       "    '_score': 4.2607517,\n",
       "    '_source': {'asin': 'B001DHGAM6',\n",
       "     'title': None,\n",
       "     'brand': None,\n",
       "     'image': 'http://ecx.images-amazon.com/images/I/31XsX1qZJWL.jpg',\n",
       "     'categories': [['Appliances']],\n",
       "     'main_category': 'Appliances',\n",
       "     'price': 16.13,\n",
       "     'model_timestamp': '2023-06-14T12:26:20.748130'}}]}}"
      ]
     },
     "execution_count": 19,
     "metadata": {},
     "output_type": "execute_result"
    }
   ],
   "source": [
    "# lets search for a product with main_category like 'Appliances'\n",
    "search_response = es.search(index=\"products\", body={\"query\": {\"match\": {\"main_category\": \"Appliances\"}}})\n",
    "search_response.body\n"
   ]
  },
  {
   "cell_type": "code",
   "execution_count": 20,
   "id": "fd454d59",
   "metadata": {},
   "outputs": [
    {
     "name": "stderr",
     "output_type": "stream",
     "text": [
      "                                                                                \r"
     ]
    },
    {
     "data": {
      "text/html": [
       "<div>\n",
       "<style scoped>\n",
       "    .dataframe tbody tr th:only-of-type {\n",
       "        vertical-align: middle;\n",
       "    }\n",
       "\n",
       "    .dataframe tbody tr th {\n",
       "        vertical-align: top;\n",
       "    }\n",
       "\n",
       "    .dataframe thead th {\n",
       "        text-align: right;\n",
       "    }\n",
       "</style>\n",
       "<table border=\"1\" class=\"dataframe\">\n",
       "  <thead>\n",
       "    <tr style=\"text-align: right;\">\n",
       "      <th></th>\n",
       "      <th>asin</th>\n",
       "      <th>helpful</th>\n",
       "      <th>overall</th>\n",
       "      <th>reviewText</th>\n",
       "      <th>reviewTime</th>\n",
       "      <th>reviewerID</th>\n",
       "      <th>reviewerName</th>\n",
       "      <th>summary</th>\n",
       "      <th>unixReviewTime</th>\n",
       "    </tr>\n",
       "  </thead>\n",
       "  <tbody>\n",
       "    <tr>\n",
       "      <th>0</th>\n",
       "      <td>0970408285</td>\n",
       "      <td>[0, 0]</td>\n",
       "      <td>4.0</td>\n",
       "      <td>Could have been longer though. well made and e...</td>\n",
       "      <td>12 16, 2013</td>\n",
       "      <td>A27HOWZBUBJ8FF</td>\n",
       "      <td>Steve</td>\n",
       "      <td>Good fit</td>\n",
       "      <td>1387152000</td>\n",
       "    </tr>\n",
       "    <tr>\n",
       "      <th>1</th>\n",
       "      <td>7301113188</td>\n",
       "      <td>[0, 0]</td>\n",
       "      <td>5.0</td>\n",
       "      <td>I like these containers so much i have ordered...</td>\n",
       "      <td>03 13, 2009</td>\n",
       "      <td>A24HQ894NFSTF5</td>\n",
       "      <td>Maha Saqfalhait \"shopaholic! ;)\"</td>\n",
       "      <td>I Love the Freezer storage line..</td>\n",
       "      <td>1236902400</td>\n",
       "    </tr>\n",
       "    <tr>\n",
       "      <th>2</th>\n",
       "      <td>B00002N7HY</td>\n",
       "      <td>[0, 0]</td>\n",
       "      <td>4.0</td>\n",
       "      <td>It works, no fires, etc.  Why not 5 stars?  Ho...</td>\n",
       "      <td>01 7, 2014</td>\n",
       "      <td>AXE83MK90ZEVZ</td>\n",
       "      <td>Strom</td>\n",
       "      <td>expectations achieved.</td>\n",
       "      <td>1389052800</td>\n",
       "    </tr>\n",
       "    <tr>\n",
       "      <th>3</th>\n",
       "      <td>B00002NATH</td>\n",
       "      <td>[0, 0]</td>\n",
       "      <td>5.0</td>\n",
       "      <td>Fast shipping. Works great</td>\n",
       "      <td>07 20, 2014</td>\n",
       "      <td>A2J7X7ZIH2EWB1</td>\n",
       "      <td>None</td>\n",
       "      <td>Five Stars</td>\n",
       "      <td>1405814400</td>\n",
       "    </tr>\n",
       "    <tr>\n",
       "      <th>4</th>\n",
       "      <td>B00002NATH</td>\n",
       "      <td>[1, 1]</td>\n",
       "      <td>5.0</td>\n",
       "      <td>What can I say? It is the usual Leviton high q...</td>\n",
       "      <td>06 22, 2010</td>\n",
       "      <td>AJQFNOFTZ7GOX</td>\n",
       "      <td>Barthbill</td>\n",
       "      <td>good product at a good price.</td>\n",
       "      <td>1277164800</td>\n",
       "    </tr>\n",
       "  </tbody>\n",
       "</table>\n",
       "</div>"
      ],
      "text/plain": [
       "         asin helpful  overall  \\\n",
       "0  0970408285  [0, 0]      4.0   \n",
       "1  7301113188  [0, 0]      5.0   \n",
       "2  B00002N7HY  [0, 0]      4.0   \n",
       "3  B00002NATH  [0, 0]      5.0   \n",
       "4  B00002NATH  [1, 1]      5.0   \n",
       "\n",
       "                                          reviewText   reviewTime  \\\n",
       "0  Could have been longer though. well made and e...  12 16, 2013   \n",
       "1  I like these containers so much i have ordered...  03 13, 2009   \n",
       "2  It works, no fires, etc.  Why not 5 stars?  Ho...   01 7, 2014   \n",
       "3                         Fast shipping. Works great  07 20, 2014   \n",
       "4  What can I say? It is the usual Leviton high q...  06 22, 2010   \n",
       "\n",
       "       reviewerID                      reviewerName  \\\n",
       "0  A27HOWZBUBJ8FF                             Steve   \n",
       "1  A24HQ894NFSTF5  Maha Saqfalhait \"shopaholic! ;)\"   \n",
       "2   AXE83MK90ZEVZ                             Strom   \n",
       "3  A2J7X7ZIH2EWB1                              None   \n",
       "4   AJQFNOFTZ7GOX                         Barthbill   \n",
       "\n",
       "                             summary  unixReviewTime  \n",
       "0                           Good fit      1387152000  \n",
       "1  I Love the Freezer storage line..      1236902400  \n",
       "2             expectations achieved.      1389052800  \n",
       "3                         Five Stars      1405814400  \n",
       "4      good product at a good price.      1277164800  "
      ]
     },
     "execution_count": 20,
     "metadata": {},
     "output_type": "execute_result"
    }
   ],
   "source": [
    "# get the reviews data\n",
    "# read the json reviews_appliances file\n",
    "reviews_file = \"/Users/gracechongzuting/Documents/revision_daily/PySpark+PyML/reviews_Appliances.json.gz\"\n",
    "\n",
    "# Replace single quotes with double quotes\n",
    "with gzip.open(reviews_file, 'rt') as file:\n",
    "    for line in file:\n",
    "        pass\n",
    "        # print(line.replace(\"'\", '\"'), end='')\n",
    "\n",
    "# Read in the reviews file as a DataFrame\n",
    "reviews_df = spark.read.json(reviews_file)\n",
    "# create pandas dataframe\n",
    "reviews_df = reviews_df.toPandas()\n",
    "reviews_df.head(5)\n",
    "\n"
   ]
  },
  {
   "cell_type": "code",
   "execution_count": 21,
   "id": "6166fb78",
   "metadata": {},
   "outputs": [
    {
     "data": {
      "text/html": [
       "<div>\n",
       "<style scoped>\n",
       "    .dataframe tbody tr th:only-of-type {\n",
       "        vertical-align: middle;\n",
       "    }\n",
       "\n",
       "    .dataframe tbody tr th {\n",
       "        vertical-align: top;\n",
       "    }\n",
       "\n",
       "    .dataframe thead th {\n",
       "        text-align: right;\n",
       "    }\n",
       "</style>\n",
       "<table border=\"1\" class=\"dataframe\">\n",
       "  <thead>\n",
       "    <tr style=\"text-align: right;\">\n",
       "      <th></th>\n",
       "      <th>asin</th>\n",
       "      <th>reviewerID</th>\n",
       "      <th>score</th>\n",
       "    </tr>\n",
       "  </thead>\n",
       "  <tbody>\n",
       "    <tr>\n",
       "      <th>0</th>\n",
       "      <td>0970408285</td>\n",
       "      <td>A27HOWZBUBJ8FF</td>\n",
       "      <td>4.0</td>\n",
       "    </tr>\n",
       "    <tr>\n",
       "      <th>1</th>\n",
       "      <td>7301113188</td>\n",
       "      <td>A24HQ894NFSTF5</td>\n",
       "      <td>5.0</td>\n",
       "    </tr>\n",
       "    <tr>\n",
       "      <th>2</th>\n",
       "      <td>B00002N7HY</td>\n",
       "      <td>AXE83MK90ZEVZ</td>\n",
       "      <td>4.0</td>\n",
       "    </tr>\n",
       "    <tr>\n",
       "      <th>3</th>\n",
       "      <td>B00002NATH</td>\n",
       "      <td>A2J7X7ZIH2EWB1</td>\n",
       "      <td>5.0</td>\n",
       "    </tr>\n",
       "    <tr>\n",
       "      <th>4</th>\n",
       "      <td>B00002NATH</td>\n",
       "      <td>AJQFNOFTZ7GOX</td>\n",
       "      <td>5.0</td>\n",
       "    </tr>\n",
       "  </tbody>\n",
       "</table>\n",
       "</div>"
      ],
      "text/plain": [
       "         asin      reviewerID  score\n",
       "0  0970408285  A27HOWZBUBJ8FF    4.0\n",
       "1  7301113188  A24HQ894NFSTF5    5.0\n",
       "2  B00002N7HY   AXE83MK90ZEVZ    4.0\n",
       "3  B00002NATH  A2J7X7ZIH2EWB1    5.0\n",
       "4  B00002NATH   AJQFNOFTZ7GOX    5.0"
      ]
     },
     "execution_count": 21,
     "metadata": {},
     "output_type": "execute_result"
    }
   ],
   "source": [
    "# extract the columns we need, asin, reviewerID and overall\n",
    "reviews_df = reviews_df[['asin', 'reviewerID', 'overall']]\n",
    "# rename the column 'overall' to 'score'\n",
    "reviews_df = reviews_df.rename(columns={'overall': 'score'})\n",
    "# print the dataframe\n",
    "\n",
    "reviews_df.head(5)\n",
    "\n"
   ]
  },
  {
   "cell_type": "code",
   "execution_count": 22,
   "id": "89631e17",
   "metadata": {},
   "outputs": [
    {
     "name": "stdout",
     "output_type": "stream",
     "text": [
      "+----------+--------------+-----+\n",
      "|      asin|    reviewerID|score|\n",
      "+----------+--------------+-----+\n",
      "|0970408285|A27HOWZBUBJ8FF|  4.0|\n",
      "|7301113188|A24HQ894NFSTF5|  5.0|\n",
      "|B00002N7HY| AXE83MK90ZEVZ|  4.0|\n",
      "|B00002NATH|A2J7X7ZIH2EWB1|  5.0|\n",
      "|B00002NATH| AJQFNOFTZ7GOX|  5.0|\n",
      "+----------+--------------+-----+\n",
      "only showing top 5 rows\n",
      "\n"
     ]
    }
   ],
   "source": [
    "# create spark dataframe of reviews_df\n",
    "\n",
    "reviews_sdf = spark.createDataFrame(reviews_df)\n",
    "reviews_sdf.show(5)"
   ]
  },
  {
   "cell_type": "code",
   "execution_count": 23,
   "id": "3121c77f",
   "metadata": {},
   "outputs": [
    {
     "name": "stdout",
     "output_type": "stream",
     "text": [
      "+----------+--------------+-----+----------+-----------------+\n",
      "|      asin|    reviewerID|score|asin_index|reviewer_id_index|\n",
      "+----------+--------------+-----+----------+-----------------+\n",
      "|0970408285|A27HOWZBUBJ8FF|  4.0|    7177.0|          48631.0|\n",
      "|7301113188|A24HQ894NFSTF5|  5.0|    7178.0|          45922.0|\n",
      "|B00002N7HY| AXE83MK90ZEVZ|  4.0|    7179.0|         129653.0|\n",
      "|B00002NATH|A2J7X7ZIH2EWB1|  5.0|    1528.0|          59178.0|\n",
      "|B00002NATH| AJQFNOFTZ7GOX|  5.0|    1528.0|           8460.0|\n",
      "|B00002NATH|A3EIP4ZCGM0U67|  5.0|    1528.0|          87135.0|\n",
      "|B00002NATH|A18N8ND2CH5ZZB|  5.0|    1528.0|          17337.0|\n",
      "|B00002NATH|A35U08WK3LZ58G|  5.0|    1528.0|          79342.0|\n",
      "|B00002NATH|A2PMRZGUQQ6V6Q|  5.0|    1528.0|            955.0|\n",
      "|B00002NATH|A1BFPCIRWQ3WB9|  5.0|    1528.0|          19889.0|\n",
      "|B00002NATH|A2WQA5YPH8P4SB|  5.0|    1528.0|           5525.0|\n",
      "|B00002NATH|A2I0LO24RIAAGF|  5.0|    1528.0|          58084.0|\n",
      "|B00002NATH| AV5YX76EIQOOF|  5.0|    1528.0|         127614.0|\n",
      "|B00002NATH|A19O0FFCS9C5CZ|  4.0|    1528.0|          18255.0|\n",
      "|B00002NATH|A34KYPXEFZJTX1|  5.0|    1528.0|          78233.0|\n",
      "|B00002NATH|A3SAYXQXBE8OEQ|  5.0|    1528.0|          99315.0|\n",
      "|B00002NATH|A28H61YGBAM5RD|  4.0|    1528.0|          49488.0|\n",
      "|B00002NATH| AG7YL8LOLBCCM|  4.0|    1528.0|         114067.0|\n",
      "|B00004SQH5|A146NCUAVC06A8|  5.0|     323.0|          13330.0|\n",
      "|B00004SQH5|A2EZ2L3JKNGTZ6|  1.0|     323.0|          55415.0|\n",
      "+----------+--------------+-----+----------+-----------------+\n",
      "only showing top 20 rows\n",
      "\n"
     ]
    },
    {
     "name": "stderr",
     "output_type": "stream",
     "text": [
      "23/06/14 12:27:42 WARN DAGScheduler: Broadcasting large task binary with size 5.3 MiB\n"
     ]
    }
   ],
   "source": [
    "from pyspark.ml.evaluation import RegressionEvaluator\n",
    "from pyspark.ml.recommendation import ALS\n",
    "\n",
    "from pyspark.ml.feature import StringIndexer\n",
    "from pyspark.ml import Pipeline\n",
    "from pyspark.sql.functions import col\n",
    "\n",
    "\n",
    "# create indexer for asin and review_id column\n",
    "# purpose of indexer is to convert string to numeric\n",
    "asin_indexer = StringIndexer(inputCol=\"asin\", outputCol=\"asin_index\")\n",
    "reviewer_id_indexer = StringIndexer(inputCol=\"reviewerID\", outputCol=\"reviewer_id_index\")\n",
    "\n",
    "# create pipeline for indexer\n",
    "# purpose of pipeline is to fit the indexer\n",
    "indexer_pipeline = Pipeline(stages=[asin_indexer, reviewer_id_indexer])\n",
    "# fit the pipeline\n",
    "trans = indexer_pipeline.fit(reviews_sdf).transform(reviews_sdf)\n",
    "trans.show()\n",
    "\n",
    "\n",
    "\n",
    "\n",
    "\n"
   ]
  },
  {
   "cell_type": "code",
   "execution_count": 24,
   "id": "01b081ec",
   "metadata": {},
   "outputs": [
    {
     "name": "stderr",
     "output_type": "stream",
     "text": [
      "23/06/14 12:27:43 WARN DAGScheduler: Broadcasting large task binary with size 5.3 MiB\n",
      "23/06/14 12:27:43 WARN DAGScheduler: Broadcasting large task binary with size 5.3 MiB\n",
      "23/06/14 12:27:44 WARN DAGScheduler: Broadcasting large task binary with size 5.3 MiB\n",
      "23/06/14 12:27:44 WARN DAGScheduler: Broadcasting large task binary with size 5.3 MiB\n",
      "23/06/14 12:27:45 WARN DAGScheduler: Broadcasting large task binary with size 5.3 MiB\n",
      "23/06/14 12:27:46 WARN DAGScheduler: Broadcasting large task binary with size 5.3 MiB\n",
      "23/06/14 12:27:46 WARN DAGScheduler: Broadcasting large task binary with size 5.3 MiB\n",
      "23/06/14 12:27:46 WARN InstanceBuilder: Failed to load implementation from:dev.ludovic.netlib.blas.JNIBLAS\n",
      "23/06/14 12:27:46 WARN InstanceBuilder: Failed to load implementation from:dev.ludovic.netlib.blas.VectorBLAS\n",
      "23/06/14 12:27:47 WARN DAGScheduler: Broadcasting large task binary with size 5.3 MiB\n",
      "23/06/14 12:27:48 WARN DAGScheduler: Broadcasting large task binary with size 5.3 MiB\n",
      "23/06/14 12:27:49 WARN DAGScheduler: Broadcasting large task binary with size 5.3 MiB\n",
      "23/06/14 12:27:49 WARN DAGScheduler: Broadcasting large task binary with size 5.3 MiB\n",
      "23/06/14 12:27:50 WARN DAGScheduler: Broadcasting large task binary with size 5.3 MiB\n",
      "23/06/14 12:27:50 WARN DAGScheduler: Broadcasting large task binary with size 5.3 MiB\n",
      "23/06/14 12:27:51 WARN DAGScheduler: Broadcasting large task binary with size 5.3 MiB\n",
      "23/06/14 12:27:51 WARN DAGScheduler: Broadcasting large task binary with size 5.3 MiB\n",
      "23/06/14 12:27:52 WARN DAGScheduler: Broadcasting large task binary with size 5.3 MiB\n",
      "23/06/14 12:27:53 WARN DAGScheduler: Broadcasting large task binary with size 5.3 MiB\n",
      "23/06/14 12:27:53 WARN DAGScheduler: Broadcasting large task binary with size 5.3 MiB\n"
     ]
    }
   ],
   "source": [
    "# als is used for collaborative filtering \n",
    "# coldStartStrategy is used to drop rows in dataframe that contains NaN values  \n",
    "# regParam is used to regularize the model in order to prevent overfitting , 0.01 means 1% of the data is used for regularization\n",
    "# regularization is used to prevent overfitting\n",
    "# the higher the regParam, the more regularization is used\n",
    "# a good regParam is between 0.01 to 0.1\n",
    "# rank is the number of latent factors in the model, the higher the rank, the more accurate the model is\n",
    "# a good rank is between 10 to 200  , by default rank is 10\n",
    "# nonnegative is used to prevent negative values in the model\n",
    "als = ALS(maxIter=5, rank=VECTOR_DIM, regParam=0.09, userCol=\"reviewer_id_index\", itemCol=\"asin_index\", ratingCol=\"score\",\n",
    "            coldStartStrategy=\"drop\", nonnegative=True)\n",
    "\n",
    "# fit the model\n",
    "model = als.fit(trans)    \n",
    "\n"
   ]
  },
  {
   "cell_type": "code",
   "execution_count": 25,
   "id": "375a20d5",
   "metadata": {},
   "outputs": [
    {
     "name": "stderr",
     "output_type": "stream",
     "text": [
      "23/06/14 12:27:54 WARN DAGScheduler: Broadcasting large task binary with size 5.3 MiB\n"
     ]
    },
    {
     "data": {
      "text/plain": [
       "11402"
      ]
     },
     "execution_count": 25,
     "metadata": {},
     "output_type": "execute_result"
    }
   ],
   "source": [
    "# now, we count the itemfactor of the model\n",
    "# purpose of itemfactor is to get the latent factors of the model\n",
    "# latent factors are the hidden features that the model has learned from the original data\n",
    "\n",
    "\n",
    "model.itemFactors.count()"
   ]
  },
  {
   "cell_type": "code",
   "execution_count": 26,
   "id": "aa7e26e4",
   "metadata": {},
   "outputs": [
    {
     "name": "stderr",
     "output_type": "stream",
     "text": [
      "23/06/14 12:27:55 WARN DAGScheduler: Broadcasting large task binary with size 5.3 MiB\n",
      "23/06/14 12:27:55 WARN DAGScheduler: Broadcasting large task binary with size 5.3 MiB\n",
      "23/06/14 12:27:56 WARN DAGScheduler: Broadcasting large task binary with size 5.3 MiB\n",
      "23/06/14 12:27:57 WARN DAGScheduler: Broadcasting large task binary with size 5.3 MiB\n",
      "23/06/14 12:27:59 WARN DAGScheduler: Broadcasting large task binary with size 5.4 MiB\n",
      "23/06/14 12:28:00 WARN DAGScheduler: Broadcasting large task binary with size 5.4 MiB\n",
      "23/06/14 12:28:00 WARN DAGScheduler: Broadcasting large task binary with size 5.3 MiB\n"
     ]
    },
    {
     "name": "stdout",
     "output_type": "stream",
     "text": [
      "Root-mean-square error = 0.17475017098658413\n"
     ]
    },
    {
     "name": "stderr",
     "output_type": "stream",
     "text": [
      "23/06/14 12:28:01 WARN DAGScheduler: Broadcasting large task binary with size 5.3 MiB\n",
      "23/06/14 12:28:01 WARN DAGScheduler: Broadcasting large task binary with size 5.3 MiB\n",
      "23/06/14 12:28:03 WARN DAGScheduler: Broadcasting large task binary with size 5.3 MiB\n",
      "[Stage 168:======>          (3 + 5) / 8][Stage 170:>                (0 + 1) / 1]\r"
     ]
    },
    {
     "name": "stdout",
     "output_type": "stream",
     "text": [
      "+----------+--------------+-----+----------+-----------------+----------+\n",
      "|      asin|    reviewerID|score|asin_index|reviewer_id_index|prediction|\n",
      "+----------+--------------+-----+----------+-----------------+----------+\n",
      "|B004Q0OZ6U|A3TAS1AG6FMBQW|  3.0|    4935.0|            108.0| 3.1065826|\n",
      "|B000MYI3O4|A1W4I5VZN50GRT|  5.0|    1829.0|            688.0| 4.9323006|\n",
      "|B00482E3F4|A1MGJEVWBTK1N4|  1.0|    1342.0|           2874.0| 0.9766384|\n",
      "|B002AC705O|A1RGHXPNCLN9YR|  5.0|     833.0|           3173.0|  4.930901|\n",
      "|B000H2P05Q|A29JLOKP40NEAM|  5.0|     148.0|           4200.0|  4.604648|\n",
      "|B000H2P05Q|A2QZB3WHWL4NFJ|  5.0|     148.0|           5212.0|   4.63803|\n",
      "|B004ZI1HZA|A3BXHE4PJ4J2QW|  1.0|    6336.0|           6396.0| 1.0228662|\n",
      "|B000EMNKOC|A3D3E1LXIEEXYC|  3.0|    7340.0|           6476.0|  2.990402|\n",
      "|B000H2P05Q| AMFXXAOVV4CPJ|  4.0|     148.0|           8622.0| 3.8388288|\n",
      "|B0050O1X3O| ASKK1IE5Y22TC|  4.0|    6357.0|           8997.0| 4.0084815|\n",
      "|B000H2P05Q|A1DY2XW075S22N|  5.0|     148.0|          22064.0| 4.7893424|\n",
      "|B001F86EW4|A1E14GABQXWX5Y|  5.0|    1645.0|          22135.0| 4.9265323|\n",
      "|B00482E3F4|A1EJB7OO5RE57W|  4.0|    1342.0|          22609.0| 3.9370818|\n",
      "|B005D9TMM0| A1EX9KLL6JF43|  1.0|    1591.0|          22970.0| 0.9715035|\n",
      "|B001DPOAHU|A1KA9YABD276SR|  5.0|     463.0|          27745.0|  4.952469|\n",
      "|B001UOUNNY|A1MKLWR48L358L|  1.0|    3918.0|          29853.0|0.96402943|\n",
      "|B00147HAAQ| A1MVH3C8ZJWWK|  5.0|    2122.0|          30120.0| 4.9157023|\n",
      "|B001F86EW4|A1O9XQLBFC3SNL|  1.0|    1645.0|          31381.0| 0.9853067|\n",
      "|B002GQQWYY|A1SMO7HMAVJCP0|  1.0|     496.0|          35211.0|0.95448875|\n",
      "|B0008F6DR6|A1UEZFM4KAL3L4|  5.0|    1238.0|          36883.0|  4.960563|\n",
      "+----------+--------------+-----+----------+-----------------+----------+\n",
      "only showing top 20 rows\n",
      "\n"
     ]
    },
    {
     "name": "stderr",
     "output_type": "stream",
     "text": [
      "                                                                                \r"
     ]
    }
   ],
   "source": [
    "# next, we evaluate the regression model\n",
    "\n",
    "# create evaluator for regression\n",
    "# prediction column represents the predicted score\n",
    "# score column represents the actual score\n",
    "\n",
    "\n",
    "evaluate_als = RegressionEvaluator(metricName=\"rmse\", labelCol=\"score\", predictionCol=\"prediction\")\n",
    "predict = model.transform(trans)\n",
    "rmse = evaluate_als.evaluate(predict)\n",
    "print(\"Root-mean-square error = \" + str(rmse))\n",
    "predict.show()\n"
   ]
  },
  {
   "cell_type": "code",
   "execution_count": 27,
   "id": "a0e52b25",
   "metadata": {},
   "outputs": [
    {
     "name": "stdout",
     "output_type": "stream",
     "text": [
      "+----------+--------------------+----------------+---------------+\n",
      "|asin_index|        model_vector|   model_version|model_timestamp|\n",
      "+----------+--------------------+----------------+---------------+\n",
      "|         0|[0.21924263, 0.28...|ALS_48482ac4832a|     1686716884|\n",
      "|        10|[0.25532573, 0.10...|ALS_48482ac4832a|     1686716884|\n",
      "|        20|[0.16128449, 0.15...|ALS_48482ac4832a|     1686716884|\n",
      "+----------+--------------------+----------------+---------------+\n",
      "only showing top 3 rows\n",
      "\n"
     ]
    },
    {
     "name": "stderr",
     "output_type": "stream",
     "text": [
      "23/06/14 12:28:04 WARN DAGScheduler: Broadcasting large task binary with size 5.3 MiB\n"
     ]
    }
   ],
   "source": [
    "from pyspark.sql.functions import lit, current_timestamp , unix_timestamp\n",
    "from pyspark.ml.feature import IndexToString\n",
    "# lit is used to create a new column with a constant value\n",
    "# current timestamp is used to get the current timestamp\n",
    "# unix timestamp is used to convert the timestamp to unix timestamp\n",
    "\n",
    "version = model.uid\n",
    "unix_time = unix_timestamp(current_timestamp())\n",
    "product_vector = model.itemFactors.select(\"id\", \"features\") \\\n",
    "    .withColumnRenamed(\"id\", \"asin_index\") \\\n",
    "    .withColumnRenamed(\"features\", \"model_vector\") \\\n",
    "    .withColumn(\"model_version\", lit(version)) \\\n",
    "    .withColumn(\"model_timestamp\", unix_time)\n",
    "\n",
    "# Show the DataFrame\n",
    "product_vector.show(3)\n",
    "\n",
    "# how does model_vector helps in recommendation?\n",
    "# The model vector captures latent factors that are not explicitly specified but are learned by the recommendation model during training. \n",
    "# These latent factors can represent various characteristics of the item, such as its genre, style, popularity\n",
    "# measuring the distance or similarity between model vectors, \n",
    "# the recommendation system can identify items that are similar to each other. Items with similar model vectors are likely to share common characteristics\n",
    "# The model vector serves as a representation of user preferences, enabling the system to match items with user profiles.\n",
    "# The model vector also helps address the cold-start problem, where there is limited or no historical data for new items or new users. In such cases, the model vector can be used to estimate the characteristics or features of new items based on their attributes.\n"
   ]
  },
  {
   "cell_type": "code",
   "execution_count": 28,
   "id": "f34afa7d",
   "metadata": {},
   "outputs": [
    {
     "name": "stdout",
     "output_type": "stream",
     "text": [
      "[{'ml_attr': {'vals': ['B000AST3AK', 'B000UW2DTE', 'B001XW8KW4', 'B000DZGN7Q', 'B0006MQCA4', 'B000KI3O1O', 'B0002UMYDE', 'B0014X7B54', 'B000SX4C7Q', 'B0009793KC', 'B003N1ZSYG', 'B001TJ3J9K', 'B00004U9JO', 'B001TJ5380', 'B000G837TW', 'B000O3I2CG', 'B00E37TQLA', 'B005MMSTNG', 'B001BOTNCU', 'B0042ACZU2', 'B000NCTOUM', 'B0045LLC7K', 'B002UYSHMM', 'B000UW3RK8', 'B0049IA8QK', 'B004W5WAMU', 'B004RQDY60', 'B001DHKBXU', 'B007NXPAQG', 'B004I08CEO', 'B0029CZQIS', 'B000BTDNEK', 'B001DHLGOS', 'B000HE5DNI', 'B00DM8J11Q', 'B00E37TQRO', 'B002C8HR9A', 'B0002YTLZY', 'B002A0KB3Y', 'B001DPXZBM', 'B004JV8ZUS', 'B001BORKYS', 'B004MX8XO6', 'B001DPOMMI', 'B000RDAORO', 'B00CBG2K7C', 'B0089VAAF2', 'B00126NABC', 'B00074TB9U', 'B004DNWVOI', 'B0042U16YI', 'B003BIGDLI', 'B002MPLYEW', 'B0032AMC4C', 'B0002GTTRC', 'B0007W1EA6', 'B002JAKRAM', 'B000FFIYEE', 'B0017Y3GGI', 'B00AW04ZMM', 'B000KFZEBK', 'B00067YLKW', 'B0007ZYUAE', 'B005AR76M8', 'B005GM942C', 'B001ICYB2M', 'B0053F80JA', 'B004H3XQPM', 'B00006IV17', 'B0007VWEQA', 'B001BADJCE', 'B001T6DB4Q', 'B000HJVYDQ', 'B004MCC68G', 'B0032AMC6K', 'B0089VAAIY', 'B004WSAHE0', 'B0002HMNZ6', 'B001UIBMUI', 'B001ONHN02', 'B005B9CI96', 'B00004XSF9', 'B004XLDHSE', 'B00062ASSG', 'B003BIGDJ0', 'B004R7S9I2', 'B000CMHLMG', 'B003BIGDN6', 'B003SQ7I5S', 'B0053F7UIM', 'B00004U9JP', 'B0065O63BK', 'B004XLDE5A', 'B000DZFTC6', 'B0002TSA8I', 'B0002KXMT4', 'B004N4MSPO', 'B00005O64S', 'B005Q3VXDY', 'B002HT0958', 'B004XLDEAU', 'B001DHKDOW', 'B00009W3PA', 'B0000DK356', 'B000A7QJKI', 'B00470A1S0', 'B003E1W9G0', 'B00407ZHSO', 'B000E77I0Y', 'B0041SXMUM', 'B005ARC4KW', 'B000N6302Q', 'B001B35APA', 'B001BA1HH8', 'B000I5SFSG', 'B001AT2ALM', 'B00A8O0FG2', 'B0001WW2FI', 'B000UT6A5K', 'B0014DZ2YG', 'B002GEDBIG', 'B001COSAW8', 'B0000DIX6G', 'B000WOG90E', 'B003BIGDEA', 'B0053F8W2K', 'B00DM8K72S', 'B000CQXZTA', 'B00064NX68', 'B001DPFMB8', 'B008E1P5YS', 'B000STBY26', 'B0032AMC60', 'B000QDU8JE', 'B001B2VMQM', 'B003BIGDB8', 'B004H3XWCO', 'B000GX34AE', 'B004I57XZ8', 'B0050KKS5C', 'B006H7HB7K', 'B001FDV410', 'B000C173W0', 'B0056I99WG', 'B000BV6D5O', 'B0051S4ZZM', 'B000AO1G72', 'B000GGO14Y', 'B000H2P05Q', 'B00266BXV6', 'B003BIGD72', 'B003PEBFU2', 'B000BQWXG2', 'B001CCK5HS', 'B000BOB1FI', 'B003BIGDEU', 'B008KFI1HQ', 'B00005OU6T', 'B002DUCEMM', 'B00004W4UJ', 'B001AKCLVK', 'B003BIGD4U', 'B004DNWVPM', 'B002P3YRAY', 'B003UV8OC2', 'B004XLE3DC', 'B00CBGPCAY', 'B002ZNNE12', 'B004H3XSYG', 'B000BQWLE6', 'B001DEEU1C', 'B000UWGLGU', 'B0017Y8X3O', 'B003BIGD8Q', 'B0049PMUP0', 'B004H3XPQW', 'B0009H7AAM', 'B007HDDMNK', 'B000R9ABP8', 'B0049POOKE', 'B004PBB1JE', 'B000VBLBUG', 'B00GN92KQ4', 'B00AHB0WPK', 'B000VLI74Y', 'B0039V7JFG', 'B0001WNCKW', 'B001TIZKIY', 'B0052F5NB4', 'B005BNMVEY', 'B0067UXO0A', 'B000FNJ5RG', 'B0026RI3TK', 'B0000WM2IG', 'B000I5SETG', 'B00C0YPJZU', 'B0000TN7NS', 'B002QUAPSO', 'B005ARCBGY', 'B005KT4LK6', 'B00AF7U1F2', 'B00153KVYG', 'B0032AMC6A', 'B0032HJDHY', 'B00004TBJT', 'B005OK12HQ', 'B000VL060M', 'B003XZQR5Q', 'B0002TSA8S', 'B000SB4O8U', 'B0015UGPWQ', 'B001769IVI', 'B001DPR7OI', 'B001UYZ9EC', 'B003M5L284', 'B003RC9TNC', 'B0050KJJWK', 'B00DM8LZAQ', 'B000AOL0M8', 'B001DHGJ9K', 'B005AR74L6', 'B0013V1T2I', 'B001XZ03PS', 'B008YDTFYW', 'B00ANL7Q6M', 'B0002HMO1E', 'B0002JOZNM', 'B000PJ5TFC', 'B001JEOIFY', 'B0053F9V20', 'B005B5RXL8', 'B007B64O0S', 'B0093NFXJI', 'B009SSGDHE', 'B0000AYKNT', 'B001AHASV8', 'B001DPSP1C', 'B003673GVE', 'B005EJ7YO2', 'B0089VAAFM', 'B0025U0XCS', 'B004BVRAHK', 'B005BQRK1U', 'B00CDWTQKI', 'B000BQ7QLE', 'B001CWGP2C', 'B00A3H2GNO', 'B0047VZIE6', 'B004I9Y5X2', 'B0013BWBCU', 'B002JGOGA8', 'B004H3XVKM', 'B000GB3CBC', 'B003LVXD6I', 'B0076OW80S', 'B005AR70O2', 'B006R8A28E', 'B008YDS7WS', 'B000FNKV1K', 'B001ONHE8S', 'B002ZNPA7I', 'B003BIGDHW', 'B0052SUOYC', 'B00B4VY578', 'B000N66I8O', 'B000THKV4O', 'B00308TCL2', 'B002ZNCATE', 'B002ZNCBRA', 'B00434YUBO', 'B004RPQ4MM', 'B000HM9MBY', 'B000VGX4TM', 'B000Y8WREU', 'B001AAEG6S', 'B001PIAPP6', 'B004F1NJEE', 'B005AR75A6', 'B0044FL7SG', 'B001882ZD8', 'B0002HMO00', 'B000PCS1SQ', 'B001XZ047U', 'B0028BAAWW', 'B004H3XWPG', 'B000UVYNLQ', 'B004HIIFW6', 'B00DM8JA8A', 'B00E4O0R3I', 'B001AAHW78', 'B001DHPCIO', 'B001E6HVOC', 'B0053F7P6E', 'B00DM8M9JC', 'B000KKR8ZK', 'B001DPXY40', 'B003BIGD36', 'B003XS3UDK', 'B0076OW93Y', 'B00ASVHRSY', 'B0013FHY4Q', 'B00DM8JBZW', 'B00018ALEQ', 'B0002GD194', 'B000AO1G2W', 'B001DPOZWU', 'B001AAEGBI', 'B001DPFP88', 'B008XM3CAW', 'B00004TBK4', 'B0006OQCLG', 'B000N4NO4C', 'B000PS8J64', 'B001DHGE6I', 'B001ICQSH8', 'B0028Y4C50', 'B003XRA3CM', 'B0048GD8RY', 'B004H3XUEE', 'B005G4GSJC', 'B005HFB65Q', 'B007NRQVMO', 'B00ALO5MQC', 'B00004SQH5', 'B0008EZKCQ', 'B000R8UM76', 'B000R9ABQC', 'B001CWDZYI', 'B002YTQBGM', 'B003NUHI5O', 'B0052WEFR0', 'B005NC9S26', 'B000CCINKK', 'B003E1OAOO', 'B0053F91I4', 'B00005AUHX', 'B000UVWGGK', 'B001DEEV4S', 'B001ECQ1YM', 'B002Y2S536', 'B002ZNNJPI', 'B003O4QDWS', 'B0052FXC9Y', 'B00009W3HD', 'B001BOBZSK', 'B0051MT20G', 'B000AMGV9W', 'B005NS0VNU', 'B007KMGMX0', 'B0025ZI07I', 'B00308VHME', 'B004QQ2TJE', 'B008YDSFR0', 'B00DZU7IS4', 'B00IY7BNUW', 'B000IN0KUO', 'B001B4E0VY', 'B001FG3C1C', 'B0027DW4QG', 'B005B5RDLS', 'B000NKDMM0', 'B001AAAZ1I', 'B002MYZ106', 'B004GN9EH2', 'B005B9EABU', 'B000EEX5UY', 'B000HMBPKA', 'B000P75DWS', 'B0034BOAYY', 'B004GF1WMK', 'B0052QXY5K', 'B005NK21MM', 'B000FNJ5TO', 'B000GF5DR4', 'B000PSC0QE', 'B000QJDCKU', 'B001TH7GZA', 'B003BNZ4XQ', 'B003MU95X8', 'B00AMF7X2G', 'B00DM8JIOQ', 'B00006WNO8', 'B00093DU5A', 'B000FFS0V6', 'B000FNP39A', 'B000P9BY2E', 'B000UEX256', 'B0015YQV8K', 'B001QGIPG8', 'B002765KFK', 'B0030LZBFA', 'B003BIGD7W', 'B003KHEABK', 'B003XEF7DK', 'B004443WHG', 'B0050O2I9M', 'B00BJPXXEA', 'B000LNOODA', 'B0013E9OJK', 'B0013LO0F6', 'B003BIGDK4', 'B004FO8JZ0', 'B0050KK1UY', 'B000FNJ5N0', 'B000KKMFB2', 'B001DPX594', 'B003E1OAQC', 'B004WP4CV2', 'B00DM8KJSA', 'B004XLDVO4', 'B005BA24S0', 'B00GIR1Z4Y', 'B000674526', 'B000HJ72WS', 'B000R9CFL6', 'B003JSUNGG', 'B0051OKX2U', 'B008VGQ2PM', 'B00CFJMRLY', 'B00CHK3SAK', 'B000BQ7WE0', 'B000K7Q2E6', 'B000WIIACU', 'B00204JTNI', 'B002ULA4N0', 'B004HIGJJ2', 'B004YD9HSK', 'B0053Y37CG', 'B0085ZJ300', 'B00DM8JMNS', 'B00E4O0R10', 'B0000CEL23', 'B000GGTI6K', 'B000NKJCIS', 'B000VTW3KA', 'B001SAFQ8C', 'B002MYXDCO', 'B004XLDH84', 'B0053Y34GK', 'B00AH5ZKH6', 'B000IF3VVM', 'B001DHNTXO', 'B0041J411K', 'B008UEJS7Y', 'B0006FKJD2', 'B000FPDHKA', 'B000M2JXVS', 'B003DA62RO', 'B003RCBX4K', 'B005R597HA', 'B0075WD256', 'B008XM677W', 'B009WSPRUE', 'B00AB8NOLS', 'B0009GZLZY', 'B003IVGJBC', 'B004ULVFTA', 'B008LUNT2W', 'B008LUOB3I', 'B008S922UG', 'B009SK5MWO', 'B00DZUA1GU', 'B001AAEG7M', 'B001DPOAHU', 'B001NOGK7Y', 'B0024IAQ9G', 'B0049H3ZRA', 'B00DM8K1NS', 'B000050AP4', 'B000FNR6X6', 'B000FSQTSE', 'B000JQN7SC', 'B0011YJE7E', 'B001IYMRHG', 'B001K5M1UQ', 'B001QW3FIK', 'B003NSFBLY', 'B0046X5ZC0', 'B0050O1JG0', 'B005BNMWCA', 'B0006TIEXK', 'B0009GVYNW', 'B000GFCN1I', 'B000UOCO8M', 'B001132UEE', 'B002ACHJF0', 'B002ZNGDHE', 'B00570QEZI', 'B008B7ZWFW', 'B00C0YPJIW', 'B00DM8JFIK', 'B000BQW5OC', 'B0016ZWS5I', 'B001BO8CUE', 'B001P5XT8O', 'B00294O77W', 'B002GQQWYY', 'B002TEDM50', 'B003GX8NPM', 'B004L7NC94', 'B004PILT0I', 'B004ULZC8U', 'B004WA88GC', 'B004XLDCM0', 'B008A9PGUM', 'B00BGUCUPQ', 'B000056JFC', 'B0006OJ2AE', 'B0009XCGWS', 'B000CIMJKY', 'B000H433D0', 'B001AXMGS0', 'B001KURV0G', 'B002ZNI9AS', 'B003BIGDCC', 'B003BIGDIG', 'B003JN51PE', 'B003ZVE0DY', 'B0043X1BAS', 'B004K6LOR8', 'B00AYBL3H4', 'B00DM8KM82', 'B00IZ5HL3G', 'B000WU6N0Y', 'B0011YOEGA', 'B001U0OJ7E', 'B002ZNC8XW', 'B003BIGDLS', 'B0045LQCEI', 'B004CJCXAU', 'B004EZT38M', 'B004F1Q8G0', 'B004H3XWQU', 'B0057APR3I', 'B005M2F07E', 'B0075WD1ZC', 'B00EO8ALPS', 'B000CMFKOC', 'B0019R6ACA', 'B002C03HPQ', 'B002VFF42G', 'B002ZNFZV4', 'B002ZNGBJE', 'B002ZNLMV6', 'B00308ZVNK', 'B003BSKI6O', 'B003BSNS70', 'B003MNEPYE', 'B003RC9U6S', 'B004132GZE', 'B0047W7RPS', 'B004FRZ45K', 'B0053F8WRA', 'B000BI40UM', 'B000HJD9NE', 'B000VUM75K', 'B000ZIMOJ2', 'B001E0K4XS', 'B002916U7K', 'B0036V0UQY', 'B003891MU2', 'B003PJD37K', 'B00471OP0E', 'B0050O230G', 'B009EN2VX8', 'B00DJVIU18', 'B00DM8JMJM', 'B00DM8KXUO', 'B00DM8LAI8', 'B0002GTTOU', 'B0019MOKY0', 'B001E0LM66', 'B001VCOSCW', 'B00290VZ2G', 'B002GZAWQ4', 'B002LSO9WE', 'B002OBTC20', 'B002VNEZX2', 'B005B489US', 'B0087PJE20', 'B008I6TZRM', 'B00GMLMJRS', 'B000NPH9QA', 'B000XXYUSM', 'B001DIBX8G', 'B001HK16SM', 'B0050O1MQC', 'B00569NRI2', 'B005M393OO', 'B006YGD4MA', 'B007KDYL5A', 'B007ZDH6L6', 'B00DZU7DT8', 'B0009GVZKO', 'B0009H606C', 'B000CC66KO', 'B000HJGKNA', 'B000I5SEWS', 'B000OY3AFE', 'B001AAEGAE', 'B001DECKHI', 'B001DPPX58', 'B001KYE1PA', 'B002ZNG752', 'B002ZNI7JQ', 'B00304Z3R8', 'B0053F9CME', 'B0069VH5QG', 'B009OYENAG', 'B001D20V4E', 'B001I1BMIE', 'B001TIYKGC', 'B003BIGDNG', 'B0041OMP86', 'B00471MQ14', 'B004L44EVC', 'B004QQ6C24', 'B00545AUUG', 'B00AF7U2SI', 'B00004SQHH', 'B000BQOWES', 'B000FNJ5OO', 'B0016LFWFK', 'B001B9W1U6', 'B001BAIKHS', 'B001DPS8ZU', 'B0025YF4ZU', 'B0027E8EXC', 'B0033Y0VZ4', 'B003AKGOIY', 'B004JNU22A', 'B0050KLDB0', 'B005B9C97M', 'B00BJBBIR8', 'B00DM8L056', 'B00E0CVTA4', 'B001DHGG20', 'B001KGX5G4', 'B001TH7H1S', 'B00303XBDM', 'B0036UTZL6', 'B0037X9990', 'B003BIGDKO', 'B00570RKTW', 'B005ARC2E0', 'B008M2IQFO', 'B00DM8L18C', 'B00ESL8HRU', 'B00009V3UA', 'B000EOM6Z4', 'B000HE6EOA', 'B000Q1DB72', 'B001DHLCAQ', 'B0025VK2MS', 'B003GF77TS', 'B004H3XVWK', 'B004XLEK3U', 'B007FGGLAK', 'B0084IXCN2', 'B008B8045E', 'B00DM8JUK8', 'B00DM8KADE', 'B00EDS29GI', 'B00GVKIYHE', 'B000FNJ5SU', 'B000YZU0QA', 'B001AAEGB8', 'B001DPUSS0', 'B002GDAY4Q', 'B003JN530M', 'B004138F40', 'B00545AU92', 'B005GWVD2G', 'B007Q0WCM6', 'B00ECV4KJ0', 'B0000AYKNR', 'B000N7MYEU', 'B000XYOUBS', 'B0015YK6CC', 'B0016GTAWQ', 'B0018DYWFM', 'B001DPHVRG', 'B00239OZ2A', 'B0027U9LH4', 'B002LVUIL2', 'B002Q4U1G6', 'B002YT7YL8', 'B004H3XX1Y', 'B0050O2E82', 'B00545ANEY', 'B005B9CUD0', 'B005BA4RNK', 'B005HK6OP8', 'B006LZQZPW', 'B007K1NT82', 'B00910TZNI', 'B00DM8L8DK', 'B00EQ7Y4KK', 'B0000DD1ST', 'B0002Z1EXA', 'B000FKF5SW', 'B0012RTF2Y', 'B00132KZYK', 'B00207Q6OA', 'B003GF1I98', 'B003NDS2EM', 'B003US9ZS2', 'B004RPXRJA', 'B0052EVQZC', 'B00545B2R6', 'B00DZU7DJI', 'B00KGHWL4U', 'B00006JKZX', 'B000NQC0RW', 'B0010EEVR8', 'B001AAEG5O', 'B001AQI7P8', 'B001DIFSGO', 'B001XTNW66', 'B002ICF5AI', 'B002LGQLZE', 'B0035WN3IG', 'B0039UX1P4', 'B0049I2NPY', 'B0049PPNX6', 'B004D9910Y', 'B004H3XV34', 'B004XLDKHM', 'B004XLEJ7M', 'B007RWOUSM', 'B0085ZINPG', 'B008RL4OCY', 'B009PCI2JU', 'B00C8C5ISW', 'B000HZZC2Y', 'B000JQPMPI', 'B000UVYFPK', 'B000WTWZPC', 'B000Y901BA', 'B0010ZC6G0', 'B0013DN4NI', 'B001E6LAT4', 'B001IMTWZS', 'B002X9KTHK', 'B0049Q0FB0', 'B0053F9TLI', 'B005B48RUU', 'B005B9EG1Y', 'B007SV2CIC', 'B0092JSGXI', 'B00AO6TMXQ', 'B00B2GI5J4', 'B00DZU8M9I', 'B0000AYKNU', 'B000BPNLM8', 'B000RHWXEM', 'B000UVYEOM', 'B001DHLFMG', 'B001PDGFR8', 'B001SUDJIQ', 'B001TIUNI6', 'B0024IGZ7S', 'B002ACBDL6', 'B002NFM53A', 'B002OIEOCG', 'B002QSXK60', 'B0034IQKJU', 'B003LJTD50', 'B0046X0Q4W', 'B004KSIR8U', 'B0057YO0IM', 'B005EH0CFC', 'B006YGEKIW', 'B0084IY1ZU', 'B0086I5YAE', 'B00AYBKJFG', 'B00DM8JPZS', 'B00DM8JSF0', 'B0009GVYCI', 'B000Q6E7R0', 'B000VZF7E8', 'B002GPG7UO', 'B002WYT2VK', 'B002ZNLAA4', 'B003EAHYHK', 'B003JN13S8', 'B004C40HIU', 'B004DAQDCW', 'B005MLBAQK', 'B007SU1WUW', 'B0096T8K1W', 'B00AB51CUG', 'B00D8G49D2', 'B00DM8JOX6', 'B00DM8LIIA', 'B00DM8LT0W', 'B00076Q0LK', 'B00097A4J6', 'B0009GVYFA', 'B0009H7CAU', 'B000AMUV5M', 'B000GAQFPS', 'B000YZW1PS', 'B001AAAYZU', 'B001DHKBP8', 'B001E6LAUS', 'B003BIGD5O', 'B003BIGDQI', 'B003CLL8Q4', 'B003EAEA7M', 'B003JN143C', 'B00461F1G2', 'B004SGPGJC', 'B004XLE3RI', 'B004XLE7O2', 'B0052P21K0', 'B00545B2UI', 'B005B471PW', 'B005B9DP4I', 'B005OOZB1A', 'B005OTCTHO', 'B005OW0TTG', 'B008HAOKD8', 'B008K4FTV8', 'B008KFDVUI', 'B0095ZRGMQ', 'B009P9US1I', 'B00DM8KORQ', 'B0009GVYI2', 'B00143SL2G', 'B001PQDUA0', 'B001UGQ3EU', 'B0028RXZ1O', 'B002AC705O', 'B002P8V7I4', 'B0037MBG5Q', 'B0039D34IK', 'B003BIGDE0', 'B003TOFVP8', 'B0049I9OYC', 'B004ZO42G0', 'B0053F9IGO', 'B00570QTQC', 'B0058K7DPW', 'B005B45E6A', 'B005BNLSZW', 'B006HT1CVO', 'B007R66M9I', 'B008493LD2', 'B008OOXJMA', 'B009IESWKO', 'B00B46P5R2', 'B00D6MDETI', 'B00DYJNNWQ', 'B0009GZNB6', 'B0009OIEGE', 'B000NO136S', 'B000UVMUNO', 'B001A5B346', 'B001AAEGCC', 'B001DHLMNI', 'B002HPG5EQ', 'B003BIGD1S', 'B003BIGDGS', 'B00481YRZ6', 'B004V2L8QS', 'B0053F7VC2', 'B0053F8B1W', 'B0062US71Q', 'B0076OWE8E', 'B007OWOK7Q', 'B008B7ZVBC', 'B008R832MU', 'B008RS3D1A', 'B009H2JQIO', 'B00AVCBYK2', 'B00DM8LYC0', 'B00EDI8HF0', 'B00IY7B5CS', 'B000AMOBA8', 'B000JQL8XS', 'B000JRCFHK', 'B000PC4JL4', 'B001321YA4', 'B0015R9M2Y', 'B0017T0U08', 'B001DPV0IW', 'B001HPD4HI', 'B002GBYVAQ', 'B002Q4U12K', 'B002R0DXN2', 'B0030M16JO', 'B003BIGDHM', 'B003BIGDM2', 'B003E46M7O', 'B003EAFWLU', 'B003GF77VG', 'B003LJ463Y', 'B004DD9N0I', 'B004MH0S40', 'B0053Y334I', 'B0053Y39SI', 'B00545ATZW', 'B0057Y76N8', 'B005BNLR9O', 'B00A2ME6M4', 'B00B2NPKRM', 'B00DFVV0NW', 'B00DM8JUIU', 'B0002YWR64', 'B0007XLMC0', 'B000FNR9U6', 'B000HZXC7Q', 'B000LDDEJK', 'B000OGS2OG', 'B000R9XO1G', 'B0010W51E2', 'B001DHLO4A', 'B001DPQPKU', 'B001W1O3MC', 'B0025YT53M', 'B002H3AAOY', 'B002JI3L84', 'B002ZNCBNE', 'B0034IVA04', 'B003DA62S8', 'B003EAHV7S', 'B003GX5EY0', 'B003JN52D0', 'B003LU90G6', 'B0044YUQ98', 'B0047PF5MM', 'B004F8NNNY', 'B004H3XV3Y', 'B004IA1HO6', 'B004IMFCWM', 'B004OLUEZ2', 'B004XLDNZQ', 'B004XQHBHC', 'B0053BF9Y8', 'B007FQG43Y', 'B007Y0Z8DS', 'B008LUNTEU', 'B009SK5TPY', 'B00AI6MQL2', 'B00CYH9HRO', 'B00DM8JK3A', 'B00DM8JLEI', 'B00E3ZVQ2O', 'B000KKISE0', 'B000M8I2RS', 'B000W3QQ3U', 'B0017Q16OA', 'B001FCMOCY', 'B001TJ7284', 'B0025AHDTE', 'B002Z9G5SA', 'B003Q2BKQC', 'B0046C3Q5E', 'B004H3XPRG', 'B004OY09L8', 'B004XLDYR8', 'B0050KJDQM', 'B00564VVQW', 'B005BHSY6Y', 'B005BNN2EC', 'B0067UPMMI', 'B0076P0W1O', 'B007TTR4GI', 'B00A8O07JC', 'B00AYBLXCO', 'B00CWX0KDA', 'B00DM8L0AG', 'B00E599U0S', 'B00ECECVSO', 'B00KJ07SEM', 'B0002D000K', 'B0002I209O', 'B0002Z1GLA', 'B0007MEW14', 'B000HMBPWS', 'B000I0PJWG', 'B000IBEYOO', 'B0019R7B96', 'B001DECV22', 'B001U8EC3M', 'B002ZNCBNY', 'B003BIGDBI', 'B003MQ3LT6', 'B003XMKE5S', 'B004T6AXDA', 'B004WP4ECE', 'B0053F830Q', 'B0053F8D1U', 'B005459KTI', 'B005B9DOAI', 'B005J2HTQC', 'B005JAVD3Y', 'B00B5CS6PI', 'B00B5G4GT4', 'B00DM8JGP2', 'B00DM8K4AS', 'B00DM8LISA', 'B00DZU9Z9E', 'B00DZUAGUQ', 'B00HTWGERA', 'B0002474P8', 'B0002Z1GG0', 'B0006OQCFW', 'B000COCRDC', 'B000HY5HWA', 'B000N29VGY', 'B000OR88TY', 'B001171TZG', 'B001ATC4I6', 'B001TIWG04', 'B0027ZENSG', 'B002K8IHFU', 'B003BIGDH2', 'B003O42GR4', 'B0042FT5U0', 'B00447R2F6', 'B004DLW6RW', 'B004XLDKO0', 'B004XLE2A6', 'B0050KJOQ6', 'B0050KL0OU', 'B0053YL6LU', 'B005ARC9BG', 'B005B46SD8', 'B005BNLODS', 'B00655U4TG', 'B007KKW7PE', 'B0084IY1F0', 'B00AFSMMTO', 'B00BLDGJBO', 'B00DM8JGR0', 'B00DM8KWUU', 'B0002ISPTI', 'B0006FTVO0', 'B000GWCJLK', 'B000KKOGLO', 'B000KQ2CWS', 'B000LNQEZG', 'B000Q5SUZG', 'B000W3JG00', 'B000W3P4AQ', 'B0017SW40I', 'B001AZPWMK', 'B001CCF2I0', 'B001DPNOCW', 'B001G0QMZ0', 'B001TIYFIU', 'B002DUCENQ', 'B003K124UA', 'B003L4Z57K', 'B00447XRAK', 'B004H3XPR6', 'B004H3XVV6', 'B004H3XWMO', 'B004W6IKJQ', 'B00545B6UO', 'B0054LAP6Y', 'B005B45YVK', 'B005TLMBHK', 'B0064FCQUM', 'B007U9JOT2', 'B007XIFJ62', 'B008BYN428', 'B00A8O05MG', 'B00AUDAG2O', 'B00CHWV3YG', 'B00DM8L2AO', 'B00DM8LEAC', 'B00E8KC36M', 'B00EAXO9I2', 'B00ECV42H0', 'B00ECV5J22', 'B00EYLZB78', 'B00H8CKMG0', 'B00KX3M1LA', 'B0002I1VSA', 'B0006OJ286', 'B0009GVYFU', 'B000GWCJLU', 'B000HJD9OI', 'B000KKO4ZM', 'B000QFGY7C', 'B0013MUDJM', 'B0015YQV5S', 'B001CAXQPS', 'B001DPQX8Y', 'B001E1S902', 'B002HDEILK', 'B002HMTKDM', 'B002NJ99PS', 'B002R0DXPA', 'B00321BO9U', 'B0032N3L58', 'B003BIGDO0', 'B003E47FDO', 'B003E47FDY', 'B003I7FEHQ', 'B003NAI13C', 'B003XN4TZ8', 'B0043I7UFI', 'B0045TYPBW', 'B00487AUXI', 'B004H3XRDI', 'B004H3XSVO', 'B004VUD41C', 'B004WP3ZPG', 'B004XLDIR4', 'B0050O2676', 'B00514X4IU', 'B005B9CTQS', 'B005GXRXME', 'B005Y29KL4', 'B006ICANZ6', 'B007KDYJRU', 'B0081E9W4W', 'B008D7KGIS', 'B009CEOEM0', 'B009EGOQHE', 'B00AFSML8Q', 'B00ALJD14M', 'B00AUILQN2', 'B00BCKIGQ2', 'B00DM8JOVS', 'B00E0CW6Y2', 'B00EAY540S', 'B00EC452R6', 'B00ECV2MRC', 'B00EPNFYC2', 'B00004UE6V', 'B0002I20B2', 'B0007Z0QFM', 'B000ALNO7U', 'B000DZFTEO', 'B000KN2WR6', 'B000S0W424', 'B00113ETOS', 'B0011YJE7Y', 'B0013ECT7Y', 'B00146KC48', 'B0015MNAGS', 'B001DHKJQO', 'B001DHNR5O', 'B001DPUWJU', 'B001VALQ3S', 'B0025U2U24', 'B002AUQT4E', 'B002R0DXNW', 'B003044XOC', 'B0034CDHPQ', 'B003DA62T2', 'B003VVHS3W', 'B003YKF2E2', 'B003YKPAQC', 'B004DJDIMG', 'B004E4KTYA', 'B004EBT7WS', 'B004KSL51G', 'B004W6IKZ0', 'B0053Y2I8U', 'B0056CEB1Q', 'B006BYHPKW', 'B006DTBTOI', 'B00702RU5E', 'B007IU3XWW', 'B0082MSERE', 'B0086TZ05M', 'B008O58M76', 'B009NUT15I', 'B009O0E5N0', 'B00A77QMUI', 'B00A8O07I8', 'B00AF7RG9G', 'B00AF7UY6I', 'B00DM8JA7Q', 'B00DM8L19G', 'B00DQCK0EU', 'B00DZU9HII', 'B00ECV5HYC', 'B00EQ7XH0S', 'B00FCBLKOM', 'B00I3QLGO2', 'B0000DD1X5', 'B0002HMUBI', 'B0009H79LM', 'B000BPNJMA', 'B000BQM1YQ', 'B000BQW6LE', 'B000BVPVOI', 'B000K2ZLRA', 'B000TD1JVC', 'B000UVR4GM', 'B00132Q0FS', 'B0015YQTS2', 'B001BQD4BY', 'B001DPLRU8', 'B001DPXUTY', 'B001PZ5UDQ', 'B002I9IYTA', 'B002I9KROA', 'B002LF2ANM', 'B002YEIBBA', 'B003BIGDI6', 'B003DY7TWW', 'B003GXCDF8', 'B003JN7ZZS', 'B003XDZVZU', 'B004AA1JXI', 'B004H3XV5M', 'B004H3XVX4', 'B004IA2SOO', 'B004ORS3B8', 'B004Q3TEOK', 'B004XLDDNI', 'B0050O1K3M', 'B0053Y328A', 'B0053Y34TW', 'B005B49HIQ', 'B006WOBNX6', 'B007VXJ0BO', 'B007VZ2NBQ', 'B0086A5DTE', 'B0093NFWRG', 'B00A9XEP7C', 'B00AUDAF5M', 'B00BA9DGDS', 'B00CXUXK52', 'B00DM8KQ2Y', 'B00EP7WJIU', 'B00007E89L', 'B000195ZKA', 'B0002HMUDG', 'B00067TS4Q', 'B0008F6DR6', 'B0009GZM8A', 'B000BO9DSA', 'B000BVMWTK', 'B000GZ8MFO', 'B000HEA9ZA', 'B000HZVBVU', 'B000JTBMOA', 'B000NCWM8I', 'B000OSHX3U', 'B000PJ7WI4', 'B000Q8HPDG', 'B000QFDLKU', 'B000SOJKA4', 'B000UN3U1I', 'B000V4LEXM', 'B0011YFTGE', 'B0014WLEBW', 'B001AACK2A', 'B001ASD77O', 'B001DHNLVE', 'B001HSZ6Q2', 'B001R2NTIU', 'B001RQ1NEI', 'B0023T4FSO', 'B002563XBU', 'B0025VZPDE', 'B002JI3QP2', 'B002MAI2ZG', 'B002R0DXMI', 'B002R0DXOG', 'B002V9JL44', 'B002ZNG45U', 'B0032Y7EQO', 'B0034IYUSI', 'B003B4M0XW', 'B003BIGDQ8', 'B003JFH4CK', 'B003PCKUZK', 'B003ZVSEPE', 'B0041NNFH2', 'B0042NQRI0', 'B0049HE6AU', 'B004BWY8AQ', 'B004LYLP7I', 'B004XLEEKO', 'B0053F804A', 'B0053F92JC', 'B0053F9LCK', 'B005AR7CA4', 'B005DUT5M6', 'B007GD1CK6', 'B007PNX1AG', 'B0093NG05E', 'B009A8MWFY', 'B00AF7U2VA', 'B00AH5ZJEK', 'B00DM8LL8C', 'B00DZU94OA', 'B00E0CVX32', 'B00E7I5LDW', 'B00ECV3Q3G', 'B00ENJWB0Q', 'B00FE6LQRG', 'B00GWN92N0', 'B00016ZLDY', 'B0002I20AS', 'B0002Z1GJM', 'B0002ZPHZ6', 'B000HKHTNY', 'B000HX95OW', 'B000I0T36O', 'B000KKSFB6', 'B000NKH0ZA', 'B000Y8SRD0', 'B000ZIKWWI', 'B00131Z4SI', 'B001AAHW6O', 'B001DPOR9Q', 'B001FREYN6', 'B001H05AXY', 'B001J7JYX2', 'B001JEOIG8', 'B001NFTFSY', 'B001NIDX6G', 'B001U0OJ7Y', 'B001V9LBSY', 'B002R0DXL4', 'B002T07TEE', 'B002UQY3LE', 'B002W6SN8G', 'B002ZNEBZ0', 'B0036V8QY2', 'B0037A87IW', 'B003BIGDG8', 'B003GV3TKS', 'B003JN9PXI', 'B003MNRBFO', 'B003O4FR2A', 'B003T67MMG', 'B003UN4B9A', 'B004443WFI', 'B0046ECKSG', 'B00472MN7A', 'B00482E3F4', 'B004BTJ6EC', 'B004C47WPQ', 'B004CR4NIW', 'B004H3XTZO', 'B004HIPZ9W', 'B004J67SHO', 'B004XLDEHS', 'B004XLE48G', 'B0050O2ILU', 'B0052YH4S0', 'B0053F8CU2', 'B005459DRW', 'B00545A6LY', 'B00545B78A', 'B0054LCPGC', 'B0054TT64I', 'B00570R5D8', 'B005AR7WZY', 'B005ARC7YK', 'B005BNN3C8', 'B005HF623W', 'B005V5I8SK', 'B005X3MXZY', 'B005Y29JZQ', 'B0062US70M', 'B006YC7K42', 'B0070XWRS8', 'B0075CU8MG', 'B007PSHD28', 'B008YDSX0Y', 'B009AE9YMM', 'B00A8O03LE', 'B00A8O0486', 'B00AYBLQQ2', 'B00CR1ZDUC', 'B00DM8KZFC', 'B00ECV3HW6', 'B00ECV67ZK', 'B00EPNDYRE', 'B00067YLI4', 'B000BF0ZTU', 'B000EH2JQC', 'B000FEPRGI', 'B000HM9TKS', 'B000L3IRRO', 'B000R9GCS8', 'B000WMNY7C', 'B000ZIKT94', 'B0010HA41C', 'B00132MLCO', 'B0015YQILU', 'B001ANXPR6', 'B001BX6YOQ', 'B001DEJQPM', 'B001DPUAEC', 'B001DPXE7W', 'B001E4C4MI', 'B0027E3FCC', 'B002M65BCW', 'B002Q30FXQ', 'B002RLCCPG', 'B002ZNC90O', 'B0034IRU12', 'B003FWAJHY', 'B003P93G4U', 'B003VWXZJW', 'B0044R7U8A', 'B00478JMVE', 'B004G7ROMK', 'B004H3XWTW', 'B004H3XWWE', 'B004KAZS0I', 'B004VYVSTI', 'B004XLDIZQ', 'B004XLE706', 'B004XLEGA2', 'B004ZH8G7I', 'B0050KJV3C', 'B0050KLDLA', 'B005BHT1BG', 'B005BNMW3Y', 'B005FNVPLU', 'B005G2PUWU', 'B005K0N1H4', 'B007K1NTVE', 'B007P4WCP0', 'B0080LN1PC', 'B0081E9EJA', 'B008KFDKZE', 'B0093HJID6', 'B009AEARXC', 'B009EGNQFC', 'B00A77VR1C', 'B00ATTCZR8', 'B00DM8JHPQ', 'B00DM8JSDC', 'B00DM8JULW', 'B00DRIEPN0', 'B00DZU7LJU', 'B00DZU8XGA', 'B00DZU9FBW', 'B00EO7N2YG', 'B00F06NDS0', 'B00009W3AA', 'B00009W44Y', 'B0002YVK2Q', 'B000BCZ8PY', 'B000BWI086', 'B000FNR6TU', 'B000HZYOKK', 'B000JONLMQ', 'B000MVSDZQ', 'B000OGTRSQ', 'B000UOG7CG', 'B0018DYW84', 'B001A5F1YE', 'B001AH7HAI', 'B001AHASUY', 'B001AS9DJK', 'B001DEE8D2', 'B001DPTZYS', 'B001FXHRM0', 'B001Q8DHH8', 'B001RK38LU', 'B001U9O4N4', 'B001UYX6B0', 'B0023T60V4', 'B002HD57SI', 'B002IXYR1U', 'B002R0E01G', 'B002T1189A', 'B002ZNEBDC', 'B002ZTOMZI', 'B0030895BY', 'B00308H47G', 'B0036BX2YG', 'B003E46M74', 'B003VVG20C', 'B003YKF2JC', 'B0043S989E', 'B00443VLTS', 'B0046U5SOS', 'B004HM85Y0', 'B004I52FUQ', 'B004OH0DE8', 'B004WKR5U2', 'B004XLE0I0', 'B004XLE3JG', 'B004XS13B0', 'B0053K4MRE', 'B0058ENLCW', 'B005AHGEQC', 'B005HFR060', 'B005HKEJO6', 'B005J2JW7Q', 'B005KT4IZE', 'B007P4WD4A', 'B008B7ZXEC', 'B0093NG4GO', 'B009CERWII', 'B00A9Y0Y0S', 'B00AF7U4C2', 'B00AFSMOXS', 'B00AJLHIV4', 'B00C5RYQQU', 'B00CQ1O3NG', 'B00CSU76TS', 'B00CXNC6XG', 'B00D7MH49S', 'B00DEQCZCS', 'B00DM8K5J8', 'B00DM8K83G', 'B00DM8KBVK', 'B00DM8KGZG', 'B00DM8L3EY', 'B00DZU7DWK', 'B00E0CVL48', 'B00E0CWKMK', 'B00ECE9NXK', 'B00EO8B87I', 'B00EQC3D3O', 'B00F6M5CH8', 'B00GGJXS3A', 'B00H3ZH7CO', 'B00IEDHJFE', 'B00002NATH', 'B00004YUNT', 'B00007E7RZ', 'B00009V3UW', 'B0001MX89C', 'B0002U33ZM', 'B0007CXPCG', 'B0007CXPOE', 'B0009H79GC', 'B000BNY5KM', 'B000BQWUJC', 'B000CDFES8', 'B000CRKDJO', 'B000F9B712', 'B000FNJ5NA', 'B000FNKVKG', 'B000G3GZ0U', 'B000KKKJHE', 'B000M5MMHW', 'B000YRA2R0', 'B001216TOW', 'B00147DFP0', 'B0015M0U3Y', 'B0015M26H2', 'B001AAAYXC', 'B001CW9ESY', 'B001DPLZPK', 'B001DPTCWI', 'B001DW324K', 'B001NFSXKK', 'B001QLAQGU', 'B001THD7T4', 'B0021K11IC', 'B0026PID38', 'B002KKUWWY', 'B002ZNNN0O', 'B003BIGCZU', 'B003BIGDNQ', 'B003EAHZ88', 'B003JN383Q', 'B003KVGLRM', 'B003PCOYQG', 'B003TXEI5S', 'B0041EHXZG', 'B00478K3AS', 'B004A6WZ8A', 'B004F8SM44', 'B004H3XPZ8', 'B004H3XR9M', 'B004IPWKWO', 'B004JF51EC', 'B004XLDDHO', 'B004Y277UQ', 'B0050KKD9S', 'B0053FA098', 'B0053Y2KTW', 'B00545A3H6', 'B0055P5T7E', 'B0056IZ0PQ', 'B0056IZ16O', 'B00570QEG2', 'B005ARBMSW', 'B005B9CD82', 'B005D9TMM0', 'B005GHNP90', 'B005HFRZKQ', 'B006WRHD8W', 'B007A1YVGQ', 'B007I11B6G', 'B007K1C63G', 'B007PTOJ0G', 'B007RWOTI8', 'B0081LUWTY', 'B008LUOAUW', 'B009VC4H0C', 'B009WO6874', 'B00AFSMH0S', 'B00AH60LW4', 'B00AYBM3J6', 'B00B4VX510', 'B00C1LSJ9K', 'B00CXAAYW4', 'B00D18S5VO', 'B00DM8JVOI', 'B00DZU89JG', 'B00E8L2UQ4', 'B00ECX0FCO', 'B00ELJZEQQ', 'B00HZRJVCO', 'B0002I20A8', 'B00092P6LC', 'B0009GVYG4', 'B0009GZKCI', 'B0009GZLC2', 'B0009H60BC', 'B000AMR7K4', 'B000BPDFME', 'B000FF9Q14', 'B000HEDV5A', 'B000JRG54O', 'B000N28JR6', 'B000OUFBXC', 'B000PKYXLC', 'B000UVWBJC', 'B000Z9I5KI', 'B00134614G', 'B00147DFQ4', 'B0019CHYAW', 'B001AACK98', 'B001AC6HDG', 'B001AO4PMY', 'B001ASF0WE', 'B001ASQNW0', 'B001DHKH0W', 'B001DHO26C', 'B001DPX01M', 'B001E6DMHW', 'B001F86EW4', 'B001GGOWA6', 'B001GPUH5G', 'B001J0C382', 'B001PN4RU0', 'B001QGKROQ', 'B0021JDYRY', 'B002DLQVR0', 'B002FAIQC2', 'B002ZNC7B0', 'B002ZNNN36', 'B002ZNNQMO', 'B003AFMV6S', 'B003BIGDAO', 'B003DA62RY', 'B003ERLDQG', 'B003JBAOSU', 'B003JN39O4', 'B003LB86W4', 'B003TX6AI6', 'B003YVIDPQ', 'B003ZZRR3K', 'B00443S8JE', 'B004F9Q9E8', 'B004H3XPJE', 'B004H3XW6U', 'B004Q40M5E', 'B004T4O7XY', 'B004UH4U14', 'B004V2L93K', 'B004VN96HU', 'B004WGO8U6', 'B004XLDZBI', 'B0053Y2ORU', 'B0053Y2SJY', 'B0057WCGJ4', 'B005B9CXSM', 'B005BNLROY', 'B005BNN3L4', 'B005HFB75K', 'B005KWLAUM', 'B005KWLLRY', 'B005SM9TI4', 'B0063C1DY6', 'B006L8PYQU', 'B00702RTZU', 'B007HKI0OO', 'B007IEXSPK', 'B007V6ITIQ', 'B00943C890', 'B00A2G4FOO', 'B00AEYWWBW', 'B00AQ6VTIK', 'B00AWS1HE8', 'B00BBKURGA', 'B00DCEWIQK', 'B00DDXA31M', 'B00DM8K9DU', 'B00DM8KTHQ', 'B00DQK60LO', 'B00DW1QC88', 'B00DZU99TK', 'B00DZUBORA', 'B00ENOW2RS', 'B00EPNR3A8', 'B00H9HS3BK', 'B00021REPQ', 'B00026FHEG', 'B0002I1VRQ', 'B0009GZKK0', 'B0009GZKT6', 'B0009H62R4', 'B000AM54MW', 'B000BQRGMS', 'B000F9FCR2', 'B000HHETF8', 'B000HJ740I', 'B000IJSSKC', 'B000KKIGH4', 'B000NP9HHE', 'B000UN7HAI', 'B0011YNB6E', 'B00146KBSU', 'B0017SHQTW', 'B001DPX2QA', 'B001E1QHN8', 'B001QLFFES', 'B001VCTZ34', 'B0026KSN92', 'B00271F6UY', 'B002GZ9U76', 'B002JZVWQA', 'B002PWAVF0', 'B002YI73NI', 'B002ZD6MS4', 'B002ZNNC1E', 'B0032JH1W6', 'B0035M77ME', 'B0036BYSR6', 'B0038MGNXK', 'B003BNZ4ZE', 'B003GVTZVK', 'B003JRI04O', 'B003RC66BU', 'B003VV7D8W', 'B003YVCG36', 'B003ZVLAUU', 'B0043RMEAA', 'B0044FTJ22', 'B0045LQTNC', 'B0046PSMR8', 'B004CZI8TO', 'B004EAA3OU', 'B004GW5M8I', 'B004H3XQ20', 'B004H3XRAG', 'B004H3XU3K', 'B004QAVBVM', 'B004UH3I80', 'B004VBHTQW', 'B004W6IKIC', 'B004WP4GBI', 'B004X7ZQCI', 'B004XLDYE6', 'B004XLEAG2', 'B0050KK0XC', 'B0050O2HIO', 'B0053F86BC', 'B0053Y27S6', 'B0053Y2CNG', 'B0056CEBK2', 'B0056IYZHK', 'B005A3QMEK', 'B005ADPC14', 'B005BHSW3Y', 'B005DA85YK', 'B005H47EJ4', 'B005HYW32C', 'B005OOZAZ2', 'B005V43T5S', 'B0060T4TOI', 'B006EAKNFW', 'B006L8PW1C', 'B007M6WLSO', 'B007RBRSGE', 'B007Z1KJT4', 'B0085ZIRFM', 'B0086TZ0L6', 'B0087QLA7Q', 'B008B7VI1Y', 'B008FYJ5Y0', 'B008M2IPBE', 'B008YDSI04', 'B009CEPO8I', 'B009T1JX1S', 'B00AMF8NHK', 'B00AYBKSS4', 'B00AYBL3GU', 'B00B621GK4', 'B00B9DZJEO', 'B00CD4MW6Q', 'B00CVWKWQ2', 'B00D0SHKQQ', 'B00DM8KTJE', 'B00DZU7XOI', 'B00DZU8S1A', 'B00E0CVZQC', 'B00EJPHJVK', 'B00ESL4Z9Y', 'B00ET0M2GM', 'B00F23X8DQ', 'B00FCBLKSS', 'B00FIYOK0Y', 'B00GR4TH70', 'B00HXYPGS2', 'B00KGHWQXQ', 'B0000U6NA6', 'B0009GZKG4', 'B0009H604Y', 'B0009H60BM', 'B000BP7MMS', 'B000BQ8D7A', 'B000FKDM5K', 'B000HZTM7A', 'B000MYI3O4', 'B000MYI3SU', 'B000P03EH6', 'B000R9E50K', 'B00131ZFAA', 'B00146KBW6', 'B00155YYCY', 'B001AO1WTI', 'B001B4AQP8', 'B001CTGPCU', 'B001DPLSY8', 'B001DPQJW4', 'B001DPTL8S', 'B001E08T0I', 'B001H4PMVU', 'B001HK4NJG', 'B001JEOIGS', 'B001QOGNKK', 'B001SIRDD0', 'B0021JYYMI', 'B0026SZF4A', 'B00287YBAS', 'B002GZHH8A', 'B002IE2II8', 'B002IWA9W2', 'B002JPNEM0', 'B002L305AY', 'B002MYZFPW', 'B002NFIG6U', 'B002R0DXLY', 'B002YFZYE6', 'B002ZHXNK0', 'B002ZNDZDY', 'B002ZNGDFQ', 'B002ZNLIJC', 'B0030LXFGW', 'B0034ITKEM', 'B0034IWD5A', 'B003BIGD2C', 'B003BIGDC2', 'B003BIGDEK', 'B003ESMUCG', 'B003HKHX3M', 'B003IP4RQM', 'B003TF6M5A', 'B003XZPZ4U', 'B0045U54VG', 'B0049IAK9U', 'B004C3VUCS', 'B004C411XU', 'B004DNWVMA', 'B004FGME1S', 'B004GV0G30', 'B004GZ0LY0', 'B004H3XV7K', 'B004H3XVUM', 'B004H3XX4G', 'B004HIOE4E', 'B004HIQ1HC', 'B004MEZ6WM', 'B004Q6K36A', 'B004W6IKGE', 'B004XL2SKM', 'B004XLDY14', 'B004XLEDYG', 'B0053F8BFS', 'B0053F8M7U', 'B0053F9CYM', 'B0053F9EKE', 'B0058CE4GG', 'B005BNM41E', 'B005OKWZEU', 'B005WV60CE', 'B0069F898U', 'B00773ILQ8', 'B007HDDPJG', 'B007LQL550', 'B007MU1NNE', 'B007NCIKL4', 'B007P4WAWU', 'B007ZK4G1W', 'B0080LLH30', 'B008AK0FM0', 'B008O564H6', 'B008RX7J60', 'B008V5RZ04', 'B009AEAZJI', 'B009YZK90I', 'B00A6Y2K44', 'B00A8O05L2', 'B00AF7Q5CU', 'B00AF7U1CA', 'B00AUDA192', 'B00AUDAJ0I', 'B00C5Q7SQG', 'B00CCILHEG', 'B00CGW8XAO', 'B00DM8J2JM', 'B00DM8JEC2', 'B00DM8KY3U', 'B00DM8L7DG', 'B00DZU9MR4', 'B00E0CWAI4', 'B00ECV3XM0', 'B00ECV4AD6', 'B00GXYFZMU', 'B00H4ATAJG', 'B00ICKFHZS', 'B0000AYKNY', 'B0000DD6C1', 'B0006FTV2C', 'B0006OQCBQ', 'B0007CXP6C', 'B0007CXPN0', 'B0007DHS2I', 'B0007IQPS6', 'B0009GZKE6', 'B0009JLRNG', 'B0009N2TE8', 'B000BQQVRY', 'B000GZ8IZ8', 'B000HY5GNU', 'B000HZVATI', 'B000I0URP0', 'B000IASVH6', 'B000KAZTHO', 'B000KKIPPC', 'B000KKOE4I', 'B000KNFVUQ', 'B000OCTAY6', 'B000ODOXQK', 'B000QFF7VQ', 'B000R9E4VA', 'B000ZIKTGC', 'B0011YFMAW', 'B0011YJMOY', 'B00131XA8O', 'B00132ILVO', 'B00155S8P8', 'B00155TTA6', 'B0015YT5X8', 'B001615WSM', 'B0018JMSBG', 'B0019CHYA2', 'B0019CJZXG', 'B001AFFVWQ', 'B001D1DPO8', 'B001DPNVKW', 'B001DPPR5O', 'B001DPSUY4', 'B001DPVJZQ', 'B001DPVYZQ', 'B001DPXMVA', 'B001DPXN5U', 'B001DTB2GI', 'B001E1QR74', 'B001ETADCQ', 'B001EY66CM', 'B001GD43RG', 'B001GDEJTI', 'B001GMZ7BS', 'B001J7GKE8', 'B001J7MMUY', 'B001PO3JYE', 'B001US13BG', 'B0026KR2CQ', 'B002ACDBE8', 'B002C4BQG4', 'B002CTJGUW', 'B002E1GELC', 'B002PZE9HI', 'B002UL13JO', 'B002YG1E94', 'B002ZD5I16', 'B003090YTU', 'B0033QOY1Y', 'B0037M85JQ', 'B003BIGD6I', 'B003BIGDCM', 'B003BIGDOU', 'B003LV2WXS', 'B003MM3WMG', 'B003MMDQLI', 'B003U9T71Q', 'B0043RME8M', 'B0044819UE', 'B00464C9A0', 'B004BE2H20', 'B004BKZFZ0', 'B004H3XRWE', 'B004H3XVUW', 'B004MUTB9A', 'B004OJL9IK', 'B004PH3QMI', 'B004W5S97U', 'B004XL2226', 'B004YTH04W', 'B0050O1KVE', 'B0051W8MJ8', 'B0053Y38Y8', 'B005459Y6W', 'B00545AZ0Q', 'B00545B424', 'B0056IZ0IS', 'B0056IZ10U', 'B0056JVM98', 'B0057Z1JYE', 'B0058P54XU', 'B0058W3EEO', 'B005AR6Q6K', 'B005ARCI8U', 'B005B9D0LG', 'B005B9EJ5C', 'B005FU5HE4', 'B005HF61ZQ', 'B005HKDCVC', 'B005KEDWU6', 'B005NQFYMU', 'B005O0BL5Y', 'B0063C1M0G', 'B006KXOA0M', 'B006V591XK', 'B006YC7JF2', 'B0071NVEYK', 'B00721756C', 'B007CW1B6G', 'B007GD0VWG', 'B007TTSHQY', 'B0085ZISQU', 'B008B802G0', 'B008LUNT90', 'B0093NG13K', 'B0094A1K06', 'B009M5KYY6', 'B009VSD702', 'B009VXX7KC', 'B00A78JH8G', 'B00A8O048Q', 'B00A8O05K8', 'B00A9X8PSW', 'B00AMF8ETW', 'B00AN9CSL2', 'B00AUNNAVS', 'B00B740KTO', 'B00CA9TTJ2', 'B00COKDPUQ', 'B00D1SZNO6', 'B00D6959EY', 'B00DM8JXJ6', 'B00DM8KH4G', 'B00DM8LOY8', 'B00DM8M6DG', 'B00DZU8MB6', 'B00DZUAGYC', 'B00DZUB78Q', 'B00E0CVPTY', 'B00E0CVWZ6', 'B00E4O0TLI', 'B00E4Q05YM', 'B00E67YLHQ', 'B00ECV5SR8', 'B00FI4DBTU', 'B00FX740EC', 'B00G9EHGDK', 'B00004YWK7', 'B00009W3A9', 'B00009W3GY', 'B00023RVRU', 'B0002AHW18', 'B00084W5O2', 'B0009GZKAA', 'B0009H6080', 'B0009H79RG', 'B000B7PKOI', 'B000BPZ7KM', 'B000BQP2SI', 'B000BQRHHW', 'B000GZ2IJA', 'B000GZ6ICS', 'B000HE6EA4', 'B000I0UQCE', 'B000LBJ6GC', 'B000LIOVNS', 'B000NPNJTG', 'B000P79A9A', 'B000RI0J42', 'B000UVWS0Y', 'B000UW20TW', 'B000V49YBQ', 'B000YFVZG4', 'B0010OH8DC', 'B0011YFN1U', 'B0011YNH2W', 'B00147HAAQ', 'B00147J4BY', 'B00155SAQU', 'B001709NT6', 'B00185X8YG', 'B0018MR67E', 'B0018YLM6I', 'B001AH3K72', 'B001DE8MT8', 'B001DHNP4C', 'B001DHRCXC', 'B001DPLSJ8', 'B001DPTFIE', 'B001E1HDYU', 'B001E8FYY4', 'B001ENR6XQ', 'B001F8J2TQ', 'B001FNW8O2', 'B001JEOIH2', 'B001JSUQE2', 'B001PT3UJS', 'B001QF9QMQ', 'B001SQC3KK', 'B001X7E9U6', 'B00202IVES', 'B0026RYFHE', 'B002C9IYY6', 'B002HD8B9U', 'B002JLA8XM', 'B002KGKNYU', 'B002R0DXMS', 'B002YL2MRM', 'B00327OYDW', 'B00371DRY0', 'B0038ZXSNU', 'B003BIGD3G', 'B003BIGDBS', 'B003BNZ4YU', 'B003CVVQ5M', 'B003DA61ZC', 'B003GF1ICU', 'B003LTW1IG', 'B003P8I1E6', 'B003U3VWRO', 'B003YVEFVM', 'B003ZVI742', 'B004141ZE6', 'B0044R7U80', 'B004C3Z8CG', 'B004H3XSVE', 'B004H3XT0Y', 'B004H3XUE4', 'B004IXU6AO', 'B004KYSNK6', 'B004L4335U', 'B004NS8OCG', 'B004OLNGAM', 'B004VBHTV2', 'B004WP4C76', 'B004XLDD60', 'B004XLE5DU', 'B004XLEEC2', 'B004XQHASW', 'B004XVEQ3O', 'B0050KJO4S', 'B0050KLCAM', 'B0050O2126', 'B0050UNPGG', 'B0051W8EZ0', 'B0052PDSGG', 'B0053F8X92', 'B0053F9YP4', 'B0053Y29SY', 'B0053Y2NBM', 'B0053Y2Q4Q', 'B0053Y2W0O', 'B0053Y3BPO', 'B00545AZCE', 'B00564VU5O', 'B005AR9GP8', 'B005ARBNWC', 'B005B48MNM', 'B005BNLNKC', 'B005BWZNUY', 'B005FD7ZG4', 'B005FU5H5I', 'B005ZFEOTS', 'B0064P4PKG', 'B006EAJHRC', 'B006TZERNQ', 'B006UHH686', 'B006WONMRQ', 'B00702RSNS', 'B0071NV6SY', 'B007F3AUTG', 'B007K1NTOQ', 'B007L8VVMA', 'B007NXJNFA', 'B0080JIW4Y', 'B0081EA1IS', 'B008493CZE', 'B008BVX4QC', 'B008M2ILOA', 'B008TRUVAK', 'B00986L08I', 'B009GO0ZTW', 'B009NVQ5S8', 'B00A8O08C8', 'B00A8O0B8O', 'B00AEZIVWA', 'B00AJ9BTVQ', 'B00AMF8HF8', 'B00ATQRT6S', 'B00AUDAGI8', 'B00CGW91L4', 'B00COR77PI', 'B00CX9ZS1M', 'B00D698T00', 'B00DM8M500', 'B00DNGULGQ', 'B00DV1GC84', 'B00DZU927Y', 'B00DZU9L70', 'B00DZUA58O', 'B00E0CWC5A', 'B00EAXMA24', 'B00EC4BUOU', 'B00ECV3Q0E', 'B00EHL6TJY', 'B00EPDGRKK', 'B00EUC5PKY', 'B00EWRSAH2', 'B00EWRSD74', 'B00F1MV81C', 'B00FCBLKTM', 'B00FF100KE', 'B00FFT4LDI', 'B00GOFPA46', 'B00IPPZHW8', 'B00IS93X22', 'B00J23C5PO', 'B0000DD1O2', 'B00023RYPO', 'B0002YUHAW', 'B00095OL1K', 'B0009GZKJ6', 'B0009H79PI', 'B000AMGVAG', 'B000B2UBJC', 'B000BXHINS', 'B000FNKV60', 'B000GZ2IIG', 'B000HTG6FW', 'B000HZXBAE', 'B000IM706C', 'B000M5GXB8', 'B000PSR4CE', 'B000PUJ8FI', 'B000QSN5VM', 'B000R9ABW6', 'B000SDMQQ0', 'B000TQG5QI', 'B000UFR7T2', 'B000UVYTOC', 'B000ZIPJWG', 'B0011YN8US', 'B00132MLE2', 'B0015YVHOI', 'B0016JKJUA', 'B00198A5C0', 'B00198C3GQ', 'B001AAEG9A', 'B001AEOB0A', 'B001ASSFR6', 'B001AT49XY', 'B001AZPW9S', 'B001BEL5A8', 'B001DHGBXY', 'B001DHGDTG', 'B001G0JYFA', 'B001KJTVD2', 'B001MS1HWY', 'B001TIWJQ0', 'B001VMEXP4', 'B001XVGWSO', 'B001XW63JG', 'B00239JZWK', 'B00239WCOI', 'B0025VK2NW', 'B0025Z8JOW', 'B0026GQBY0', 'B002BBDHR4', 'B002CS0MJW', 'B002DHSQX6', 'B002E1GEJ4', 'B002GQSUK8', 'B002HMO3ES', 'B002OBLEX0', 'B002YG3Q4K', 'B002ZNLOF0', 'B002ZNLOGO', 'B002ZNNRZU', 'B00308NBYQ', 'B0030M5MBC', 'B0030Z8R2K', 'B0031RG788', 'B0034IOE20', 'B003B7Y9AG', 'B003BIGDDG', 'B003BIGDFY', 'B003BIGDRM', 'B003KUT89Q', 'B003LZVN2A', 'B003V1IB5Q', 'B004142WKC', 'B00421IPHS', 'B00439HLRE', 'B004443WH6', 'B0045LU8D4', 'B00478LZQE', 'B0047CXWWK', 'B004ATXJ8M', 'B004F7AELO', 'B004H3XPJO', 'B004H3XRCY', 'B004H3XSBE', 'B004H3XSBO', 'B004H3XST6', 'B004H3XT9U', 'B004H3XVCU', 'B004OLPGW8', 'B004SBMPZ0', 'B004UEG4L6', 'B004W6IL04', 'B004XLDYYQ', 'B004XLE5SK', 'B004XLE602', 'B0050KJCT0', 'B0050KJYNY', 'B0050KL2DY', 'B0050O132U', 'B0050O1LQS', 'B0050O1OGU', 'B0050O25MM', 'B0050O2C0M', 'B0050O2VVW', 'B00511RL64', 'B0052QPB7O', 'B0053F8B62', 'B0053F9OKO', 'B0053Y2N30', 'B00545AMOA', 'B00564W31Y', 'B0056IYXZY', 'B0057FJ5UE', 'B005B483RM', 'B005B48LBU', 'B005B48M0U', 'B005B9C5IU', 'B005B9CKTY', 'B005B9CO6I', 'B005B9E1LY', 'B005BA2G8I', 'B005BNM4P0', 'B005BQS1ZO', 'B005DIGU8K', 'B005F5I69C', 'B005JSTCXO', 'B005KEGRO4', 'B005MMBARI', 'B005O0ENCC', 'B005T5JW2S', 'B006EAJQLE', 'B006GIRJ5O', 'B006R6N2WO', 'B006W9I6EU', 'B006YC7K8I', 'B00754RQZ6', 'B0076P0UFM', 'B0078QEEYC', 'B007G3NX1W', 'B007I6PCN4', 'B007KDYKU6', 'B007L9G1OW', 'B007NNCZH8', 'B007QFQZZG', 'B007X7FYO0', 'B007XW6ANE', 'B0085ZJ5KS', 'B0089LUZWA', 'B008A3NGDW', 'B008A9PJF4', 'B008F88MM2', 'B008X6A7HE', 'B009AK62U8', 'B009CEPI9S', 'B009CEPQPE', 'B009VBI88A', 'B00A8O04TU', 'B00AH5ZPVW', 'B00AH60G3S', 'B00AI6OX90', 'B00AUILLM8', 'B00B1WC6QM', 'B00B1XAZO6', 'B00B2B22TS', 'B00BBOY8OS', 'B00BHLJPUM', 'B00BIBEBGE', 'B00BPWQ0HY', 'B00BPWQ0VK', 'B00BYFRHBU', 'B00CG51KNS', 'B00DM8JVTI', 'B00DM8K6RO', 'B00DM8KTH6', 'B00DNGS2X0', 'B00DZU8GMQ', 'B00DZU8OW8', 'B00DZU9U58', 'B00DZUB74A', 'B00DZUBOXE', 'B00E0CVTHM', 'B00E0CVVS4', 'B00E0CW9MG', 'B00ECV3JHY', 'B00EHFOQM2', 'B00EO7QZ90', 'B00EOX2IRW', 'B00EXRRXWY', 'B00FA7YLDU', 'B00FCBLOES', 'B00FNX4KV4', 'B00HFGLZME', 'B00I3QOWJS', 'B0000CFXGH', 'B000148KH0', 'B0006FTYG0', 'B0006FU1J4', 'B0006OQCU2', 'B0006V8ML2', 'B00076ZPLG', 'B0007CXP1C', 'B0007XKIP2', 'B00084U29C', 'B0009H6058', 'B0009H60GM', 'B000B7VBSM', 'B000BQQ4D0', 'B000BQUTI6', 'B000BUKKQ8', 'B000DZDUVS', 'B000FH9NTM', 'B000H5QXC2', 'B000HMAD6W', 'B000HZVBFG', 'B000I0PODK', 'B000LO8SIQ', 'B000NO139A', 'B000PC63L8', 'B000V6Y7J8', 'B000Y8UP6M', 'B000Y8WOPM', 'B000Y8YJWS', 'B0012Q1ZS2', 'B00147DGQS', 'B0017NTSB6', 'B00198BYQ6', 'B001AAAZ04', 'B001AH5BEW', 'B001BJ8E7K', 'B001BWWXD8', 'B001DPHNBK', 'B001DPNYZO', 'B001DPQR0S', 'B001DPRHC0', 'B001DPSUGW', 'B001DPTVWO', 'B001DPV1VS', 'B001DPXC7Y', 'B001E08TDU', 'B001GKSOEM', 'B001HZWTT2', 'B001IMNE8E', 'B001KULXAU', 'B001L6CLRM', 'B001P0O5WI', 'B001P63PJ6', 'B001PGV8KO', 'B001QFZ6S4', 'B001TIZDTK', 'B001V6TY9A', 'B001VDLAM2', 'B0021J45DG', 'B0025TE9IS', 'B0025TJ92O', 'B0025YD6Z0', 'B0026T0RDS', 'B002AH7MOI', 'B002C3Q0A2', 'B002CRSNT4', 'B002F0MOQG', 'B002IRU238', 'B002LSMHVY', 'B002NOFGI2', 'B002P3UL2C', 'B002Q4U1SE', 'B002W8E2QQ', 'B002XLMBAG', 'B002YOJ70Y', 'B002ZHQGMC', 'B002ZHZN4Y', 'B002ZNICPU', 'B002ZNNCA0', 'B00307ZA7I', 'B0030BCDKG', 'B0030XYM9O', 'B0033CV4LG', 'B0034C40WA', 'B0034J8DQW', 'B0035WM2NI', 'B003BIGDPE', 'B003BNZXLO', 'B003CEVFV4', 'B003EFPA44', 'B003FW6ZV8', 'B003FXJ0FA', 'B003GF77U2', 'B003GL659K', 'B003IMMMLC', 'B003IPW8B8', 'B003JBBYIO', 'B003JN38PO', 'B003LIFQ5M', 'B003MNKT80', 'B003MQ5MKC', 'B003T60BQ0', 'B003XETOR0', 'B003XO0IT8', 'B00421DJOW', 'B0043WVM7G', 'B00446BM4O', 'B0046C04XQ', 'B0046X48AA', 'B0047736AS', 'B00496E9GM', 'B004EFCV5E', 'B004H3XQCK', 'B004H3XQCU', 'B004H3XU9Y', 'B004H3XW6K', 'B004H3XWP6', 'B004MNF0S8', 'B004NEYPJ6', 'B004NP87TE', 'B004Q01XSS', 'B004RV2CK4', 'B004TSP5EA', 'B004UM5Y32', 'B004VNCV54', 'B004WSAH18', 'B004XL1F0Q', 'B004XL3EQO', 'B004XLE8DC', 'B004XLEA0S', 'B004ZXCPCY', 'B0050KJZYW', 'B0050KKPXM', 'B0050KL1JE', 'B0050KLGIU', 'B0050O13N4', 'B0050O1Z8M', 'B00525XSQ6', 'B00529EIPW', 'B0052SRR42', 'B0053F80V8', 'B0053F89M8', 'B0053F9RLU', 'B0053RU4VK', 'B0053Y2KO2', 'B00545AB8W', 'B00545ABS2', 'B0055AIWVY', 'B00566DVYA', 'B00570QSMC', 'B0059E3SDS', 'B005B462YI', 'B005B4871E', 'B005B9GGSK', 'B005BNMR34', 'B005BNN3OQ', 'B005DKRU32', 'B005GNMDVA', 'B005HF5YOK', 'B005L3GWGW', 'B005N0TG2A', 'B005N2NF8E', 'B005XCYQY6', 'B0062US70C', 'B0068RQF6W', 'B006YC7J84', 'B006YMWOSE', 'B0074Y1YQY', 'B0076OWA2Y', 'B00788WPFK', 'B007KDYK2E', 'B007LQIZDK', 'B007NXPTBM', 'B007P4WCW8', 'B007P4WDDQ', 'B00898G51I', 'B008B80FG2', 'B008K8TPI2', 'B008KFD3I8', 'B008M2IXH0', 'B008OADBM2', 'B008RL7BQK', 'B008RU2846', 'B00917BPN4', 'B0093NFZGY', 'B0093QTN0U', 'B00945LIDU', 'B009IO1C92', 'B009O0E5A8', 'B009OGHBJ4', 'B009YZKFZC', 'B009ZRS30I', 'B00A2T8VFU', 'B00A8O04VI', 'B00AF7UWB0', 'B00AH60IN6', 'B00AH60OTY', 'B00AMFM7KO', 'B00AUDALAG', 'B00AYBKKIM', 'B00AYBKW2Q', 'B00AZQQH3S', 'B00C28L4K8', 'B00DM8JFFS', 'B00DM8JS8W', 'B00DM8JXNM', 'B00DM8JYUO', 'B00DM8KFOI', 'B00DM8KL1A', 'B00DM8KSEU', 'B00DM8L5GU', 'B00DM8M1LI', 'B00DNGRKJC', 'B00DU6KQ4Q', 'B00DZU7ICA', 'B00DZU7V6S', 'B00DZU9U30', 'B00E0CWNB8', 'B00E0STVOE', 'B00E1AGSQ0', 'B00E35ILTU', 'B00E4Q0FF6', 'B00E687J10', 'B00ECV3KXW', 'B00ECX0FVA', 'B00EOLGZBO', 'B00ESJRIUO', 'B00F23OLDC', 'B00F2E62AG', 'B00FDCIZ4S', 'B00GDIWM4U', 'B00H8SYHFQ', 'B00IU5PVV0', 'B00009V3UX', 'B00009W3P7', 'B00009W3PM', 'B0000DK34V', 'B0000DK357', 'B0001XP254', 'B0006OQCBG', 'B0006OQCCA', 'B00092ZPQI', 'B0009GVYEG', 'B0009H606M', 'B0009H79LW', 'B0009H79NA', 'B0009H7A0W', 'B000ANWPJ6', 'B000AY0OFW', 'B000BPAIEW', 'B000BPEDDE', 'B000BQT3QK', 'B000BQW4OS', 'B000E846DA', 'B000EYHBCC', 'B000FKBP68', 'B000FNKVJW', 'B000HM7Y6E', 'B000I1EAFM', 'B000J6DJ8A', 'B000NJIVVI', 'B000NO1372', 'B000ORD7QI', 'B000OSLUMK', 'B000PSR4BK', 'B000Q7RR1W', 'B000S0PRNM', 'B000UOHUFY', 'B000UVLBFM', 'B000UVWE0I', 'B000X165UU', 'B000Y9059I', 'B0011YJE8I', 'B0011YJIU2', 'B001213WR4', 'B0013UE0XO', 'B0013WH958', 'B0015LWZOC', 'B0017GVSK2', 'B00198543A', 'B0019MKXJ6', 'B0019MP4QS', 'B0019MQO5S', 'B0019R4J32', 'B001AAEG9U', 'B001AAEGBS', 'B001ASSM6A', 'B001C41ZK2', 'B001CZF2DC', 'B001DCO4C4', 'B001DECN16', 'B001DHK8LU', 'B001DHKJU0', 'B001DHLEDG', 'B001DPQWE4', 'B001DPTPPC', 'B001DSLO2Q', 'B001DTB3GC', 'B001E6FNNS', 'B001E6FOAU', 'B001E8I03G', 'B001F80LQO', 'B001F82YBO', 'B001F9T60U', 'B001FCAVJW', 'B001HK8RNO', 'B001HKAQP6', 'B001HP4OP4', 'B001JSUQEC', 'B001MP7SYI', 'B001P5W02U', 'B001P61QXS', 'B001PBEG8A', 'B001UFGH24', 'B001V5NWZI', 'B0021JUQ16', 'B0021JYYGY', 'B0024HAVWE', 'B0025VK2LE', 'B0025VK2MI', 'B002A0SM26', 'B002B8C3O0', 'B002C04X68', 'B002C7QE0E', 'B002CSWUBA', 'B002DHWQZA', 'B002DZ3SPY', 'B002GPIPCW', 'B002IA3DB8', 'B002LSL6QQ', 'B002M2EKMI', 'B002P4MRDW', 'B002R1A7LW', 'B002R38IAC', 'B002TIS918', 'B002TUQHC4', 'B002UC2Z22', 'B002YG8U78', 'B002Z7VKNW', 'B002ZHQMXU', 'B002ZNG1OY', 'B002ZNNDWM', 'B0030864ZY', 'B00308SL1E', 'B0033QR2FE', 'B0036UQ5BE', 'B0037AGC7K', 'B0038ZS4I4', 'B003BNZ4ZY', 'B003CNASEK', 'B003DY7TYK', 'B003EAC0DI', 'B003EAC8XU', 'B003FXLWU6', 'B003GF54QQ', 'B003HRAFE4', 'B003HZC59E', 'B003JN501Y', 'B003JN6NLU', 'B003MNKUKM', 'B003N6UXNC', 'B003P2WP5S', 'B003SVKQ3O', 'B003T60E4E', 'B003VYXF36', 'B003ZVE0EI', 'B0040754TG', 'B0041Q5GYY', 'B0045FP664', 'B0046H5I8W', 'B0046HA9XQ', 'B0049I6QCU', 'B004AQQQ1M', 'B004CT3ERQ', 'B004FE7E2O', 'B004FGME7W', 'B004GU6AGS', 'B004H3XUFI', 'B004H3XV3E', 'B004H3XVZC', 'B004H3XX6E', 'B004HJH1UM', 'B004I50HZQ', 'B004K9MZV4', 'B004L5E8NK', 'B004S9C79Q', 'B004WP4CNA', 'B004WSAG5A', 'B004XLDFDQ', 'B004XLDN7E', 'B004XLDP0E', 'B0050O1OAG', 'B0050O1R80', 'B0050O2E00', 'B0051SSYHM', 'B0053HQ7UM', 'B0053Y2P5G', 'B0053Y2QGY', 'B0053Y3B4U', 'B00545B18Q', 'B00545BE6U', 'B00564V0FE', 'B0056IZ0MY', 'B0058CS4T4', 'B0058JRXYE', 'B005AR8KDM', 'B005ARC542', 'B005ARCA92', 'B005B4FD84', 'B005B5RM8W', 'B005B9CN50', 'B005B9E3NU', 'B005BA4HTE', 'B005BYRYKO', 'B005D2K8J8', 'B005DNT7L2', 'B005KEE2VE', 'B005KT4J80', 'B005NIBEYU', 'B005YNV78C', 'B00655HJJE', 'B006CS76II', 'B006JJKACY', 'B006JRLIVS', 'B006ROXKJG', 'B006WNOGEU', 'B006Z2PNP4', 'B0075GB2SQ', 'B0076L742S', 'B0076OZULM', 'B007G3PCEI', 'B007KDXV4W', 'B007MPES9K', 'B007RJZN4U', 'B007ZDH6R0', 'B0083GCKVK', 'B008493DXU', 'B0085ZIPTK', 'B008B0V91A', 'B008B7W40S', 'B008FL7IP6', 'B008KTIGZ4', 'B008M2IDVG', 'B008OE3XPS', 'B008PEMJ2A', 'B0092XNICS', 'B0093Q4Z12', 'B0093R3ENG', 'B00A0NDMN4', 'B00A3EUE4A', 'B00A8O06L6', 'B00AF7RY4S', 'B00AF7UQWK', 'B00AF7X2ZS', 'B00AFSN6GM', 'B00AH5ZAW6', 'B00AH5ZKE4', 'B00AH5ZWMO', 'B00AH60ASO', 'B00AO6LUJA', 'B00AOG6AFY', 'B00AQJU8GG', 'B00B76R5NG', 'B00BD5GZ3C', 'B00C6EDG4U', 'B00CD3L74A', 'B00CEZBHYC', 'B00CGWEOZM', 'B00CM6IXCC', 'B00CMHU2CA', 'B00CQA7GE0', 'B00CW0O1EW', 'B00CW15S84', 'B00CY471Z2', 'B00D1X37KI', 'B00DM8J2M4', 'B00DM8JD1O', 'B00DM8JHTM', 'B00DM8KD90', 'B00DM8KN72', 'B00DM8KWR8', 'B00DM8LGXM', 'B00DRIEMVA', 'B00DYZ1P4I', 'B00DZU7V0O', 'B00DZU809A', 'B00DZU8H5C', 'B00DZU92H4', 'B00E0CVNZU', 'B00E0CWAPM', 'B00E0CWV60', 'B00E4O0M2Y', 'B00E4O0SF0', 'B00EEIHFUM', 'B00EHEAAFK', 'B00ENOQOYU', 'B00EO7Y3F8', 'B00EUUFFC4', 'B00F21F2KK', 'B00FCBLKOW', 'B00GG14102', 'B00J5CD9KC', 'B00009W3P8', 'B0002YTMXK', 'B0006FU17Q', 'B00076WO10', 'B0007CXQG6', 'B0007CXQJ8', 'B0007IQPSQ', 'B0007L9J9A', 'B0009GVYGO', 'B0009H79US', 'B0009JLRN6', 'B0009X8IPM', 'B000BPUX8S', 'B000CDFEP6', 'B000COCRBY', 'B000CQT73S', 'B000CQT74C', 'B000CSSL6K', 'B000DZDPI6', 'B000E88BWW', 'B000FIZMDC', 'B000FKDDVS', 'B000FKEZJM', 'B000FNJ5UI', 'B000FNP36S', 'B000FNP37W', 'B000H3BUCM', 'B000HJ97QC', 'B000I0PJ4Y', 'B000IBDE5Y', 'B000KKKRTO', 'B000KKMF3U', 'B000QTR6BQ', 'B000R9CFT8', 'B000UVUSZQ', 'B000UVYH1W', 'B000UVYNIE', 'B000UW017A', 'B000V6T97I', 'B000W0N0B4', 'B000Y8WPHE', 'B000ZIIO32', 'B000ZIMNE8', 'B000ZIPK98', 'B0010HE15W', 'B0011YFLXU', 'B0011YFPPO', 'B0011YHM00', 'B0011YHP0W', 'B0011YJDXY', 'B0011YJI3Y', 'B00132IKQK', 'B0013CMU48', 'B00147FJM2', 'B00155WIWW', 'B0015LWZLK', 'B0015LYLUI', 'B0015YX5U2', 'B0017K8TVO', 'B0018YOO86', 'B0018ZYNHM', 'B001A5CXLI', 'B001AAAZ22', 'B001AO2TC2', 'B001ASD73S', 'B001B48UMO', 'B001B4E0VO', 'B001B4E0XW', 'B001BS9FTM', 'B001BWRH66', 'B001BXC2GU', 'B001CROCOK', 'B001DEBYMU', 'B001DEGPL0', 'B001DHNGBY', 'B001DPP650', 'B001DPPU6A', 'B001DPRZA4', 'B001DPU1R8', 'B001E0N4Q2', 'B001EJD7NI', 'B001F8DLH0', 'B001F8KUVK', 'B001G0SOGA', 'B001G8MBMU', 'B001GILRLG', 'B001ICQF2Q', 'B001KWCGEU', 'B001P5XSJ4', 'B001PMZ96C', 'B001PT3E4E', 'B001TNFM6E', 'B001UOSKWU', 'B001XW6G6G', 'B0026T19SA', 'B0027HXDNA', 'B0028WZTC2', 'B00294J5ZG', 'B00294KXKW', 'B0029UK662', 'B002ACLUUA', 'B002GIG7GA', 'B002HD6U3E', 'B002HK1AE6', 'B002J2LX1W', 'B002JY2I0U', 'B002KQMK7S', 'B002LSOYJW', 'B002MZ8I6Y', 'B002OF0OKK', 'B002P4OYRY', 'B002R0DXNM', 'B002TG2REA', 'B002TSG5TG', 'B002W6LXII', 'B002X6JNA2', 'B002YGDPR8', 'B002YOJ4N4', 'B002ZHS7VU', 'B002ZHVV7C', 'B002ZNGFPO', 'B002ZNNDHC', 'B00305H7U8', 'B00309VWI2', 'B0030UNG4Y', 'B0032KBRCK', 'B0034IQ0PO', 'B0036V2HWO', 'B003BIGD9K', 'B003BIGDP4', 'B003DY3PRU', 'B003EAJPUO', 'B003GEV0GK', 'B003GXGBFG', 'B003HIO8CS', 'B003HQVEVI', 'B003LUWYQY', 'B003NAVSPA', 'B003O59XPG', 'B003PCHB4I', 'B003T60Q9W', 'B003ZYY0RW', 'B00413447C', 'B004502QDU', 'B0046HGYIU', 'B0047Q7V5K', 'B00493BDOQ', 'B0049YQGOW', 'B004A6SUKC', 'B004C3U0MY', 'B004C3XG6G', 'B004C3YSWW', 'B004C40GRW', 'B004CR4NO6', 'B004DD8S22', 'B004DD8SAY', 'B004E64B74', 'B004EJTMZM', 'B004GIZ8H2', 'B004H3XQ3E', 'B004H3XSB4', 'B004H3XSH8', 'B004H3XUNK', 'B004H3XUQ2', 'B004H3XWRY', 'B004HXJZQG', 'B004K3WN30', 'B004KMOJ3S', 'B004L99SWW', 'B004QF9QSC', 'B004S96K6C', 'B004V9191U', 'B004XLDCTS', 'B004XLDJQE', 'B004XLE1TI', 'B004XLE2GA', 'B004XQH9K6', 'B0050EH4EG', 'B0050KKHNU', 'B0050KKM4Y', 'B0050O25SG', 'B0050O2BHQ', 'B0051QJ478', 'B0052F99LE', 'B0052FUTKO', 'B0053F86W6', 'B0053F8AM2', 'B0053F8XLU', 'B0053F90T4', 'B0053RCA4E', 'B0053Y2E48', 'B0053Y2NNK', 'B0053Y2YF2', 'B0053Y2YUC', 'B0053Y330C', 'B00545ATO8', 'B0054H0YH8', 'B00564W3BO', 'B00570RIM6', 'B00579VCNS', 'B0057K2PVK', 'B0058RK2NA', 'B0058RK2US', 'B0059707R0', 'B0059E4QSY', 'B005AR78OO', 'B005B9CHL0', 'B005B9CI3C', 'B005B9CM1A', 'B005B9CTFY', 'B005CBOVAM', 'B005D77K3U', 'B005FLMJBW', 'B005HFB7L4', 'B005IBULDW', 'B005KT4JLW', 'B005LPIJES', 'B005MA0T22', 'B005NRIY5I', 'B005V457I0', 'B006E7X19A', 'B006EAK1PY', 'B006EVK89W', 'B006X79MS0', 'B006YVE71W', 'B0072GE8SU', 'B0076OWAUQ', 'B0076PNQ7G', 'B0077Z4PAM', 'B007D26QGK', 'B007D26ZNY', 'B007D274IE', 'B007W7EW0I', 'B007Y0ZTKU', 'B007Z9RBVK', 'B007ZDYD9Y', 'B0081LV860', 'B0082OGYNS', 'B0082OGZDM', 'B0085ZJBKM', 'B0089EUTZA', 'B008DJK000', 'B008DJK1A4', 'B008DJMZGC', 'B008LW5RF2', 'B008SV98HO', 'B008ZUIUK4', 'B00918MFZK', 'B0093NFYVU', 'B00945OBE8', 'B00949TD6U', 'B0094IOFJ6', 'B00957AWI4', 'B00969CYPK', 'B009CEPH2G', 'B009CEPIP2', 'B009CERWVK', 'B009CEUJCE', 'B009CEVS0G', 'B009CGAZT4', 'B009ERF1WM', 'B009ODV2E2', 'B009W9GJNW', 'B00A8O066G', 'B00A8O09HW', 'B00A8O0D6O', 'B00A8R47MW', 'B00AF7SDX4', 'B00AFSMO6U', 'B00AH5ZOGI', 'B00AH600LQ', 'B00AHR3IG4', 'B00AHR3JPO', 'B00AMF7X3A', 'B00ANUM23U', 'B00B5H43S2', 'B00BCAVY48', 'B00BEYOXZ4', 'B00BHGXYRW', 'B00BZWZZKM', 'B00C0YPJL4', 'B00C0YPJLE', 'B00CA9RXD6', 'B00CCILHN2', 'B00CEMRVXG', 'B00CI8C30W', 'B00CMQXV3S', 'B00CX745VS', 'B00CXNIU0Y', 'B00DHTYC3W', 'B00DM8L8HQ', 'B00DM8MDSO', 'B00DNGUCS8', 'B00DZU80E0', 'B00DZU972Y', 'B00DZU9HR4', 'B00DZU9MT2', 'B00DZUAGWY', 'B00DZUAH6O', 'B00DZUALRE', 'B00DZUB7EA', 'B00DZUBEES', 'B00DZUBOPW', 'B00E0CWHUU', 'B00E0CWLYW', 'B00E0CWPZ2', 'B00E4O0ORW', 'B00E93Y3KM', 'B00ECV377Q', 'B00ECV4JNM', 'B00EDI8FTS', 'B00EO7I2IW', 'B00EO7ROQI', 'B00EO817PQ', 'B00EPNXLM2', 'B00ET2SRQO', 'B00EV9MS0G', 'B00EXREQP6', 'B00EXS0L18', 'B00EXS57C6', 'B00F21ZR1O', 'B00F396J80', 'B00F5CPXGY', 'B00F6R1Y6Q', 'B00GEED2VK', 'B00GI3NA5A', 'B00GJD6X08', 'B00GNLMGS4', 'B00GNM8V0A', 'B00HNQ91U4', 'B00HYIJPP2', 'B00I9F063O', 'B00IHZP898', 'B00004SQHD', 'B00007E89M', 'B00009V3UE', 'B00009V3UF', 'B00009W44W', 'B0000DD0TT', 'B0000WM2IQ', 'B0000X1ZEW', 'B0001GUCME', 'B0001XLPDM', 'B00023RVR0', 'B0002GTTT0', 'B0002Z1F2A', 'B0002Z1GJW', 'B00068UU0G', 'B0006HKZ2U', 'B0006VALRA', 'B0007CXQFM', 'B0007WHC7A', 'B00097A4SW', 'B0009GZLYU', 'B0009H608U', 'B0009H79X0', 'B0009I641C', 'B0009PHGGC', 'B000BLMP7E', 'B000BQ8AK0', 'B000BQO5F4', 'B000BUMCFU', 'B000BVS06E', 'B000C13XMY', 'B000CDKULY', 'B000CO77W8', 'B000FAWUZI', 'B000FJQTM4', 'B000FNKVMO', 'B000GAROLW', 'B000GZ6H4W', 'B000GZ6I4Q', 'B000H92836', 'B000HE9YQK', 'B000HM5OWA', 'B000I0PJY4', 'B000I0T4XG', 'B000KKIGMY', 'B000KKMN3W', 'B000LCQYZM', 'B000OR6IW8', 'B000OZI26K', 'B000Q5TZSM', 'B000R9CFWU', 'B000SZN482', 'B000UVWB4W', 'B000UVYFKA', 'B000UVYJ10', 'B000UVZZFY', 'B000UW05XA', 'B000UW3OUG', 'B000V4460K', 'B000VGX9JW', 'B000VLBLRY', 'B000WPJ6J4', 'B000Y8SREY', 'B000Y8ZYQI', 'B000Z3QM2W', 'B0011YEH5I', 'B0011YHQHE', 'B0011YLTTA', 'B001212DVK', 'B0012RP2YY', 'B00147DFHI', 'B00147H9P2', 'B0015LZ6QG', 'B0015M2OA6', 'B0015YR0LC', 'B0016GT73I', 'B0017SG2OC', 'B0017SJIS4', 'B0017YHGXC', 'B0018MT5MI', 'B0018NCU0Q', 'B0018S1V88', 'B00198A58Y', 'B0019CDQAY', 'B0019CF25Q', 'B0019MMJNY', 'B0019R2SD0', 'B001AAEGAO', 'B001ANXLXY', 'B001ASD7BA', 'B001ASF0WY', 'B001BJWPTS', 'B001DC9OQU', 'B001DCVCOM', 'B001DHLN3C', 'B001DPJSSG', 'B001DPK2HM', 'B001DPOE8A', 'B001DPTN7W', 'B001DPUSLM', 'B001DPV5GY', 'B001E0K7BC', 'B001EWBYXA', 'B001EY0QC8', 'B001F84EH6', 'B001FD827Y', 'B001FWCIZC', 'B001FXJ926', 'B001G4ZQAS', 'B001GDI2HI', 'B001GLYE0E', 'B001ICS9JI', 'B001L2DUAS', 'B001L6EENQ', 'B001MBAYO8', 'B001NCH160', 'B001OA6DRY', 'B001P5W0OI', 'B001PAWUWK', 'B001QGKRSW', 'B001TIUL0G', 'B001V53YYC', 'B001VMGC44', 'B001VMH3PQ', 'B00202MWIE', 'B0023H6HVY', 'B0025VK2M8', 'B0026GZJ16', 'B0026T4446', 'B0026T6110', 'B0028WW1BO', 'B00294MOHM', 'B0029LKTF4', 'B0029T5FZ0', 'B002A0SZOG', 'B002ACEF9S', 'B002B4FY72', 'B002BV2MUW', 'B002DH16O2', 'B002GDCVLA', 'B002IMZ5G2', 'B002JACEF8', 'B002JPAFZE', 'B002KM6GPO', 'B002LSQ2P6', 'B002M2M1Z6', 'B002MAGA7S', 'B002NFM544', 'B002NPU88Y', 'B002NWF1MU', 'B002PHW0NQ', 'B002PJAWQG', 'B002Q6L4FQ', 'B002R0DXNC', 'B002R0DXO6', 'B002TK9RGC', 'B002UC6RP8', 'B002UD28I2', 'B002VC6X2O', 'B002YFZHUM', 'B002YG3L72', 'B002YJ0JUQ', 'B002Z7OEDK', 'B002ZNC0V2', 'B002ZNGBWG', 'B002ZNI3OK', 'B002ZNL5UE', 'B002ZNL9FK', 'B00303VCPG', 'B00308VAR6', 'B003177MGE', 'B0036PC1J4', 'B0037XJM7Y', 'B0038Z8VGO', 'B003AJ4P7C', 'B003BIGDD6', 'B003BIGDF4', 'B003BIGDHC', 'B003BIGDMM', 'B003BIGDRC', 'B003BNZXNM', 'B003CV4SG6', 'B003DASS2Q', 'B003EAK15W', 'B003FJBOZS', 'B003GTO8H8', 'B003HQRK8Y', 'B003JFH8YO', 'B003JOUJIC', 'B003JRDRQA', 'B003KU4E1I', 'B003MBROJE', 'B003N3PSCG', 'B003NAAVUS', 'B003O3D1II', 'B003XO2L84', 'B003YP2PG0', 'B003ZFVWOA', 'B003ZVMXT2', 'B003ZVP48O', 'B003ZZZDR2', 'B00406ZZ0A', 'B004443WGM', 'B0044FTUW6', 'B0044S13YQ', 'B0044UQEZC', 'B0044XBLG6', 'B0046BXKLK', 'B0046U9LQ4', 'B004702IWM', 'B0047Q9MLG', 'B0047SJCTQ', 'B00487AAWO', 'B0048CDTQI', 'B00496GMQC', 'B0049HLSRE', 'B004C42DU0', 'B004CE3WO6', 'B004CZLSD2', 'B004FE99MC', 'B004FJQ87G', 'B004GNBLDM', 'B004H3XQ16', 'B004H3XQM0', 'B004H3XQY8', 'B004H3XROM', 'B004H3XRTC', 'B004H3XS6O', 'B004H3XUBM', 'B004H3XV5C', 'B004H3XVN4', 'B004H3XVWU', 'B004H3XW1A', 'B004H3XX00', 'B004H3XX50', 'B004H6MV78', 'B004IXYAFG', 'B004JW63N8', 'B004KPU8VM', 'B004MISH74', 'B004MYDX5E', 'B004ORS3BI', 'B004P1111W', 'B004P5ZDIA', 'B004PHVM10', 'B004Q0GG3A', 'B004Q3XO7I', 'B004VNA0L6', 'B004WEHMD8', 'B004WP4BAO', 'B004XL00RU', 'B004XL1S0S', 'B004XLDRUM', 'B004XLDUK4', 'B004XLDXSS', 'B004XLEH38', 'B004YEAL4S', 'B004YKH4DS', 'B004Z4T436', 'B0050JKU6U', 'B0050KJD4O', 'B0050KKCYE', 'B0050KKZC8', 'B0050KLGTO', 'B0050O2APE', 'B0050XAYXK', 'B0051W8G1W', 'B0053F7WS0', 'B0053F89AA', 'B0053F8A86', 'B0053F8D6K', 'B0053F8LHQ', 'B0053F9I0U', 'B0053F9TZY', 'B0053K47TM', 'B0053K4NPA', 'B0053XFZ5Y', 'B0053Y2JOS', 'B0053Y2VV4', 'B0053Y2X4O', 'B0053Y2Z7O', 'B0053Y36O0', 'B005459WWI', 'B005459ZRK', 'B00545ASFS', 'B00545B3CU', 'B0054LDJ3K', 'B00564VNTW', 'B0056AP33S', 'B0056CEAOE', 'B0056HJ07Q', 'B0056IYZ98', 'B00570QTB2', 'B00570RGHI', 'B0057ZXH12', 'B005AR7060', 'B005AR8PJ6', 'B005ARAUUI', 'B005ARBB1K', 'B005B48JX0', 'B005B4DC5A', 'B005B9CIHI', 'B005B9CKLW', 'B005BHT2FQ', 'B005BNM2QG', 'B005BNMC5C', 'B005BNMDDI', 'B005BNN382', 'B005D9IR4Y', 'B005DMI9WG', 'B005GYYBG4', 'B005J8BJ62', 'B005JDA97C', 'B005KPKT9M', 'B005NCA02I', 'B005O0AZEM', 'B005O0D17K', 'B005UK2ZVM', 'B00636RTPO', 'B0069THKVI', 'B006EAJWWC', 'B006K4ZLYK', 'B006L8Q2XY', 'B0076P0R6Y', 'B007FK5GTS', 'B007HRM91M', 'B007K1NPX6', 'B007RE55G6', 'B007VKX1FS', 'B007Y0ZPL8', 'B007YA6ZHQ', 'B007ZRJQQK', 'B0081AY3VS', 'B0081E91FW', 'B0085BS6UW', 'B0085YQWT6', 'B0085ZITEQ', 'B0086TZ02U', 'B0086TZ048', 'B0089LUYJO', 'B008A9PHHO', 'B008B0V8UW', 'B008B7W3SQ', 'B008B7ZZ7C', 'B008DW04Z8', 'B008FRXGZ6', 'B008J4EUSW', 'B008J4TUY6', 'B008J527AY', 'B008KFG588', 'B008LZOUGG', 'B008M2IBTA', 'B008OF8CJO', 'B008OVKLII', 'B008UF4526', 'B008V1WC88', 'B0093NFV0E', 'B00986JZKS', 'B009BVZ068', 'B009CEV9BO', 'B009LN6XJ4', 'B009NWOUG6', 'B009T7V6OY', 'B009VSDDBU', 'B009YZKGA6', 'B00A005F2I', 'B00AF7WK10', 'B00AF7WTQ6', 'B00AFSMSR0', 'B00AH5ZU2G', 'B00AKHRVNW', 'B00AMF877G', 'B00AO1ZNTI', 'B00AO5QH7G', 'B00AO5YX2M', 'B00AOG62TS', 'B00APTRCDY', 'B00ARI70X0', 'B00AUDA034', 'B00AUDABUG', 'B00AYBKSHU', 'B00AYBLHAM', 'B00B1WS8KK', 'B00B551VO8', 'B00BAUPS9M', 'B00BGARHZO', 'B00BGJ6XVO', 'B00BHNV3T6', 'B00BIZDI0A', 'B00BTJ72QG', 'B00BWZ9YC2', 'B00BY48UU8', 'B00BYOFBPK', 'B00C58OIRQ', 'B00C5S02J4', 'B00CGW7BRA', 'B00CTKZI10', 'B00CUTFOZ0', 'B00CWKDEAO', 'B00CXAANF2', 'B00CY31848', 'B00D1AY3P4', 'B00D1FAKLK', 'B00D2ZOIQW', 'B00D698TSW', 'B00DBB2Q2A', 'B00DM8JD0U', 'B00DM8JR4C', 'B00DM8K84U', 'B00DM8KEJY', 'B00DM8KEM6', 'B00DM8KIJK', 'B00DM8KR4G', 'B00DM8L48O', 'B00DM8LBAA', 'B00DNGUD2I', 'B00DRIF6HO', 'B00DRZDENK', 'B00DUW327I', 'B00DUX5VRG', 'B00DZU7RTO', 'B00DZU8UD6', 'B00DZU953K', 'B00DZU9Z26', 'B00DZUAARA', 'B00E0CVPQ2', 'B00E0CWV7E', 'B00E646Z1E', 'B00E66Z2A2', 'B00ECEDZAM', 'B00ECV4IJ2', 'B00ECV51IO', 'B00ECV5UZI', 'B00ECV61N8', 'B00ECV65W0', 'B00EDN4COK', 'B00EHLM7MW', 'B00ELK42GI', 'B00ELQ7D4U', 'B00EM2JPLW', 'B00EO7OZGK', 'B00EO7YSWG', 'B00EOYMG82', 'B00EWDALK0', 'B00EWRSCHK', 'B00EXPCAKG', 'B00EZFPDO4', 'B00F226E06', 'B00F5V82OA', 'B00FF7UKHG', 'B00FFZEU6A', 'B00FH273TM', 'B00FH46AGM', 'B00FHX9UQK', 'B00FN8VDRS', 'B00FNX2KVG', 'B00FNXMDCW', 'B00FW4G71A', 'B00FX740EW', 'B00G6RD0D0', 'B00G9D0IWC', 'B00GA9ZNRA', 'B00GFZMJFI', 'B00H0K6NVI', 'B00H0KCDLM', 'B00HT39PBQ', 'B00II8ETPS', 'B00IVO8M3Y', 'B00KJI130Y', 'B00L07RWJE', 'B00L3087OM', 'B0000AMY05', 'B0000CFF2X', 'B0000DD1T9', 'B0000DI7ZA', 'B0001YH10C', 'B00024JWFI', 'B0002FZEL8', 'B0002Z1ENU', 'B00062ASQI', 'B0006GQANE', 'B0006OJ2AO', 'B0006Z16L6', 'B0007CXP5I', 'B0007CXQ0W', 'B0007CXQFW', 'B0007CXQL6', 'B0007L9J68', 'B0007L9J6S', 'B0007L9JBI', 'B0009H60TO', 'B0009H79N0', 'B0009H79QM', 'B0009H7ARU', 'B0009JE4S6', 'B000BEZV5Y', 'B000BO1KE0', 'B000BQL20A', 'B000BQOSAG', 'B000CO77XC', 'B000COCRC8', 'B000CQV9TI', 'B000CRIIVY', 'B000CSP80W', 'B000E0IDQ4', 'B000E846AS', 'B000F9B71C', 'B000FK99DO', 'B000FKEYJS', 'B000FNJ5QW', 'B000GZ6KIU', 'B000HE8G0A', 'B000HJD7DG', 'B000HMBWUI', 'B000I0O6PM', 'B000I1EHXW', 'B000I5TU8U', 'B000IBWMPC', 'B000IJTBFS', 'B000JLIZD4', 'B000JLIZES', 'B000KKISA4', 'B000KKMPVW', 'B000KKO5GK', 'B000L8DGXO', 'B000LDC694', 'B000LDIPIA', 'B000LNPJWA', 'B000NMK1D6', 'B000O7F8QU', 'B000OBB5D6', 'B000OGS4EY', 'B000OMUVK8', 'B000PGHKHU', 'B000Q6OP0O', 'B000Q6PCME', 'B000RHWJYG', 'B000RHYMO6', 'B000S2ROL8', 'B000SMSAPW', 'B000UN5TOY', 'B000UN5TXU', 'B000UVHMVO', 'B000UVLC4M', 'B000UVUPPY', 'B000UVUTBY', 'B000UVZYGE', 'B000UW05YE', 'B000UW1VVK', 'B000UW3ONS', 'B000V6WDFS', 'B000VBBOGM', 'B000WJUBN0', 'B000WU2EOI', 'B000Y8SRN0', 'B000Y8YGO4', 'B000Y8ZYAO', 'B000Y91DTY', 'B0010YWNK0', 'B0011YFMMU', 'B0011YFMSE', 'B0011YFQUI', 'B0011YFSWY', 'B0011YHHVO', 'B0011YJL5Y', 'B001212DU6', 'B0012RRNMS', 'B00133V0TI', 'B00147FJ3G', 'B00155ZQIU', 'B0015LVH96', 'B0015LYTEG', 'B0015YVA22', 'B0015YVP2W', 'B001652LU0', 'B0016A8JEM', 'B0018MUR5C', 'B0018S08CS', 'B0018YK6WY', 'B0019C6YOO', 'B0019C81RC', 'B0019CGTQM', 'B0019MKE4U', 'B0019R2OWA', 'B001A5CWIM', 'B001A5G2LK', 'B001A5G2PG', 'B001A5HT94', 'B001AAEG5Y', 'B001AAEG7W', 'B001AO2OXQ', 'B001AO2TE0', 'B001ASNBYS', 'B001ASQDN4', 'B001BA1MQY', 'B001BEOG18', 'B001DEACM8', 'B001DHP6ZI', 'B001DPFJN4', 'B001DPLUDW', 'B001DPR0J0', 'B001DPW0XQ', 'B001DW0I4C', 'B001E0P6ZY', 'B001ELEFGY', 'B001EPEBZ0', 'B001F1Z8LE', 'B001F88A7Q', 'B001G84VWI', 'B001GIUPYQ', 'B001GRFZHO', 'B001GT0JC8', 'B001HMFYP6', 'B001HOD5UU', 'B001HSAP6S', 'B001I2QIY6', 'B001I849T6', 'B001ICNWHW', 'B001J7O5WW', 'B001KDZ9JS', 'B001L2FN3U', 'B001L47JS0', 'B001LD3X18', 'B001P61SZ4', 'B001QGKIXG', 'B001QV3A8G', 'B001UOUNNY', 'B001VKY8I8', 'B001VMPSJE', 'B00213L3Q4', 'B002567A00', 'B0025TH9BC', 'B0025TV0KI', 'B0025YT5OQ', 'B0026RWGB6', 'B0027A2GVC', 'B0027AHBJ4', 'B002829NF6', 'B0029ONFF2', 'B002BG7ARW', 'B002BG9HDW', 'B002BMWI0K', 'B002BW8D04', 'B002C3TJK0', 'B002D0KZMI', 'B002DH1L9M', 'B002E1GEKS', 'B002EPUNYM', 'B002FBQ5C4', 'B002G1VXBG', 'B002GBAAKQ', 'B002GUOZHQ', 'B002MPJ7EQ', 'B002MUAGEG', 'B002R0DXLE', 'B002S3S87O', 'B002SETBD8', 'B002TG8HEE', 'B002TIB5NM', 'B002TPM3MM', 'B002UCYZ0M', 'B002UR6MOY', 'B002USWMSS', 'B002UXQ5B8', 'B002VW7ZHQ', 'B002Y0Z8P6', 'B002Y2KE8U', 'B002YG6OXK', 'B002YOHZF8', 'B002YT7YLI', 'B002YTO7QI', 'B002YTODEY', 'B002Z7VOSI', 'B002ZDCBDY', 'B002ZNBZFY', 'B002ZNC4RC', 'B002ZNEBLE', 'B002ZNFWOO', 'B002ZNG99G', 'B002ZNGE00', 'B002ZNGFOK', 'B002ZNI1JW', 'B002ZNIFRK', 'B002ZNLMIE', 'B002ZNLOAK', 'B002ZNNC7S', 'B002ZNNHFA', 'B002ZNNK8E', 'B002ZNP8U2', 'B003087GBA', 'B00308ASTW', 'B00308KHC0', 'B0031CUBUS', 'B0031CZIE2', 'B0031JEVD4', 'B0031XHWVS', 'B0031XQRE6', 'B0034CFHIQ', 'B0034ISK1G', 'B0034J1II2', 'B0034Y9ZBY', 'B003639H9S', 'B0036F3T36', 'B0036VAX0C', 'B0037XJDKK', 'B0038QXVQS', 'B0039VRDT8', 'B003BIGD0E', 'B003BIGDFE', 'B003BIGDKY', 'B003CLA0ZO', 'B003CY60I2', 'B003DA62TM', 'B003DY9YWK', 'B003EAE6FI', 'B003EAHZBA', 'B003EAI4ZQ', 'B003EAI5FK', 'B003EALZ3O', 'B003EG0L5Q', 'B003EG69MA', 'B003EYK14O', 'B003GEYTAE', 'B003HQPXF6', 'B003JBKCWS', 'B003JN4ZH4', 'B003JN7X0U', 'B003JNE5CE', 'B003JV3ZD6', 'B003KZKMO6', 'B003L4SH5M', 'B003N6F25G', 'B003NYBKWC', 'B003O44HNU', 'B003O5QARK', 'B003P991US', 'B003Q2EVUO', 'B003RC9UQI', 'B003T65E9O', 'B003TW0Q28', 'B003U8JW44', 'B003V1CSG4', 'B003V3N5LY', 'B003WFEEC0', 'B003X5ZP8Q', 'B003XF6JHC', 'B003ZDE6SQ', 'B003ZVK2NG', 'B003ZVOXTA', 'B00400RUV8', 'B00406ZXC0', 'B0041EJ1PG', 'B0043MQE2E', 'B0045DWIVM', 'B0045F7RBG', 'B0046H3QFO', 'B0046HGSYA', 'B00482D7JW', 'B004874UH0', 'B0049I4PQE', 'B0049I7Y12', 'B0049I848E', 'B0049IBM7Y', 'B004BEHVNU', 'B004C3XI00', 'B004C3YSTA', 'B004C3Z6CI', 'B004DLXTCS', 'B004EF8LYO', 'B004ETH27W', 'B004EUKWUA', 'B004F0M4JG', 'B004F9Q9GQ', 'B004F9Q9H0', 'B004FN4LKS', 'B004H3XPJY', 'B004H3XPY4', 'B004H3XQ0C', 'B004H3XQ0W', 'B004H3XQIE', 'B004H3XRP6', 'B004H3XSQO', 'B004H3XSR8', 'B004H3XUHG', 'B004H3XX14', 'B004LAUY0Q', 'B004MSKNSU', 'B004N759CK', 'B004OOS3RA', 'B004ORV57M', 'B004PB85AW', 'B004PYEB4I', 'B004Q0SUVQ', 'B004Q3Y80K', 'B004QPZ9W4', 'B004RXL6YA', 'B004VN8G94', 'B004VN9BTI', 'B004W2V1K0', 'B004W6IL1S', 'B004WSAHJU', 'B004X27N9W', 'B004X85N2A', 'B004XL1SCG', 'B004XL25TQ', 'B004XLDDBU', 'B004XLDH3E', 'B004XLDIA6', 'B004XLDJJQ', 'B004XLDWSO', 'B004XLDXKG', 'B004XLDYLO', 'B004XLEIZK', 'B004XVEQ9S', 'B004Y3ACYS', 'B004ZEVGIM', 'B0050KJKR4', 'B0050KJLXC', 'B0050KJMFO', 'B0050KJR90', 'B0050KJSEE', 'B0050KK1JK', 'B0050KK1QI', 'B0050KK3QG', 'B0050KKVS6', 'B0050KKXK2', 'B0050KKYJW', 'B0050O1E9W', 'B0050O1QHC', 'B0050O26TE', 'B0050O29QO', 'B0050O2JIC', 'B0051AITHA', 'B0051O83IG', 'B0051O8YWG', 'B00529N23G', 'B0052EGD14', 'B0053F7MP8', 'B0053F7NSO', 'B0053F7PIC', 'B0053F7X6Q', 'B0053F8GOY', 'B0053F8MMU', 'B0053F8O5U', 'B0053F9NY6', 'B0053RI8SG', 'B0053Y2E2K', 'B0053Y2FDI', 'B0053Y2T5C', 'B0053Y2VJG', 'B0053Y2XJ4', 'B0053Y2ZYC', 'B0053Y3B72', 'B0053Y3B9K', 'B00542MX4K', 'B005459XEU', 'B00545A4QQ', 'B00545AAOW', 'B00545AV9Q', 'B00545B3IO', 'B0054LD8EK', 'B00563VF32', 'B00564VX42', 'B0056AP2SO', 'B0056AP2WU', 'B0056CEATO', 'B0056IYON0', 'B0056IYPNY', 'B0056IYYG2', 'B00570REFW', 'B0057FQME6', 'B0057WCKM2', 'B0058CE4YS', 'B0058RK3O8', 'B005AR6RFK', 'B005AR70YW', 'B005AR8LKE', 'B005AR9K0E', 'B005ARCQSW', 'B005ARCRXG', 'B005B45NP2', 'B005B48FPM', 'B005B49GG4', 'B005B4DY4Y', 'B005B9CHTM', 'B005B9CI7I', 'B005B9E0CO', 'B005B9EOEI', 'B005B9EWKE', 'B005B9GNME', 'B005BA3O6Q', 'B005BHT21U', 'B005BHT2RO', 'B005BHT6K2', 'B005BHT73I', 'B005BNMY2S', 'B005CW7OM8', 'B005CWSG0M', 'B005E0KD9O', 'B005ELW4WM', 'B005FYOWUU', 'B005HF5FS0', 'B005HKFQW0', 'B005J2JT88', 'B005JDA8VY', 'B005KDBKA6', 'B005KEEXEK', 'B005KEF7C2', 'B005KEGP4G', 'B005LLEBNU', 'B005NQFXOO', 'B005OTCTRO', 'B005P4WXYC', 'B005SAFDK4', 'B005SPDN1A', 'B005SYDEMY', 'B005WW3Z6W', 'B0061Q1SPI', 'B0063C1D32', 'B0063C1FN0', 'B0063C1N6Y', 'B00642NLAE', 'B0064XXA2W', 'B006E7TUAE', 'B006E7WDOE', 'B006EAJUQA', 'B006EAKA5U', 'B006F6K0PI', 'B006F6LVTW', 'B006HH929A', 'B006Q125KA', 'B006T2H60U', 'B006UH8GD0', 'B006UMHYWO', 'B006ZZU55Y', 'B0071NVWXS', 'B0072N69ZI', 'B0074WFW28', 'B0075CU0RY', 'B0076OWEZ2', 'B0076P14MU', 'B0077AYPUC', 'B0079UV77Y', 'B007JWXTFA', 'B007MU1X4I', 'B007NW5V3O', 'B007R79PJQ', 'B007RBRPTY', 'B007RBRTV8', 'B007RUHKLI', 'B00804I5SC', 'B0081EA30E', 'B0083SMBEO', 'B0084931NM', 'B008493D4Y', 'B0084IXP4S', 'B0085NOQSQ', 'B0085Y45W2', 'B0085YQS4A', 'B0085ZIJI2', 'B0085ZIVKS', 'B0086TZ03O', 'B0087E6DHU', 'B0089LU7B4', 'B0089LUS0O', 'B0089YAVOO', 'B008B1H0ZS', 'B008B7VNAK', 'B008B7X1TQ', 'B008B7XE34', 'B008B7XVM8', 'B008B7ZQ44', 'B008DJJZRO', 'B008DJOQJ6', 'B008DJQ62Q', 'B008DJRFDA', 'B008DK0CUM', 'B008DK5QNU', 'B008F07L68', 'B008I6OHY8', 'B008L5J0AW', 'B008LTYBBG', 'B008LUNTQS', 'B008M2IE06', 'B008M2IMX0', 'B008O58JLA', 'B008O5J2U2', 'B008Q25JWI', 'B008Q25O5U', 'B008QMU964', 'B008WA5KWS', 'B008YDSTHQ', 'B008YJ5ZTK', 'B00908SHWQ', 'B0093NFW5I', 'B0093NFZJG', 'B0093QU0ZW', 'B0096TABPU', 'B009A10G18', 'B009B139SE', 'B009B6MZI4', 'B009CEP4WE', 'B009CEUJ1K', 'B009H0T7SK', 'B009IAACZ6', 'B009JFXGPS', 'B009L3I3DS', 'B009LBU6K8', 'B009M9VV0I', 'B009PNKPT4', 'B009TEM3OE', 'B009UPD0PS', 'B009UVGXCY', 'B00A2ME7WI', 'B00A8O063O', 'B00A8O0D7S', 'B00A8O0DNM', 'B00A8R4V6Y', 'B00A8WKGW2', 'B00AB20NUE', 'B00AF7SO3S', 'B00AF7U2TW', 'B00AF7UU4O', 'B00AF7W7N6', 'B00AFH5VDE', 'B00AFSMJ5Q', 'B00AH5ZBT8', 'B00AH5ZVCA', 'B00AH60AQ6', 'B00AJLIMEQ', 'B00ANRTOAC', 'B00ANU7QTK', 'B00AO5S7HE', 'B00AO6I89U', 'B00AQLJ5LI', 'B00AUDA0GQ', 'B00AUDAD4U', 'B00AUDAI04', 'B00AYBKSGG', 'B00AYBKUAA', 'B00AYBL0IG', 'B00AYBLIPG', 'B00AZ67M3W', 'B00B2OCVP0', 'B00B3JFB0Q', 'B00BBFV3H2', 'B00BBJIWVS', 'B00BJMH4MK', 'B00BWOFW88', 'B00C7JBUTW', 'B00C8DHX34', 'B00C9OOP5Q', 'B00C9YTN08', 'B00CA7JTW6', 'B00CG50304', 'B00CGW8386', 'B00CLVTE4Y', 'B00COKDOOI', 'B00CPKX2UI', 'B00CQF4W60', 'B00CSCCX80', 'B00CVY4UAY', 'B00CZZPQP2', 'B00D2KPZ2S', 'B00D8JB716', 'B00D9O8R2C', 'B00DI97NU0', 'B00DI9J3VM', 'B00DM8J6WU', 'B00DM8KAHU', 'B00DM8KR9Q', 'B00DM8LOYS', 'B00DM8M302', 'B00DM8M46K', 'B00DM8M47E', 'B00DM8MDN4', 'B00DM8MEJW', 'B00DMJ85QW', 'B00DNGQWLE', 'B00DNGUEPE', 'B00DNGUG4I', 'B00DNGVWMI', 'B00DRI9L3O', 'B00DUJSKXC', 'B00DXM8JMI', 'B00DYN29OU', 'B00DZU7LI6', 'B00DZU8K1S', 'B00DZUA3BS', 'B00DZUACIW', 'B00DZUAEIA', 'B00DZUARB4', 'B00DZUB48O', 'B00E0CVMGU', 'B00E0CVUNA', 'B00E0CVYBI', 'B00E0CWRLO', 'B00E3MFO70', 'B00E4O0GXE', 'B00E4O0M6K', 'B00E62ZLZM', 'B00E634HKG', 'B00E6KIQII', 'B00ECV30FU', 'B00ECV37A8', 'B00ECV3JIS', 'B00ECV4D2O', 'B00ECV59RC', 'B00ECV5OCM', 'B00EM2JO9U', 'B00EO8AY5U', 'B00EOK5IFO', 'B00EOVIT2W', 'B00EPNU3B4', 'B00EUC4F0U', 'B00EUC8D5S', 'B00EVWN93I', 'B00EZACO8M', 'B00EZW8FV0', 'B00F21WIGQ', 'B00F3VN17U', 'B00F6IA6ZA', 'B00FCBLKNS', 'B00FJSM5OW', 'B00FMZK3IC', 'B00FPYFS9Y', 'B00FXL0R5O', 'B00G9DILU8', 'B00GD29S7U', 'B00GEH0AP8', 'B00GI0VSZC', 'B00GOHJR7K', 'B00GS6CRRO', 'B00GUTDYWQ', 'B00GZGCGQO', 'B00HEU6R74', 'B00HN9TKZ2', 'B00INXGA1O', 'B00J5CD01U', 'B00J9Q47PA', 'B00JF4MPB4', 'B00JH7MG36', 'B00KC8Y2ZE', 'B00004TBK7', 'B00004YUNO', 'B00004YUNP', 'B00005LPEO', 'B00009V3UV', 'B00009W3GQ', 'B0000CEKWZ', 'B0000CEL24', 'B0000D8778', 'B0000TN7OC', 'B0000VSBYG', 'B00015NMVS', 'B0001GUBJS', 'B0001GUCBA', 'B0001GUCM4', 'B0001GUDKK', 'B0001MRVFO', 'B00022W2C0', 'B00024JWG2', 'B0002AE004', 'B0002EOQ2W', 'B0002Z1GQ0', 'B00042JXKW', 'B0006386WK', 'B00068FG8C', 'B0006FU0MW', 'B0006OQCPM', 'B0006ZUF22', 'B00074QU4O', 'B00074TBB8', 'B00074TBCM', 'B0007A5O90', 'B0007CXP62', 'B0007IQPSG', 'B0007L9J8Q', 'B0007L9JHM', 'B00097A14O', 'B00097FK6I', 'B0009GVYSC', 'B0009GZK78', 'B0009GZKAU', 'B0009GZN9S', 'B0009GZNSY', 'B0009H79KI', 'B0009H79TO', 'B000AO1G68', 'B000BDB6RC', 'B000BF5400', 'B000BQS1VS', 'B000BR8Z5Y', 'B000BUMGM4', 'B000CDKU1O', 'B000CO77WS', 'B000COCRBE', 'B000DZHF46', 'B000E0E3PO', 'B000E846BM', 'B000FKBZIQ', 'B000FPASMK', 'B000FPDO4Y', 'B000FPDO7G', 'B000FUMWWY', 'B000GAVO4U', 'B000GZ2FPW', 'B000GZ2H78', 'B000GZ2IAE', 'B000GZ6GGG', 'B000GZ6H5Q', 'B000H264R4', 'B000HE6P3A', 'B000HE8EU2', 'B000HJ72DM', 'B000HJ987K', 'B000HM7RAM', 'B000I0O6Y8', 'B000I0PK02', 'B000I0PLBU', 'B000IJWZWO', 'B000INPOZA', 'B000J0F06A', 'B000JJKT0I', 'B000KKOE66', 'B000KUARYE', 'B000L6MK42', 'B000LOAVUO', 'B000LOAYXI', 'B000LS0GRS', 'B000MEBJTK', 'B000MQFPP2', 'B000MXLVLC', 'B000N40IGY', 'B000NHXIXQ', 'B000NI4AUA', 'B000O75F6S', 'B000OGUSBQ', 'B000OGVVBC', 'B000OGXN18', 'B000OSLNFE', 'B000PL01L2', 'B000PUFU7I', 'B000Q6NZU0', 'B000QF9YPG', 'B000QU47KS', 'B000R9CFHA', 'B000RELWRO', 'B000RHYLIS', 'B000RO84FM', 'B000SDMQOW', 'B000SQWV1C', 'B000UNADHM', 'B000UVLB2K', 'B000UVMUWK', 'B000UVR4RQ', 'B000UVUQ4E', 'B000UVUQG2', 'B000UVWBRY', 'B000UVWC8W', 'B000UVWVR4', 'B000UVYAFK', 'B000UVYAZU', 'B000UVYC4Y', 'B000UVYCLW', 'B000UVYD6G', 'B000UVYFJQ', 'B000UVYJHE', 'B000UVYSY8', 'B000UW003K', 'B000UW03DW', 'B000UW0GZM', 'B000UW1VMY', 'B000UW2524', 'B000UW3T60', 'B000XT43VA', 'B000Y8SR8U', 'B000Y8UISC', 'B000Y8WPB0', 'B000Y8YGOO', 'B000Y8YL1W', 'B000Y91INU', 'B000YH70GQ', 'B000YZ6P8M', 'B000ZIMLWW', 'B000ZINOYG', 'B000ZIPH9G', 'B000ZIPNIG', 'B0010DM054', 'B0011YFMW0', 'B0011YFQ7Q', 'B0011YHOTO', 'B0011YHSFE', 'B0011YJFDW', 'B0011YLQTS', 'B0011YLW5Q', 'B0011YN9V6', 'B0012PUGKQ', 'B0012QFIYY', 'B00132MLF6', 'B00133P8TQ', 'B0013E838I', 'B0013E83S8', 'B0013U7C6Q', 'B00147DGKY', 'B00147H9PC', 'B00147H9Q6', 'B0014C3HGM', 'B0014KJ0T2', 'B00155SAXS', 'B00155Z2RA', 'B0015S4KIY', 'B0015YT8IA', 'B0015YVNGK', 'B00164RF7A', 'B0016GX3Q0', 'B0017SDKGU', 'B0017SHTTO', 'B0017SRAYI', 'B0019590JC', 'B00198A5A2', 'B0019CGTL2', 'B001AACK9I', 'B001AACKA2', 'B001AAEG4A', 'B001ASF0SI', 'B001ASQEJ2', 'B001AZVR0Q', 'B001B2VXPW', 'B001B4AQPI', 'B001B4G95E', 'B001B82LQ6', 'B001BAIGEK', 'B001BMA2JU', 'B001BO8JMA', 'B001C3W83Q', 'B001CCDRSC', 'B001CEPDIC', 'B001CL2DIS', 'B001D0OJ3A', 'B001DAX85U', 'B001DEAJCG', 'B001DEC5PK', 'B001DHGK94', 'B001DHKRJI', 'B001DHLBZC', 'B001DHLOJU', 'B001DHNH54', 'B001DHPC02', 'B001DPM4FK', 'B001DPO80E', 'B001DPPBNW', 'B001DPQWNK', 'B001E0IK8E', 'B001E0KF7I', 'B001E790UE', 'B001E8FXEK', 'B001E8G0SI', 'B001ECY0NQ', 'B001EK0INY', 'B001ELLLMK', 'B001ETAB4Q', 'B001EWEAZ4', 'B001EY12LM', 'B001F1XPIM', 'B001F55IHE', 'B001F58VR8', 'B001F80MRC', 'B001F82SA6', 'B001F86A8C', 'B001FCLTEI', 'B001FGY220', 'B001G0ALRU', 'B001G0LE6M', 'B001G0SOF6', 'B001G5QOAS', 'B001GDJOD4', 'B001GIQDBA', 'B001GRIP5I', 'B001HOE2CA', 'B001HSLBBQ', 'B001HT67AA', 'B001I3SOXS', 'B001ICTZHI', 'B001IXT2QQ', 'B001J7OR5M', 'B001K2YV9I', 'B001KOSNUE', 'B001KSQ4MO', 'B001L01NMW', 'B001M1UYMA', 'B001NPRIIS', 'B001O9QYOM', 'B001OO6KEG', 'B001P63PAK', 'B001P63PD2', 'B001PB2M0E', 'B001PKSUWY', 'B001PSVO7Y', 'B001QBZNRM', 'B001QFZ6QQ', 'B001QFZ6U2', 'B001QWYEDK', 'B001R5TSB4', 'B001RQ7CMU', 'B001TIZJSK', 'B001U8FKII', 'B001UAB6J8', 'B001UOWOJU', 'B001US1UIW', 'B001V8YJMA', 'B001VMI8CI', 'B001XTPY3K', 'B00257KVBO', 'B0025TH2DM', 'B0025TH84U', 'B0025VPS2M', 'B0026GMDU6', 'B0026GOJ6C', 'B0026GU7A4', 'B0026M4N5S', 'B00283WP1O', 'B0028NGS1C', 'B00294KS0M', 'B0029XMTJ6', 'B002BHG2CA', 'B002BZWBLI', 'B002C69XPS', 'B002C9F5WU', 'B002D3H0B4', 'B002DHHVNW', 'B002DQAOBE', 'B002DZ1PWM', 'B002E012DI', 'B002E1837A', 'B002EOZF2S', 'B002EP1ALC', 'B002EP1ALM', 'B002FAD7MQ', 'B002FAGZTI', 'B002GJP7DS', 'B002GQ1UQE', 'B002GZ9UFS', 'B002I9HADQ', 'B002KGB9EI', 'B002LSGJ86', 'B002M2I0DI', 'B002NDLXLW', 'B002NODSLO', 'B002OW6WYU', 'B002P42BBK', 'B002P45JIM', 'B002P45L3U', 'B002P46E40', 'B002PW8V4I', 'B002Q4U1NO', 'B002QQZMKY', 'B002QSPE78', 'B002QXSYPM', 'B002R1MUE4', 'B002SJVAXC', 'B002TNODQI', 'B002UC8OLS', 'B002UCV1K4', 'B002UCYYLW', 'B002UCZ6GY', 'B002VS3TKW', 'B002WDNY9M', 'B002XJHGA8', 'B002XJXAS0', 'B002YFXS44', 'B002YG4T3M', 'B002YODTRQ', 'B002YZX7RC', 'B002Z8GW2A', 'B002ZD6MJS', 'B002ZD8MHI', 'B002ZG9AU8', 'B002ZHVTJC', 'B002ZNBOPK', 'B002ZNC6HU', 'B002ZNDYCG', 'B002ZNDZX4', 'B002ZNFV4U', 'B002ZNG19E', 'B002ZNG1RG', 'B002ZNGAFE', 'B002ZNGBTY', 'B002ZNHVVG', 'B002ZNI1YW', 'B002ZNI7H8', 'B002ZNIDFY', 'B002ZNL7UC', 'B002ZNLFHW', 'B002ZNLNZQ', 'B002ZNNKSO', 'B002ZNNN1I', 'B002ZNP7Z8', 'B002ZNP8Y8', 'B002ZNPAKA', 'B00303XBA0', 'B00308JC5I', 'B0030NE2FS', 'B00310VJVA', 'B0031CZIHE', 'B0032AMC8I', 'B0032Y0BPK', 'B0034IRUR6', 'B0034IS3XG', 'B0034ISYU8', 'B0034IT8G2', 'B0034IVC4I', 'B0034JD3XU', 'B0035Q92JQ', 'B0036C2O76', 'B0036KANEO', 'B0036P4W32', 'B00389132O', 'B0038ZZMSE', 'B0039WBLTA', 'B003AJBUIE', 'B003BIGDQS', 'B003CUFL72', 'B003CX8E1E', 'B003DA6210', 'B003DAOOIS', 'B003DAUOPU', 'B003DOIB7E', 'B003DUJ2QC', 'B003EAE5EK', 'B003EAFVFC', 'B003EAHUI8', 'B003EAI212', 'B003EAI31Q', 'B003EAJQN0', 'B003FW74RM', 'B003FWCCTM', 'B003GIS2K8', 'B003GVHR24', 'B003H05JLA', 'B003HIM86Q', 'B003IG1U7U', 'B003IXFH6I', 'B003JN10WM', 'B003JN390I', 'B003JN4YJS', 'B003JN9SMQ', 'B003JRI0U8', 'B003KIOEXI', 'B003KT7SRG', 'B003LXVEWQ', 'B003M346WA', 'B003MNEPXA', 'B003MT9D2W', 'B003N2E0ZS', 'B003N6GQH4', 'B003NVPDCS', 'B003ORAYMU', 'B003PEAPQC', 'B003SFEWEE', 'B003T4HMWS', 'B003T5KVGG', 'B003TFBY80', 'B003TOC322', 'B003UJN4X8', 'B003X4KVL8', 'B003XEUSDO', 'B003XUQEFO', 'B003XW9QG6', 'B003YQ062Y', 'B003ZHG9Y6', 'B003ZVI85K', 'B003ZVLADM', 'B004078RZY', 'B00410YE7K', 'B00412XQLI', 'B00413WYTC', 'B0041PXSFY', 'B00438PNRK', 'B004443WGW', 'B0045JH27G', 'B00461C8Y0', 'B0046FC29C', 'B0046HIYRE', 'B0046MIQJK', 'B00475A7U2', 'B0047Q7JTS', 'B0047Q7T9S', 'B00482DGNE', 'B0048773YC', 'B00489IVZK', 'B0048I2FVM', 'B0049IFUR2', 'B0049OSUD2', 'B0049PNB3U', 'B004A6Q7PM', 'B004AQN7MS', 'B004BX0GT2', 'B004C3VUZU', 'B004C3Z6D2', 'B004C40H5I', 'B004C7TLWK', 'B004CZDYG6', 'B004CZLIYG', 'B004DD36Z6', 'B004DJDHFE', 'B004DTK0AE', 'B004EUI1VC', 'B004F8RNIU', 'B004FGME2M', 'B004FJPPNO', 'B004GJ0ME0', 'B004H3XPWG', 'B004H3XPYY', 'B004H3XPZI', 'B004H3XQ02', 'B004H3XQ52', 'B004H3XQBQ', 'B004H3XR2O', 'B004H3XWRE', 'B004H3XX28', 'B004H3XX6Y', 'B004H3XX8M', 'B004H3XX9G', 'B004HA9DNY', 'B004I52G5K', 'B004IMNTYK', 'B004J50V24', 'B004JWIMR8', 'B004KSDD4S', 'B004LAUY1U', 'B004LB2M00', 'B004LCJ1WG', 'B004LH1MBE', 'B004MCU17Y', 'B004MLTDBU', 'B004MUPVOY', 'B004N8XOIA', 'B004NKIV9A', 'B004NZT680', 'B004OPBO9I', 'B004Q05XSY', 'B004Q0F15E', 'B004Q0OZ6U', 'B004Q406C8', 'B004Q415GE', 'B004Q41M6M', 'B004QAFKLE', 'B004QAQLLW', 'B004QLC958', 'B004R9HCQK', 'B004S58WOY', 'B004SBP0JS', 'B004SI6VQM', 'B004SR7W20', 'B004UH719C', 'B004ULO9EI', 'B004W26CFO', 'B004W5S9DO', 'B004W6IKUK', 'B004WEH2VU', 'B004WSAHN6', 'B004XJ4NLG', 'B004XJ73P4', 'B004XL0UG6', 'B004XL1IR6', 'B004XL1WMM', 'B004XLDCZM', 'B004XLDET6', 'B004XLDGVM', 'B004XLDHCA', 'B004XLDJ64', 'B004XLDS4C', 'B004XLDZSG', 'B004XLE35A', 'B004XPNXN4', 'B004XQHD2A', 'B004Y0OV7K', 'B004YVODNG', 'B004Z1M9EK', 'B004ZIZH4M', 'B0050GXYH0', 'B0050KJKWY', 'B0050KJRY0', 'B0050KJUE2', 'B0050KJWYA', 'B0050KK0PA', 'B0050KK19A', 'B0050KKA6Y', 'B0050KKAUA', 'B0050KKCSU', 'B0050KKHRQ', 'B0050KKM62', 'B0050KKZ0A', 'B0050KL0YA', 'B0050KL1EE', 'B0050KLA8G', 'B0050O12PS', 'B0050O2DBK', 'B0050O2OV4', 'B0050O2V58', 'B0051O8YTY', 'B0051W8FF4', 'B0052EK0MW', 'B0052QXXYM', 'B0052QXYCS', 'B0052YOI0M', 'B0053F7QRW', 'B0053F8DVA', 'B0053K4UCQ', 'B0053Y2I1W', 'B0053Y2TE8', 'B0053Y2XYE', 'B0053Y2Y6Q', 'B0053Y30G4', 'B0053Y30PK', 'B0053Y37IK', 'B0053Y3AKK', 'B0053Y3AQO', 'B005459I4U', 'B00545ADOO', 'B00545ALNC', 'B00545B1FO', 'B0054QVUSQ', 'B0055GLKXA', 'B00564V5U4', 'B00564VO64', 'B00564VVE4', 'B00564VX5G', 'B0056IYOTY', 'B0056IYP3O', 'B0056IYP8O', 'B0056IYXE0', 'B0056IYXSG', 'B0056IZ0O2', 'B00570QRUK', 'B00570RAEM', 'B00570RK42', 'B0058W3ESU', 'B0058WGLEY', 'B00596T1QE', 'B005A3QUCY', 'B005AR6RK0', 'B005AR6UDE', 'B005AR7BD2', 'B005AR8J3S', 'B005AR93E2', 'B005AR9Y9Q', 'B005ARC2XQ', 'B005B461O4', 'B005B48CF0', 'B005B48GZQ', 'B005B48POI', 'B005B48UG6', 'B005B48UY8', 'B005B495V0', 'B005B49SW6', 'B005B4E68C', 'B005B9CAIA', 'B005BA2ECQ', 'B005BA3ATW', 'B005BA3MJU', 'B005BA4ABO', 'B005BHT5MQ', 'B005BNLYME', 'B005BNM838', 'B005BQRIC6', 'B005BW26QS', 'B005C78IEG', 'B005CXYIJE', 'B005D770D0', 'B005DIHE12', 'B005DUT18Y', 'B005E0KJDE', 'B005EY11GO', 'B005FNVNDK', 'B005HFB6II', 'B005HFB7E6', 'B005HFB7VY', 'B005HJ2XHC', 'B005HMP2D6', 'B005HYW4M6', 'B005JA07VS', 'B005KEEL2O', 'B005KEEQ7Y', 'B005KEG0DM', 'B005KEG3FW', 'B005KT4DHM', 'B005KYLB86', 'B005LPI2QI', 'B005M4A0HW', 'B005NFGV4Q', 'B005NRDWAK', 'B005OOZAYI', 'B005PX7QQ8', 'B005SHJA3I', 'B005SMAN3O', 'B005SPDPZY', 'B005UF6CXY', 'B005UKVXUQ', 'B005V440GK', 'B005WW9GVK', 'B0063AAC6S', 'B0067WNSEK', 'B006E7WSXU', 'B006JI0PRU', 'B006MIREBW', 'B006QHW6G2', 'B006R8JV4K', 'B006UXVK32', 'B006Z70C0K', 'B006ZZ1VQQ', 'B0071NV6UC', 'B0073ZDHMS', 'B0074Y0OCO', 'B0075D6UK4', 'B0076P0T8K', 'B00773ILWC', 'B0078JGWRG', 'B0078JGWW6', 'B00797TR56', 'B007EEVXCO', 'B007FGJA30', 'B007GCK7QW', 'B007I57LT8', 'B007IWFMMY', 'B007IZQYYQ', 'B007IZRTHM', 'B007KDYCP4', 'B007KDZ3Z2', 'B007KVXPZ4', 'B007OK6ASK', 'B007PJ0QTO', 'B007PQ0584', 'B007QD8PV0', 'B007RBRLGQ', 'B007RGNDM2', 'B007RJZL2E', 'B007RJZLX8', 'B007TCQEV6', 'B007UD2GJ8', 'B007US16WG', 'B007VD3A74', 'B007W7KYQO', 'B007XANO12', 'B007XZ8084', 'B007Y0ZJVY', 'B007Z72R5W', 'B007ZDH8XC', 'B007ZDYA24', 'B007ZT6W06', 'B0080BN77Y', 'B0080LM7V6', 'B0081736AU', 'B0081AY5D4', 'B0081LV7YI', 'B0082OGSIO', 'B0082OHMCA', 'B0083GBY8K', 'B0083ZODAM', 'B008492NP4', 'B0084IX7BO', 'B0085BEQSS', 'B0085FXFKY', 'B0085ZIJ5U', 'B0085ZJ3D2', 'B0087VFGUI', 'B00891PN7C', 'B0089LSLAS', 'B0089LSYW8', 'B0089LUOQC', 'B0089LUST0', 'B0089LUZ9I', 'B0089SXZ52', 'B008B7VNHS', 'B008B7ZTL4', 'B008D7XG0S', 'B008DIKFOM', 'B008DJIH9Q', 'B008DJMWAQ', 'B008DJX33Q', 'B008DK0CKC', 'B008DK0JV4', 'B008DK36X2', 'B008ERQRM6', 'B008F07LF4', 'B008I6RTGG', 'B008JL1M4A', 'B008LWC7PA', 'B008MNVBB4', 'B008NNPYKM', 'B008S704NK', 'B008S9TLKK', 'B008Y27LMQ', 'B008YDT2MC', 'B008ZUISCY', 'B008ZUITYQ', 'B008ZUIV9O', 'B00913ORS8', 'B00914FM7M', 'B0093Q30E0', 'B0093QWYLU', 'B0093R0QM8', 'B0093R11LI', 'B0093R5YQG', 'B0093RKDNA', 'B0096R4UL8', 'B009CEPVT0', 'B009JME3R6', 'B009JNG0H6', 'B009KOUNWW', 'B009L2Z2S8', 'B009M9UCM6', 'B009M9WPIU', 'B009NURTQ6', 'B009RPC61K', 'B009SL273K', 'B009TARWLC', 'B009TDG12A', 'B009TDJFN2', 'B009THTVZU', 'B009VU6WXY', 'B009WVHNSA', 'B009YZ4F3K', 'B009ZJEFXA', 'B00A06L8EG', 'B00A0WBEJ4', 'B00A16BDZE', 'B00A780WKS', 'B00A8O06YS', 'B00A8O0CG0', 'B00A8O0CH4', 'B00A8WKHLW', 'B00AAJBICU', 'B00AF7QELM', 'B00AF7S0I2', 'B00AF7U4CM', 'B00AF7UICS', 'B00AF7VEVW', 'B00AF7WLFK', 'B00AFCH78G', 'B00AFH824Y', 'B00AFSMMTE', 'B00AH5ZIB4', 'B00AH5ZY0E', 'B00AH600IE', 'B00AHR3JR2', 'B00AMF8EQA', 'B00AO5X4Y0', 'B00ARN2QIY', 'B00AUDA1NI', 'B00AUDA3DG', 'B00AUDABBU', 'B00AUDACLY', 'B00AUDAIZE', 'B00AVA5SEW', 'B00AYBLIPQ', 'B00AYBM1WU', 'B00B11ZBOC', 'B00B1XW72E', 'B00B2OF72O', 'B00B2OG4I0', 'B00B4YASX0', 'B00B5GU6AW', 'B00B719GS8', 'B00BD5V62W', 'B00BGKG9DA', 'B00BJNA7MI', 'B00BPWPZ70', 'B00BRX554A', 'B00BTL0F86', 'B00BY8ELQ6', 'B00C4R0AL6', 'B00C9YRLR0', 'B00CC2EXUW', 'B00CCYW9HO', 'B00CGW15HW', 'B00CGW7AJ4', 'B00CIF34E4', 'B00CL4LXYA', 'B00CL4SAPA', 'B00CM6J3EO', 'B00CM6J73Q', 'B00CMQXV06', 'B00CPSUFX2', 'B00CRIB5L6', 'B00CST5IAI', 'B00CXA9N6C', 'B00CXY9BJ2', 'B00CYPWXYU', 'B00CZCDRRE', 'B00D0BI3NW', 'B00D0XG5MQ', 'B00D450FR6', 'B00D8JSXIQ', 'B00D9CZZU6', 'B00DDOOPZG', 'B00DGFMQ0I', 'B00DHPHAJO', 'B00DHPLGPS', 'B00DJC2766', 'B00DM8J3SC', 'B00DM8J5MQ', 'B00DM8JFQM', 'B00DM8K318', 'B00DM8KBUQ', 'B00DM8KEK8', 'B00DM8KIKO', 'B00DM8KM3M', 'B00DM8KOQC', 'B00DM8L5GA', 'B00DM8LJMU', 'B00DM8M1OK', 'B00DM8M56Y', 'B00DM8M8PW', 'B00DM8M9P6', 'B00DNGR7MW', 'B00DNGV70K', 'B00DQRJ25I', 'B00DQXWK42', 'B00DRI9EJU', 'B00DRICXV6', 'B00DRIFJKS', 'B00DRIFXL8', 'B00DUW3L56', 'B00DUX5UQS', 'B00DVEZUOS', 'B00DW89OBS', 'B00DW89OU4', 'B00DZEYXYM', 'B00DZU7O7O', 'B00DZU7UXW', 'B00DZU8GM6', 'B00DZU9X3W', 'B00DZUA7U0', 'B00DZUAPH0', 'B00DZUAV5G', 'B00DZUB03S', 'B00DZUB24A', 'B00DZUBMB8', 'B00E05BEEC', 'B00E0CW3HC', 'B00E0CW4PS', 'B00E0FXS8C', 'B00E4BOQR4', 'B00E4O0J86', 'B00E4O0OPE', 'B00E6PMPJO', 'B00E6QSTGQ', 'B00E93XX08', 'B00E9ZP070', 'B00EAMD8P8', 'B00ECV2Y0M', 'B00ECV4AB8', 'B00ECV4BXU', 'B00ECV4H7U', 'B00ECV5HYW', 'B00ECV5MQ0', 'B00ECV5V52', 'B00ECV5Y9A', 'B00ECV63E0', 'B00ECWN9K0', 'B00ECX07VS', 'B00ECX0CSQ', 'B00ECX0DIU', 'B00EDQ6F8S', 'B00EHHKEGC', 'B00ELQ989I', 'B00EO7KEHE', 'B00EO7NVOM', 'B00EOX2KZ2', 'B00EP89YXW', 'B00EQ1WSZ4', 'B00EQ7MKHO', 'B00F4LL6DU', 'B00F57WGK0', 'B00FA84PC6', 'B00FAHF17U', 'B00FD9CKB0', 'B00FGKL382', 'B00FHX9UNI', 'B00FIF0CBE', 'B00FIYQCSC', 'B00FYV9M6S', 'B00G23MKHA', 'B00G5QH5AG', 'B00G6O3NOE', 'B00G9D1BKK', 'B00G9DHEHY', 'B00GBVG7CM', 'B00GFVR4XY', 'B00GGKOZC2', 'B00GHXU3VA', 'B00GJ2EZQ8', 'B00GNHSL2I', 'B00GOFSTGM', 'B00GPBOKAO', 'B00GSDQ2I2', 'B00GSY6AGA', 'B00GT6QKNK', 'B00GXCPRYI', 'B00H2NHZOC', 'B00H7HFINS', 'B00HH2YZT6', 'B00HNEJHBO', 'B00HNEJHE6', 'B00HNT4A8E', 'B00HQ0A66K', 'B00HQIF4XW', 'B00I3X73HO', 'B00IBP70MM', 'B00IVO7RZS', 'B00JDB5TO4', 'B00JG81GS2', 'B00JJZBHK4', 'B00JXR1O2O', 'B00KV0SKQK', 'B00LCWSB9C', 'B00004YUKE', 'B0000665T7', 'B00007E7S0', 'B00009V3UR', 'B00009V3US', 'B00009V3UT', 'B00009W3HE', 'B00009YWJX', 'B00009ZKVY', 'B0000CFSL0', 'B0000DD16R', 'B0000DD487', 'B0000E2ROS', 'B00012YWVA', 'B0001GU9G8', 'B0001GUBXE', 'B0001GUC56', 'B0001GUCFG', 'B0001GUCGK', 'B0001GUCL0', 'B0001GUCUQ', 'B0001GUCVK', 'B0001H0OQM', 'B0002GTTPE', 'B0002I20BC', 'B0002ONJ3Y', 'B0002U36KO', 'B0002Z1FJI', 'B0002Z1GJ2', 'B00066XYEM', 'B00067AVGK', 'B0006FTXR0', 'B0006FU1IU', 'B0006GCDA8', 'B0006OQCCK', 'B0006U64ZY', 'B0006VAM5Q', 'B00074TBCC', 'B0007A5OGI', 'B0007CXPE4', 'B0007KXTEM', 'B0007L9J5Y', 'B0007L9JA4', 'B0007L9JC2', 'B0007L9JCC', 'B0007M4GRY', 'B00091PPAK', 'B000936PVG', 'B00097DJA2', 'B0009A07FY', 'B0009A4ENK', 'B0009GVYF0', 'B0009GVYLY', 'B0009GVYN2', 'B0009GZLFE', 'B0009GZNBQ', 'B0009H60BW', 'B0009H60F8', 'B0009H636E', 'B000B8U1HS', 'B000BD5FSS', 'B000BO6DN8', 'B000BO76WU', 'B000BOJ8IK', 'B000BOLW8Y', 'B000BPCVGU', 'B000BPE8FC', 'B000BPHMFK', 'B000BPK5FO', 'B000BPORPI', 'B000BPZ7FM', 'B000BQ0BP2', 'B000BQK2GA', 'B000BQSU8C', 'B000BQSYGA', 'B000BR7PNC', 'B000BVPVY8', 'B000BXCMB6', 'B000BXCMBQ', 'B000BXCMCA', 'B000C13YJ6', 'B000C6ITZA', 'B000CBOB5M', 'B000CDK0HI', 'B000CDKU96', 'B000COCRCI', 'B000CSN4X0', 'B000DT7YBG', 'B000DZ9TTK', 'B000DZDPHW', 'B000DZH7VW', 'B000E0G8IY', 'B000E0GBM2', 'B000E0P1BY', 'B000FKDM6E', 'B000FNJ5KS', 'B000FNJ5O4', 'B000FNR6XG', 'B000FPDKYS', 'B000G3KPY2', 'B000GBOUPY', 'B000GOLKQS', 'B000GZ2F8E', 'B000GZ4FQY', 'B000GZ4HNU', 'B000GZ6GE8', 'B000GZ6I3C', 'B000GZ6IGY', 'B000GZ6KI0', 'B000GZ8K9C', 'B000H248JA', 'B000H90LVW', 'B000H95Q58', 'B000HE6E5E', 'B000HEA7W0', 'B000HJEI5M', 'B000HJGLE8', 'B000HJKMSE', 'B000HM9LZQ', 'B000I0T2S8', 'B000I0T3MS', 'B000I1ARN6', 'B000IV0QOG', 'B000JJYQP2', 'B000JLL4VO', 'B000KIR3W0', 'B000KKIHR8', 'B000KKMN1O', 'B000KKMPH6', 'B000L8B2AS', 'B000LBFOAE', 'B000LF4ALY', 'B000LNQ6V8', 'B000LNQKZ0', 'B000LNT0PW', 'B000LO7C06', 'B000LO8R1E', 'B000LO8R82', 'B000M1WHRQ', 'B000M2NDW8', 'B000M2P3OY', 'B000MYGXHS', 'B000N553ZO', 'B000NCTLAA', 'B000NGM2JS', 'B000OEQ5MO', 'B000OGVUTK', 'B000OV8WUK', 'B000OV8XAE', 'B000OZF2YK', 'B000P6EZH8', 'B000P7NV54', 'B000PJ7ZJA', 'B000PJ7ZQI', 'B000PSSA90', 'B000PSTUKI', 'B000PUFUGO', 'B000PUHV7U', 'B000PUK17C', 'B000Q7RQQS', 'B000Q94CNQ', 'B000QRAZYI', 'B000R8GRYI', 'B000R9ABLW', 'B000R9E5GY', 'B000R9GD64', 'B000RHYI9U', 'B000SOJJXM', 'B000TJXXX8', 'B000TQYBV4', 'B000U1ZAR2', 'B000UE06FA', 'B000UF0SFC', 'B000UFPJ4C', 'B000UN8ZEU', 'B000UOG7A8', 'B000UPKQ6S', 'B000UVHMIC', 'B000UVLB52', 'B000UVOZJQ', 'B000UVUPCM', 'B000UVUQAI', 'B000UVUQJ4', 'B000UVUUTA', 'B000UVWASE', 'B000UVWAZ2', 'B000UVWBSI', 'B000UVWF7K', 'B000UVWFGG', 'B000UVWFZM', 'B000UVWGOM', 'B000UVYA50', 'B000UVYAJG', 'B000UVYB7C', 'B000UVYQQ8', 'B000UVZXJW', 'B000UW0EBS', 'B000UW1WAA', 'B000UW1WIW', 'B000V6R7HW', 'B000V9UGZY', 'B000VXADBM', 'B000VZIANS', 'B000VZPT9G', 'B000W3PIKM', 'B000XT5MAQ', 'B000Y8UKBW', 'B000Y8ULOS', 'B000Y8UQ7K', 'B000Y8ZXHS', 'B000Y8ZYG8', 'B000Y8ZYHC', 'B000ZIL12S', 'B000ZIMQGS', 'B000ZINPX6', 'B000ZIPIH2', 'B000ZIPJSK', 'B000ZIPMNM', 'B000ZIPN1S', 'B000ZNP6EC', 'B0010XQ32U', 'B0011YEJA6', 'B0011YFFAO', 'B0011YFGHG', 'B0011YFJ8M', 'B0011YFLZI', 'B0011YFPX6', 'B0011YHOB2', 'B0011YHSNQ', 'B0011YHSQ8', 'B0011YHUM0', 'B0011YHUMA', 'B0011YHXGI', 'B0011YJFQO', 'B0011YJJNI', 'B0011YJQ7M', 'B0011YJTZG', 'B0011YLQ20', 'B0011YLT8G', 'B0011YLUUS', 'B0011YN4LQ', 'B0011YN9KW', 'B0011YNAPG', 'B0012OOYJQ', 'B0012Q020Y', 'B0012RGH16', 'B0012UW9LA', 'B001323TYS', 'B00132KTGO', 'B00132MRFK', 'B00132Q07G', 'B00132Q5WG', 'B00132Q9MC', 'B00133V12Y', 'B0013E68KI', 'B0013NAKUI', 'B00146GILY', 'B00146IGCS', 'B00146M78C', 'B00146X8IK', 'B00147HAI8', 'B0014C3H2Q', 'B0014C3HZS', 'B0014CZXSM', 'B0014FYGKU', 'B0014IUV92', 'B0014Y35L2', 'B0015LXLVS', 'B0015M0JOY', 'B0015M26MM', 'B0015UEIKM', 'B0015YQA22', 'B0015YT61Y', 'B0015YTH0Y', 'B00164QVA2', 'B0016HT444', 'B0016J2HGO', 'B0016KVV92', 'B0016OQACG', 'B0016Q4UN0', 'B0016Z8K82', 'B001737LGU', 'B0017SG5N0', 'B0017SJOPG', 'B0017SNF0G', 'B001819GB4', 'B00181FQ0O', 'B0018N0WPQ', 'B0018N2RV8', 'B0018YK6YW', 'B0018YQXQ2', 'B00198BZK6', 'B0019CGTLC', 'B0019CHYFW', 'B0019CJZSG', 'B0019DID7E', 'B001A5CWIW', 'B001A5F1X0', 'B001A5F1XA', 'B001AAAYU0', 'B001AACK9S', 'B001AIOVC4', 'B001AIT9LM', 'B001AIVW3K', 'B001ASOZRK', 'B001AZS4DY', 'B001BEJV86', 'B001BS44OS', 'B001BXC2LK', 'B001BXC328', 'B001BXFMZS', 'B001C1HEAU', 'B001C2E4P2', 'B001C3W46C', 'B001C4IPDC', 'B001C9VMPA', 'B001CAP00W', 'B001CE61NI', 'B001D8E81U', 'B001DD09TK', 'B001DECVWM', 'B001DEI310', 'B001DHGE5O', 'B001DHKB62', 'B001DHKJVO', 'B001DHLDQO', 'B001DHLHG0', 'B001DHNG5U', 'B001DHNHQI', 'B001DHNMPY', 'B001DHNZQ0', 'B001DHPECS', 'B001DHRG42', 'B001DK82B0', 'B001DPFKKG', 'B001DPFLMS', 'B001DPFPWO', 'B001DPFRMW', 'B001DPLZGO', 'B001DPM0I6', 'B001DPM34M', 'B001DPNO7C', 'B001DPO7I2', 'B001DPOJRQ', 'B001DPOMIW', 'B001DPOMPA', 'B001DPONDG', 'B001DPPI0I', 'B001DPQM62', 'B001DPQXFM', 'B001DPR1SA', 'B001DPSOP4', 'B001DPU6BY', 'B001DPVJOM', 'B001DPVVJK', 'B001DPVZK0', 'B001DPW8LA', 'B001DPWBK8', 'B001DPX7Y2', 'B001DPXTO0', 'B001DSEEO6', 'B001DT64Z2', 'B001DT6VEG', 'B001E0721U', 'B001E07238', 'B001E08TBW', 'B001E0ICF0', 'B001E0IFFC', 'B001E0KLHC', 'B001E0LF36', 'B001E0LTGE', 'B001E0N7A0', 'B001E0N9IK', 'B001E0P3F2', 'B001E0R8CS', 'B001E1VYPE', 'B001E4N7MO', 'B001E6FNQU', 'B001E6HV8S', 'B001E6HVHO', 'B001E6JD48', 'B001E6LAH6', 'B001E6LAK8', 'B001E8G0Y2', 'B001E8G204', 'B001ED9NIM', 'B001EDBJXE', 'B001EDBMKY', 'B001ELGNP0', 'B001EW6KTS', 'B001EWATTA', 'B001EY4X2M', 'B001EY53MG', 'B001EY56Z0', 'B001EY7DI8', 'B001EY8UNK', 'B001EYEAGG', 'B001EYEEX0', 'B001F7H4RY', 'B001F7YULM', 'B001F80O8O', 'B001F814BU', 'B001F83V3O', 'B001F85ZNS', 'B001F8ECC8', 'B001FCHCOY', 'B001FCMZQ4', 'B001FNU0RO', 'B001FXBARS', 'B001G0LE8A', 'B001GD3QEW', 'B001GRC6L2', 'B001GS4MJ0', 'B001HJZ8TG', 'B001HNILQY', 'B001HSEBJA', 'B001HSWICC', 'B001ICLYMW', 'B001ICRP4S', 'B001ICZG1M', 'B001ID9RBQ', 'B001IIVWJ6', 'B001IQ3UNY', 'B001K5IP3S', 'B001K5M1QU', 'B001K5RBDI', 'B001K9N1YW', 'B001KGX0XC', 'B001L2FN3A', 'B001L6E8VY', 'B001MUPLV0', 'B001MV14R4', 'B001N3F8IW', 'B001OTQTEM', 'B001P5W0RK', 'B001P5ZR2K', 'B001P61LOC', 'B001P61M4G', 'B001PA0LN0', 'B001PLBWVE', 'B001PO9K9C', 'B001PPOLB8', 'B001Q3HKEY', 'B001QBZO4O', 'B001RBF6JQ', 'B001RC2TPE', 'B001RCLI56', 'B001RCMZNU', 'B001T7NW6W', 'B001TIWP4Q', 'B001TPQHZ2', 'B001TPRP0S', 'B001U1JW1Q', 'B001UHZXKE', 'B001UOQK0E', 'B001V78094', 'B001VJ9ULO', 'B001VMH3J2', 'B00204SC8G', 'B0021J7X4Y', 'B0021J8208', 'B00236JQTU', 'B00239PQH8', 'B00243ME2S', 'B0025TNALK', 'B0025YT4MO', 'B0025ZKKQ2', 'B0025ZN1FY', 'B0026GO9PS', 'B0026PK6JM', 'B0026S29NU', 'B0026SZDAQ', 'B00279QW9K', 'B002829KKE', 'B0028SGXKI', 'B00291CQCI', 'B00294O79A', 'B0029T3CFU', 'B0029XQB9U', 'B002ABV0WO', 'B002AC4BE2', 'B002ACDA9O', 'B002ACG4F6', 'B002ACK0S8', 'B002AFBAKW', 'B002AH1B3G', 'B002B8OWBC', 'B002BFQAS8', 'B002BG1VW2', 'B002BT0O90', 'B002BUOUJO', 'B002C7PYFA', 'B002C97MAI', 'B002C983BU', 'B002C9MYN8', 'B002CS3JFG', 'B002DF7EOK', 'B002DHN5L4', 'B002DLP8WE', 'B002DYV1JA', 'B002E1I4Y2', 'B002EFSMR2', 'B002EP0UJ0', 'B002FB65K6', 'B002FB65KQ', 'B002GVC8EW', 'B002GZLDTO', 'B002H2H2E6', 'B002HD8B8G', 'B002HDGKSO', 'B002HJ0GGK', 'B002I9J0K2', 'B002I9MEYQ', 'B002IKQSE2', 'B002J8YU6G', 'B002JJYH6S', 'B002JKB3LE', 'B002JPCMIC', 'B002JY2RNI', 'B002KOAKY0', 'B002KPLEN0', 'B002KQFI7M', 'B002KTG70G', 'B002LC1TSW', 'B002MAQZ1O', 'B002MR44LU', 'B002MUBY2E', 'B002NFL0EU', 'B002NFS6YC', 'B002NUASMA', 'B002NWIDPC', 'B002PW8SXW', 'B002Q4U0WG', 'B002Q4U148', 'B002Q4U1IO', 'B002QQTUXE', 'B002R0DXKU', 'B002RL7MQU', 'B002RN0UGW', 'B002SITUQW', 'B002SW3GO0', 'B002SW3GPE', 'B002SXKP16', 'B002TPG7ZG', 'B002UC8QJI', 'B002UCT9EO', 'B002UJSE1G', 'B002UQZPA2', 'B002UZ4M0M', 'B002VBZR04', 'B002VW7ZI0', 'B002VW7ZIK', 'B002W8C1ZK', 'B002WS5FUS', 'B002WSCWQI', 'B002YG1KDE', 'B002YG1RM8', 'B002YKXVJQ', 'B002YODUPC', 'B002YOI1ZQ', 'B002YOKS98', 'B002YOKWOE', 'B002YTOAC4', 'B002YTOCP4', 'B002YTS386', 'B002Z7RKOK', 'B002ZD6OAA', 'B002ZDAPT6', 'B002ZHQCOO', 'B002ZHS56C', 'B002ZHU1S2', 'B002ZHVN84', 'B002ZHXXDC', 'B002ZNBVQ2', 'B002ZNC1BQ', 'B002ZNC2BU', 'B002ZNC6H0', 'B002ZNE4ZC', 'B002ZNECUO', 'B002ZNFQMW', 'B002ZNGFD6', 'B002ZNI1ZG', 'B002ZNI5O8', 'B002ZNLJBY', 'B002ZNNFWK', 'B002ZNNLMY', 'B002ZNPB36', 'B002ZX8XD6', 'B003085Z0Y', 'B003086FYY', 'B0030897VW', 'B00308N35S', 'B00308R8IQ', 'B00308RH1O', 'B00308RNMW', 'B003090MM4', 'B00309E73O', 'B0030BZIGW', 'B0030GCAOK', 'B0030HEM4U', 'B0030M52GM', 'B003189MHK', 'B0031D1CIC', 'B0031J9RC4', 'B0031R8HUO', 'B0031XDHBC', 'B0031XHIOE', 'B0031XI5LY', 'B0032BRZCK', 'B0032YDLPC', 'B0033CWRBC', 'B0034C2KN6', 'B0034C6H58', 'B0034C6HM6', 'B0034IMCSS', 'B0034IO29K', 'B0034IOCH2', 'B0034IQ06S', 'B0034IQJD2', 'B0034IRWJW', 'B0034IT21I', 'B0034IT84Y', 'B0034ITD8U', 'B0034IU906', 'B0034IXCDW', 'B0034J059U', 'B0034J1WQK', 'B0034J6V7A', 'B0035CD33G', 'B0035D9F96', 'B0035QG2EY', 'B0035ZPKA2', 'B0036AWVOY', 'B0036V2QXY', 'B0037XFXDQ', 'B003805WZM', 'B00382217W', 'B0038ZIOLQ', 'B0038ZZG94', 'B0038ZZLY4', 'B0039B7BAE', 'B0039BAFH0', 'B0039D4VPA', 'B0039PVIT0', 'B0039US2Q2', 'B0039V7K2I', 'B003ASDNTO', 'B003B3S6H2', 'B003BIGDJA', 'B003BIGDKE', 'B003BIGDL8', 'B003BTJPP8', 'B003C1JJQA', 'B003C1NL0A', 'B003C6IS9E', 'B003CELF46', 'B003CLDSHG', 'B003CP3OS0', 'B003CUW440', 'B003CY0GBO', 'B003CY7HL6', 'B003DAKK3Q', 'B003DAUONC', 'B003DUPS9W', 'B003EABYLM', 'B003EAC44I', 'B003EAC7VI', 'B003EAE1E4', 'B003EAE1Y4', 'B003EAE64Y', 'B003EAFNDW', 'B003EAFQAM', 'B003EAHUO2', 'B003EAI2SA', 'B003EAI6VS', 'B003EAJSO2', 'B003EALUCK', 'B003EALV3I', 'B003EFYDVA', 'B003FT1M5K', 'B003FVFO2K', 'B003FW1O4G', 'B003FW1WKW', 'B003FW1Z6S', 'B003FW3TPS', 'B003FW3WKK', 'B003FW5PAU', 'B003FWJMRM', 'B003G6DPPW', 'B003GCJSMA', 'B003GF54RU', 'B003GL4OTI', 'B003GXAQHK', 'B003HFNMQY', 'B003HFQWCU', 'B003HFSZSO', 'B003HIU0JI', 'B003IRB3TO', 'B003JBE3E6', 'B003JN13JC', 'B003JN354S', 'B003JN5096', 'B003JN9QFU', 'B003JOHKIY', 'B003JRDRYM', 'B003JRFV96', 'B003JRK54W', 'B003JRM928', 'B003JUZOOA', 'B003K7TCZY', 'B003KZKMQO', 'B003L6TDGM', 'B003LV0XT8', 'B003LW8B3M', 'B003M6LMRY', 'B003MMFV70', 'B003MNEPZS', 'B003MNEQV6', 'B003MNMYVK', 'B003N144N2', 'B003NVVHBE', 'B003O1USXG', 'B003O22U0O', 'B003PBZMGI', 'B003PC8VIS', 'B003QID9BU', 'B003QSMHUO', 'B003T4BOKO', 'B003TEBPV2', 'B003TIGGJY', 'B003TTMMLO', 'B003TXE79K', 'B003U4L2Z0', 'B003UJ5QF2', 'B003VAT5AM', 'B003VDGAPC', 'B003VT7ECY', 'B003VVAV7M', 'B003WRGK48', 'B003XNA574', 'B003XV8CYO', 'B003Y32TN6', 'B003Y7K0L0', 'B003YPY928', 'B003ZG7M0M', 'B003ZJ8W4E', 'B003ZVJZPW', 'B003ZVK02O', 'B003ZVNIW8', 'B00400RWBG', 'B00405SKCQ', 'B00407541O', 'B0040MRDHC', 'B0040UYKC0', 'B0041432M4', 'B0041EKQR8', 'B0041G7JZS', 'B0042TKCWQ', 'B0042XC8B0', 'B004339FTW', 'B004465KYW', 'B0044EPWWE', 'B0044R7U8K', 'B0044S13Z0', 'B0044UL15A', 'B004512832', 'B0045JMAI2', 'B0045N13M2', 'B0045XND98', 'B00466CX04', 'B0046DGCEA', 'B0047Q01R0', 'B0047Q3K5K', 'B0047Q4QGC', 'B0047Q5PRG', 'B004829VGA', 'B00482Q6X6', 'B00487LVJ0', 'B00489IWMC', 'B0049I6RVU', 'B0049IDXJY', 'B0049PL9J8', 'B0049UXKJA', 'B004A1MVIE', 'B004AIPBI4', 'B004BAAC2G', 'B004BSP2V4', 'B004BYSR8S', 'B004C3VUFK', 'B004C3XGEI', 'B004C3XHBK', 'B004C40H26', 'B004C412BG', 'B004C412SE', 'B004C42DZA', 'B004DAP4J0', 'B004DDB0D6', 'B004DDB22K', 'B004DM2022', 'B004EACLT0', 'B004EF6GOG', 'B004ETD9M4', 'B004F9Q9C0', 'B004F9Q9HK', 'B004FPS3YQ', 'B004GJ0OHA', 'B004GJ4FOI', 'B004GLHF4I', 'B004GMIO42', 'B004GSY1T8', 'B004GV485W', 'B004GV7LBK', 'B004GYXIRS', 'B004H1PF44', 'B004H38ZVW', 'B004H3XPLC', 'B004H3XPQM', 'B004H3XPVW', 'B004H3XQAW', 'B004H3XQBG', 'B004H3XQH0', 'B004H3XQKM', 'B004H3XQNO', 'B004H3XQT8', 'B004H3XQTI', 'B004H3XQXY', 'B004H3XR8S', 'B004H3XS2S', 'B004H3XS6E', 'B004H3XS8M', 'B004H3XSDW', 'B004H3XSE6', 'B004H3XULM', 'B004H3XUSU', 'B004H3XVBG', 'B004H3XVU2', 'B004H3XVUC', 'B004H3XVXE', 'B004H3XVZ2', 'B004H3XVZM', 'B004H3XW88', 'B004H3XW8S', 'B004H3XWBA', 'B004H3XWKQ', 'B004H3XWVK', 'B004H3XWVU', 'B004H3XX6O', 'B004H3XX96', 'B004H49WGI', 'B004HFK054', 'B004HLTVUS', 'B004I54P36', 'B004I54PPY', 'B004K9N1NK', 'B004K9P4MQ', 'B004MAPJ6E', 'B004MJPL68', 'B004N0PWUQ', 'B004N5YTQO', 'B004NEWC28', 'B004NEYPYQ', 'B004OAYGJI', 'B004P7RQBK', 'B004PIIBP4', 'B004POGGQE', 'B004PYEAXK', 'B004Q03LYC', 'B004Q0BRC0', 'B004Q0H38W', 'B004Q3T8SC', 'B004Q3VTB6', 'B004Q3W4MY', 'B004Q3Y2LU', 'B004Q3Z0VQ', 'B004Q3ZFKC', 'B004Q3ZNZ4', 'B004Q41QGS', 'B004QKJOYI', 'B004RHZ7AK', 'B004RP73YK', 'B004RXCIU6', 'B004SRAIZ8', 'B004SU7AC4', 'B004T850ZO', 'B004TSVOA4', 'B004VN932S', 'B004VNCLPO', 'B004VRMG1E', 'B004WE8RLE', 'B004WEHLP2', 'B004WI68ES', 'B004WLXW08', 'B004WP4CMG', 'B004WSAGBY', 'B004X13QFS', 'B004X417YM', 'B004X9X6W8', 'B004XJVNJ6', 'B004XKZYMW', 'B004XL0FMK', 'B004XL19BQ', 'B004XL21M2', 'B004XL2YB0', 'B004XL2YUQ', 'B004XL32LQ', 'B004XL3JXW', 'B004XL3KU4', 'B004XLDFHM', 'B004XLDFKO', 'B004XLDSEW', 'B004XLDY7S', 'B004XLDZZE', 'B004XLE5LM', 'B004XLE8Z0', 'B004XLECLK', 'B004XLEJYA', 'B004XNO1S2', 'B004Y0OP44', 'B004Y0OULM', 'B004Y3A9UA', 'B004Y6OLFG', 'B004YDS5V0', 'B004YK7Y7Y', 'B004YKFHL4', 'B004YKHSTI', 'B004YUZMYQ', 'B004ZI1HZA', 'B00501IW1I', 'B0050JL3X4', 'B0050KJEIO', 'B0050KJG0K', 'B0050KJMAO', 'B0050KJMX6', 'B0050KJOIY', 'B0050KJQPU', 'B0050KJS80', 'B0050KJSYE', 'B0050KJU88', 'B0050KJXYE', 'B0050KK2R6', 'B0050KK44W', 'B0050KK5F0', 'B0050KKE06', 'B0050KKOEC', 'B0050KKPXW', 'B0050KLHQ6', 'B0050KMEGS', 'B0050O1X3O', 'B0050O1XPW', 'B0050O23CE', 'B0050O23OM', 'B0050O2GR6', 'B0050O2HXY', 'B0050O2OOQ', 'B0050O2P4A', 'B0050O2SKQ', 'B0050OZRLS', 'B0050W0Q2U', 'B0050W196M', 'B0051BV2GE', 'B0051BV2I2', 'B0051L9LSK', 'B0051O8YNK', 'B0051O8ZH0', 'B0051PMWKA', 'B0051W8ENM', 'B0051W8HU2', 'B0052WBHWQ', 'B0052YP98M', 'B0053F7M4O', 'B0053F7S8E', 'B0053F8BU8', 'B0053F8CKC', 'B0053F8SLA', 'B0053F8VBM', 'B0053F91UW', 'B0053F9710', 'B0053F9B5M', 'B0053Y293Y', 'B0053Y2BR8', 'B0053Y2JFW', 'B0053Y2NVW', 'B0053Y2V3M', 'B0053Y2Z0Q', 'B0053Y3186', 'B0053Y31MM', 'B0053Y375I', 'B0053Y39A6', 'B005459GZG', 'B005459TQW', 'B005459WBO', 'B00545A7O0', 'B00545AHYA', 'B00545AVUA', 'B00545AYFC', 'B00545B3FM', 'B00545B5QY', 'B00545B67M', 'B00545BBHM', 'B0055GMA9I', 'B0055GMY5S', 'B00564UV1S', 'B00564UZXM', 'B00564VW1Q', 'B00564VWJS', 'B00564VWPC', 'B00566BDAE', 'B0056AUXVU', 'B0056I8ERW', 'B0056IYV3S', 'B0056IYXTK', 'B0056IZ0SI', 'B00570QLVA', 'B00570QNCW', 'B00570QSB8', 'B00570QSCM', 'B0057ASCO4', 'B0057CDUYO', 'B0057P2H4K', 'B0057QE05S', 'B0057WAI1C', 'B0057Y76J2', 'B0057Z1LT2', 'B0058BMNPG', 'B0058ENSVG', 'B0058HSS1I', 'B0058Z3180', 'B005A3QJ3Y', 'B005A3UEYE', 'B005AR7632', 'B005AR7B0U', 'B005AR7L9G', 'B005AR9FJU', 'B005ARAPOO', 'B005ARBR7S', 'B005ARCH5Y', 'B005ARCKC4', 'B005ARCNIK', 'B005B45GHC', 'B005B46ZRM', 'B005B47648', 'B005B48098', 'B005B48XGI', 'B005B49GUK', 'B005B4A3CU', 'B005B4ATVA', 'B005B4E3HQ', 'B005B5EUPA', 'B005B5GNKA', 'B005B5RXZE', 'B005B92L16', 'B005B9C4UO', 'B005B9CGIO', 'B005B9CGMK', 'B005B9CGT8', 'B005B9CHQK', 'B005B9CICI', 'B005B9CIJQ', 'B005B9CIS2', 'B005B9CL3Y', 'B005B9CM3I', 'B005B9COPE', 'B005B9CRME', 'B005B9CXAA', 'B005B9D3AO', 'B005B9D44E', 'B005B9DQOM', 'B005B9EQ1O', 'B005BA2R9Q', 'B005BHSX3S', 'B005BHT1SY', 'B005BHT56W', 'B005BIARCM', 'B005BNKZ6U', 'B005BNM5DQ', 'B005BNM8EM', 'B005BNM9C8', 'B005BNM9VY', 'B005BNMB4Y', 'B005BNMY7I', 'B005BNMYXC', 'B005BZ80WY', 'B005C48JX4', 'B005CFTPJA', 'B005CW4C0A', 'B005D2UA14', 'B005D6Q4HE', 'B005D9TL1M', 'B005DKLTHK', 'B005DNSDEY', 'B005DUT1NE', 'B005EP3Z3U', 'B005EPAUUQ', 'B005FFTIQC', 'B005FMFV8E', 'B005FZY7YK', 'B005GR0NOA', 'B005GR0OAI', 'B005GSZZVA', 'B005HF5H5Q', 'B005HF5JHW', 'B005HFB7RS', 'B005IGZ4NE', 'B005IJSR6C', 'B005ILJ4TY', 'B005JSDOLK', 'B005KEDXAU', 'B005KEE6VA', 'B005KEER96', 'B005KEFFLA', 'B005KT4I4A', 'B005L2EDXW', 'B005LD3LSY', 'B005LD58JO', 'B005LEKOO2', 'B005LTIF70', 'B005NC9Q6O', 'B005NCA3DO', 'B005NQFRS6', 'B005NTO93C', 'B005OLT538', 'B005OW4YOW', 'B005PM65B6', 'B005PM9L6M', 'B005QCANPE', 'B005QSI66G', 'B005QSI6P2', 'B005QSI6RA', 'B005RE8V1Y', 'B005T9TCQK', 'B005TGYNJ4', 'B005U59WT0', 'B005UJH9LE', 'B005VE8JEY', 'B005VM3D2Y', 'B005VMKF4S', 'B005VV6MEG', 'B005XJDH2Q', 'B005YR6A3K', 'B005Z4L3WK', 'B005ZHTYFA', 'B00610350A', 'B0061076IC', 'B0061BP5BQ', 'B0062V76O4', 'B0063C1P7Q', 'B0067WMBVG', 'B0067WNSZY', 'B0068DPQ0M', 'B006C58HES', 'B006CO07UQ', 'B006EAKENI', 'B006HIGMC4', 'B006IA8FF8', 'B006IAJ1FQ', 'B006IDM9E8', 'B006L8PQK4', 'B006L8PTUQ', 'B006L8PZ5K', 'B006PJHXR8', 'B006Q3P9KG', 'B006R8JOYW', 'B006R8JT4W', 'B006R8JYK6', 'B006R8K8X8', 'B006UNXQIO', 'B006WRHCMY', 'B006Z2ZRZ0', 'B006ZZU4W8', 'B0070PSYRO', 'B007124NA8', 'B0071NV5M6', 'B0071NVGEI', 'B0073UTYBG', 'B0073ZEC68', 'B0074WFPUW', 'B0075CU132', 'B00768IKYC', 'B0076CVC9S', 'B0076S4LZ4', 'B0076V3H9W', 'B0077UJOKS', 'B0077Z6HY4', 'B00785NAM0', 'B00797WR4E', 'B007CW1B84', 'B007CW1B8O', 'B007D275PQ', 'B007DN4Y90', 'B007HCJWTY', 'B007I6QMXS', 'B007IVNAVK', 'B007IZCOY0', 'B007J3JFV6', 'B007JX3KNA', 'B007K1NGNA', 'B007KDYLAA', 'B007KDYVFK', 'B007KDZCK8', 'B007LQIXN2', 'B007MM0DVK', 'B007NCIKLE', 'B007OK603A', 'B007OK6ABW', 'B007OK6F26', 'B007OK6NGE', 'B007PQ05I4', 'B007PW4LHE', 'B007RRU3EW', 'B007SZH80A', 'B007T6HRBI', 'B007T6HV28', 'B007U7JUJS', 'B007UQLXZS', 'B007V5S716', 'B007VZ2KPK', 'B007VZ2Q0Y', 'B007W6SR96', 'B007W7MOW6', 'B007X7FXJ6', 'B007X7PPVW', 'B007Y0ZM8O', 'B007Z1HSPM', 'B007ZT2XU4', 'B007ZT6UT4', 'B0080HZ30C', 'B00817F5FE', 'B0081EA516', 'B0081EA6WY', 'B0081LUX8E', 'B0081V7MVK', 'B0082GURBG', 'B0082OH2NE', 'B0082OHKTA', 'B0082OHL94', 'B0084IX3JU', 'B0084IX6RO', 'B0084V4AH6', 'B0085MBT0U', 'B0085Y46GW', 'B0085ZIX6U', 'B0085ZJDLY', 'B00863Z63E', 'B0087UBNEW', 'B0087YPXP8', 'B0087ZNY4O', 'B00880CSX6', 'B00880CTDK', 'B00891PGQ0', 'B008988UM0', 'B0089LS8NS', 'B0089UP6XE', 'B0089XPIG6', 'B008ALX0EY', 'B008AOGMLY', 'B008AOHE84', 'B008B7VHG0', 'B008B7VOEK', 'B008B7VONG', 'B008B7X66Y', 'B008B7XVWI', 'B008B7YE0G', 'B008B7ZTQY', 'B008B80FYY', 'B008BCXD12', 'B008BJ1SVM', 'B008BJDXM4', 'B008BK4F2K', 'B008CCQKG6', 'B008CJ8B2U', 'B008CO5IUI', 'B008CX8IY2', 'B008D7X37Y', 'B008D7XA6S', 'B008D7XD06', 'B008D7XEUU', 'B008DC1B3W', 'B008DJIBOW', 'B008DJLQRG', 'B008DJM93G', 'B008DJN1G0', 'B008DJOC0O', 'B008DJQN42', 'B008DJRKX0', 'B008DJRV48', 'B008DJS03Y', 'B008DJW4PO', 'B008DK0SGU', 'B008EJYQQS', 'B008EK6N0E', 'B008ENOCT0', 'B008ETFW1G', 'B008FOKD0A', 'B008HJCEFU', 'B008IIMFNG', 'B008KFDCMU', 'B008KFDFSQ', 'B008KFDK4A', 'B008KFG4JI', 'B008KFI85Q', 'B008KOGA1G', 'B008KW8SPY', 'B008L2K43M', 'B008LULO3I', 'B008O58F3C', 'B008OADBGS', 'B008OQQL8W', 'B008OXZKM8', 'B008PI6VHK', 'B008QWPG6C', 'B008QWQX1Y', 'B008R5BEDC', 'B008RDPMUK', 'B008S7G01U', 'B008TYXFMY', 'B008XM6COK', 'B008Y27E7S', 'B008Y6A5G6', 'B008YDSKL6', 'B0091W65AM', 'B0093NG0Q8', 'B0093NG2OI', 'B0093NG36U', 'B0093Q5FY8', 'B0093Q7ENS', 'B0093QAO44', 'B0093QTQ6Q', 'B0093R0Q6O', 'B0093R1BQI', 'B0093R88GO', 'B0093RC0QI', 'B0093RRYSW', 'B0093RXPU8', 'B00945LGHI', 'B00945LIPS', 'B0094OFO7W', 'B009616RXS', 'B0096T9LKG', 'B0097AX9Q6', 'B009AKB0NC', 'B009AKB19U', 'B009AVTA92', 'B009CCWC08', 'B009CEOTES', 'B009CEOVE6', 'B009CEP5NC', 'B009CEPHOY', 'B009CEU2D0', 'B009CEVUTU', 'B009D6F4YY', 'B009EGT2CI', 'B009ERK5IC', 'B009GETGF6', 'B009GGQ55S', 'B009GO2DG0', 'B009H1JOUA', 'B009IOP9C8', 'B009IPAGES', 'B009KX4W66', 'B009LBU8M4', 'B009LBUCO8', 'B009M72A4G', 'B009NH2J9G', 'B009NUSNR0', 'B009PARK1S', 'B009PNOIK6', 'B009RUGVZC', 'B009SPYBZ8', 'B009T1XA08', 'B009XNKDTI', 'B009YG19YM', 'B009YZK8I6', 'B009ZW749O', 'B00A0GQP3K', 'B00A17UK48', 'B00A2FOWQQ', 'B00A2TXLBE', 'B00A2XVWFC', 'B00A7H9WAA', 'B00A8O0BSO', 'B00A8R4HC2', 'B00A8R4SZ8', 'B00A8ZUG38', 'B00A91VWJS', 'B00A9XAQIY', 'B00ACEL4FY', 'B00ADQZ8BC', 'B00AF7QCE6', 'B00AF7RKE2', 'B00AF7SJWY', 'B00AF7TZVI', 'B00AF7UQY8', 'B00AF7UQZC', 'B00AF7V09I', 'B00AF7V5RA', 'B00AF7VCVO', 'B00AFCGXZO', 'B00AFSMMEO', 'B00AFSMSS4', 'B00AFSMXHK', 'B00AFSMXZW', 'B00AFSN1C6', 'B00AFSN6CQ', 'B00AFSN798', 'B00AH5ZI9G', 'B00AH5ZMVK', 'B00AH60624', 'B00AH608H2', 'B00AH608JU', 'B00AH60RBO', 'B00AHR3IFK', 'B00AJW7S0E', 'B00AKYAIPI', 'B00AMF8D7A', 'B00AMF8GI6', 'B00AMF8HFS', 'B00AMF8MR6', 'B00AMHWLDK', 'B00AML4BQQ', 'B00AO62FYO', 'B00AO64XPI', 'B00AOG65GI', 'B00AOG69UA', 'B00AOG6D4M', 'B00AQ0LWP6', 'B00AQGUM56', 'B00ASQJ7RS', 'B00ATRCN7M', 'B00AUBSDFS', 'B00AUDAH3M', 'B00AUDAI0O', 'B00AUDAIHC', 'B00AXMT61E', 'B00AY152C6', 'B00AYBKJBK', 'B00AYBLN4C', 'B00AYBLS9C', 'B00AYBM09O', 'B00B1F1980', 'B00B1Y2KZC', 'B00B2BPWFY', 'B00B2GNJLS', 'B00B2ODTQU', 'B00B2OJ2P2', 'B00B2OP1MU', 'B00B2YU8VE', 'B00B61CWF8', 'B00B70J6MU', 'B00B718CTM', 'B00B73JD7U', 'B00B747MEU', 'B00B792FX8', 'B00B9DZLAG', 'B00BCMMCF6', 'B00BCNLMWY', 'B00BFZXGEG', 'B00BG0K2RO', 'B00BH758EI', 'B00BHNV9L8', 'B00BJMKH5Q', 'B00BLTLZNU', 'B00BLTM598', 'B00BODJR92', 'B00BPWQ1Y6', 'B00BQ5WMG8', 'B00BQMNA7Q', 'B00BTGJHG2', 'B00BV65L7O', 'B00BY97GYE', 'B00BZUR2JG', 'B00C3AYVFA', 'B00C4UTA78', 'B00C6NMOWQ', 'B00C6VIEVI', 'B00C8ERF04', 'B00CAJBHRE', 'B00CALPTXK', 'B00CDQZWKM', 'B00CDR091S', 'B00CDR0DLE', 'B00CFQKEY4', 'B00CFQKFSE', 'B00CGW43RQ', 'B00CGW7KC6', 'B00CGW7W1U', 'B00CGW9F7Y', 'B00CGWACF8', 'B00CGWE98O', 'B00CGWE9RU', 'B00CHKIM0Q', 'B00CLG0VTG', 'B00CLHIE4O', 'B00COKDPIS', 'B00CPKX4UG', 'B00CPOYPCI', 'B00CPSW5WQ', 'B00CQ1ARUY', 'B00CS3CD34', 'B00CV6JNVI', 'B00CVISMB8', 'B00CX1OANC', 'B00CXJPNTE', 'B00CXTPNHQ', 'B00CYPWZ1Q', 'B00CYYJ11E', 'B00CZ70A6A', 'B00D1SY3AG', 'B00D44YGCM', 'B00D4NVDQ0', 'B00D50RSKM', 'B00D6ME53M', 'B00D7EJWLE', 'B00D8N23N8', 'B00D9O74W6', 'B00DAE5R2O', 'B00DEBV8HQ', 'B00DHCAA2G', 'B00DHCAC06', 'B00DJE6EV8', 'B00DLD544U', 'B00DM8J10C', 'B00DM8JJXG', 'B00DM8K1R4', 'B00DM8K30Y', 'B00DM8KAEI', 'B00DM8KS90', 'B00DM8KZDY', 'B00DM8L42U', 'B00DM8LINA', 'B00DM8LJM0', 'B00DM8LMDQ', 'B00DM8LVB4', 'B00DM8MCX0', 'B00DNGS1E0', 'B00DNGUKJE', 'B00DNGW83U', 'B00DNGW9AW', 'B00DPGOO2Q', 'B00DQVE4RA', 'B00DQXWVS2', 'B00DQXWWFE', 'B00DQXXBVI', 'B00DQXXE3I', 'B00DQXXSUW', 'B00DRIEOEU', 'B00DRIGQB4', 'B00DRIHJVA', 'B00DSJ7DLY', 'B00DT28ZT4', 'B00DUIO3B6', 'B00DUIODY8', 'B00DUJRB50', 'B00DUW31GA', 'B00DUW3G8I', 'B00DUX5JKU', 'B00DV286E6', 'B00DV28FE2', 'B00DV6QI9M', 'B00DW89MTW', 'B00DZEYZF4', 'B00DZU80JU', 'B00DZU80M2', 'B00DZU903A', 'B00DZU957Q', 'B00DZU9L1G', 'B00DZUAEVW', 'B00DZUAJAS', 'B00DZUANPO', 'B00DZUAPBG', 'B00DZUAZMA', 'B00DZUB99I', 'B00DZUBDIA', 'B00DZUBKOM', 'B00E05AW3G', 'B00E05B76W', 'B00E05BB1I', 'B00E0CVL16', 'B00E0CWGNS', 'B00E4O0GWK', 'B00E4O0JBS', 'B00E4O0PR6', 'B00E4O0R4C', 'B00E4O0W60', 'B00E4O0WCO', 'B00E4Q006U', 'B00E51P8FM', 'B00E599TZO', 'B00E5Y5PWU', 'B00E5Y5RAU', 'B00E66SE2U', 'B00E7SUBD2', 'B00E93Y84I', 'B00E9A7X0W', 'B00EAMCTWG', 'B00ECV2C6S', 'B00ECV2HOA', 'B00ECV2HQ8', 'B00ECV35LO', 'B00ECV38EI', 'B00ECV3AQY', 'B00ECV3NQ6', 'B00ECV3RHQ', 'B00ECV4DL0', 'B00ECV4FVS', 'B00ECV527O', 'B00ECV5DPK', 'B00ECV5MOC', 'B00ECV5O7M', 'B00ECV5QSE', 'B00ECV5STQ', 'B00ECV5W10', 'B00ECV5W6K', 'B00ECV62HS', 'B00ECV637W', 'B00ECV64AS', 'B00ECV69F8', 'B00ECV6GRE', 'B00ECV6HI2', 'B00ECV6HJG', 'B00ECX0ADS', 'B00ECX0FVK', 'B00ED6AKAC', 'B00EE85H0C', 'B00EE85HWK', 'B00EIKJ77K', 'B00EJ9WBPU', 'B00EKKOCOG', 'B00EKTN8MO', 'B00ELJROG4', 'B00ELOM75W', 'B00EO7JEYI', 'B00EO7T5L0', 'B00EO7ULDG', 'B00EQ7N1TA', 'B00EQ7WXJ4', 'B00EQGNI4Y', 'B00EQV084W', 'B00ESG0QS8', 'B00ET48ZMI', 'B00EU7DDIA', 'B00EUCA0TA', 'B00EV9OV74', 'B00EV9PB6O', 'B00EVPHEQS', 'B00EWJAFBO', 'B00EWJD1WE', 'B00EWRSCGG', 'B00EXMBMQM', 'B00EXPCAQ0', 'B00EXPCDQ2', 'B00EXQ3X92', 'B00EXQ3YS2', 'B00EXQH4BA', 'B00EXRJ49O', 'B00EZ2CJ8K', 'B00EZ71JR2', 'B00EZ9RJWE', 'B00F3AFTR6', 'B00F4KOVYW', 'B00F4MGRRE', 'B00F5GI1EQ', 'B00F65TSDO', 'B00F8IBQHU', 'B00FA35HZU', 'B00FA36G28', 'B00FAGWPTS', 'B00FAMRXLW', 'B00FAU0MNU', 'B00FAWLCEQ', 'B00FBBRCUE', 'B00FBSJ02K', 'B00FCB7TRE', 'B00FCL7CE4', 'B00FEE99B8', 'B00FF3A5J8', 'B00FFAXCAA', 'B00FH42QEM', 'B00FIEFJA4', 'B00FIXGDZU', 'B00FIYQD7C', 'B00FMXXI72', 'B00FOGY6F0', 'B00FQ73N24', 'B00FRORQOW', 'B00FS0AOW6', 'B00FTV4920', 'B00FX740G0', 'B00FXT61E2', 'B00FXYB0F2', 'B00FYHQWSS', 'B00FYHYLYA', 'B00FYIYIVA', 'B00FZ2VY3A', 'B00FZXI02M', 'B00G00EM58', 'B00G23MKL6', 'B00G3ET3N2', 'B00G5LCOQ6', 'B00G6RDW4M', 'B00G71XZD0', 'B00G8U459S', 'B00G9D0LTC', 'B00G9D25LY', 'B00GABSNUC', 'B00GF60TYK', 'B00GGGWP4Q', 'B00GH0JBA2', 'B00GI3E680', 'B00GJ12V1A', 'B00GJXLRRM', 'B00GMJ1LAQ', 'B00GMJ2C7M', 'B00GMXCNG8', 'B00GO594JS', 'B00GS3W5LU', 'B00GVM1LJK', 'B00GX9U6OC', 'B00H3W759W', 'B00H7CB3WS', 'B00H8UK94M', 'B00H8VZJN2', 'B00H9IVHBC', 'B00HBRAMB2', 'B00HEU2KFC', 'B00HG00FC0', 'B00HJ12YU2', 'B00HLJXZGO', 'B00HLXM9PS', 'B00HNEJHCI', 'B00HNQDIYO', 'B00HNT8B7A', 'B00HT39J0S', 'B00HYMA5B6', 'B00I2TTBLU', 'B00I2UJ452', 'B00I3K15O4', 'B00I8UR2I2', 'B00I9Z2NNA', 'B00IAUIMZW', 'B00IFAM1K4', 'B00IGAFT8Y', 'B00IH0TA10', 'B00IJ0AIVO', 'B00IJ2DTZY', 'B00IS9EUZQ', 'B00ITXRNC8', 'B00IVO8SAG', 'B00IWUUZP0', 'B00IYWDM2Y', 'B00IZ3ZYIM', 'B00J21XJ5G', 'B00J2ZM1IS', 'B00J39MKMA', 'B00J5PXC8I', 'B00J5VVSYM', 'B00J7AOPEQ', 'B00J7YIW7S', 'B00JA6XLXI', 'B00JBILY1Q', 'B00K1STQ1U', 'B00K6K80JM', 'B00K6M2BV8', 'B00KGHWO24', 'B00KM58DRU', 'B00KY5V4M4', 'B00LBPKVES', 'B00LHQYDJ0', '0970408285', '7301113188', 'B00002N7HY', 'B00004X18E', 'B00004YUMW', 'B00007E7OD', 'B00009V3UB', 'B00009V3UG', 'B00009V3UK', 'B00009V3UP', 'B00009V3UU', 'B00009W3OZ', 'B00009W46F', 'B0000BYD4I', 'B0000CFMEN', 'B0000CFSJJ', 'B0000DI7XR', 'B0000E2ULB', 'B0000SW1HC', 'B0000SWRM6', 'B000195ZKU', 'B0001GU7WE', 'B0001GU896', 'B0001GU8AK', 'B0001GU8M8', 'B0001GUATE', 'B0001GUATO', 'B0001GUBFM', 'B0001GUBQQ', 'B0001GUCLK', 'B0001GUCUG', 'B0001MRU1Y', 'B0001MRX2K', 'B0001VNWVW', 'B0001ZPYBY', 'B0001ZPYCI', 'B0001ZPZ36', 'B00024JR1C', 'B0002AHX26', 'B0002GTTMM', 'B0002HMO0U', 'B0002HMUF4', 'B0002KXMU8', 'B0002UDBRC', 'B0002VJ152', 'B0002YTGTA', 'B0002Z1EIA', 'B0002Z1EIK', 'B0002Z1EYE', 'B0002Z1F1G', 'B0002Z1F7A', 'B0002Z1F7U', 'B0002Z1GJC', 'B0002Z1GMO', 'B0002Z1GP6', 'B0002Z1GSS', 'B00042JSRK', 'B00042JWOY', 'B00064NPH0', 'B00068GFEQ', 'B0006FTR4Y', 'B0006FTSN4', 'B0006FTSNY', 'B0006FTVZE', 'B0006FU0NQ', 'B0006FU162', 'B0006HKX72', 'B0006NIMBU', 'B0006OJ2EA', 'B0006OQC8E', 'B0006OQCQ6', 'B0006SS094', 'B0006SS0AI', 'B0006V8MMG', 'B00074TB9A', 'B00074TBAO', 'B00074TBCW', 'B00074TBD6', 'B00076WO0Q', 'B0007A5O3G', 'B0007A5O3Q', 'B0007A5O4U', 'B0007CXQGG', 'B0007CXQMK', 'B0007ICLLG', 'B0007IQPWC', 'B0007L9J72', 'B0007L9J8G', 'B0007L9J90', 'B0007L9JAO', 'B0007UO35G', 'B0007XZ00A', 'B0007XZ00K', 'B0007YAB9Y', 'B00092ZPQ8', 'B00097BZEO', 'B00097FJYG', 'B0009A2BGC', 'B0009GVYAA', 'B0009GVYTG', 'B0009GW0A8', 'B0009GZK28', 'B0009GZKBE', 'B0009GZKFK', 'B0009GZKLO', 'B0009GZNAC', 'B0009H5ZPY', 'B0009H5ZZO', 'B0009H60CQ', 'B0009H60DK', 'B0009H60EO', 'B0009H62ZQ', 'B0009H79F8', 'B0009H79KS', 'B0009H79PS', 'B0009H79SU', 'B0009H79WQ', 'B0009H7D4K', 'B0009I4WN4', 'B0009JDL6C', 'B0009MC9LM', 'B000A2RQSC', 'B000A6VIKU', 'B000A7G32W', 'B000A7VZJI', 'B000AMR7KE', 'B000AMR7KO', 'B000AMUV5W', 'B000BD5DXK', 'B000BD5HN6', 'B000BGRWVS', 'B000BOC2FQ', 'B000BODV3S', 'B000BPAIM4', 'B000BPCWYG', 'B000BPD768', 'B000BPD98Y', 'B000BPF22A', 'B000BPK6XU', 'B000BPNM5Y', 'B000BQ5POY', 'B000BQ8DDY', 'B000BQO48C', 'B000BQPKJ4', 'B000BQSVZE', 'B000BQT626', 'B000BQUJCC', 'B000BQWIBM', 'B000BQY9RI', 'B000BVPW24', 'B000CBG736', 'B000CCINZK', 'B000CDFEMY', 'B000CDH7PQ', 'B000CDKUP0', 'B000CDKURS', 'B000CO77VY', 'B000COCRBO', 'B000CR3YY0', 'B000DZFYGW', 'B000E88AEG', 'B000E89590', 'B000EAPZLU', 'B000EMNKOC', 'B000ESO2R0', 'B000EWAOPU', 'B000F6AYH8', 'B000F9XZXK', 'B000FAWS4Q', 'B000FAWS9G', 'B000FK9X2G', 'B000FKM51W', 'B000FNJ5TY', 'B000FNJ5VW', 'B000FNKKJS', 'B000FNKVFG', 'B000FNKVGK', 'B000FNKVLK', 'B000FNP3E0', 'B000FNR6VI', 'B000FNR71M', 'B000FNR72Q', 'B000FOXCJC', 'B000FP8JYY', 'B000FP8LEM', 'B000FP8LK6', 'B000FPDMLO', 'B000FTLT8I', 'B000FZZPIW', 'B000GARZW0', 'B000GON8H2', 'B000GX37FQ', 'B000GZ2IG8', 'B000GZ2KNY', 'B000GZ4I98', 'B000GZ6EWW', 'B000GZ6JZO', 'B000GZ8HWW', 'B000GZ8I9O', 'B000GZ8KY2', 'B000GZ8MCW', 'B000GZ8NGC', 'B000H27VNU', 'B000H5O65I', 'B000HE6L4S', 'B000HE8LMI', 'B000HE8PLU', 'B000HEA8BK', 'B000HEA8J2', 'B000HEC25A', 'B000HJ7C8M', 'B000HJ97D0', 'B000HJEHPS', 'B000HJIQ5A', 'B000HKJ3QU', 'B000HKK0RQ', 'B000HM7Y1Y', 'B000HM9V1K', 'B000HZTMSO', 'B000HZVAQQ', 'B000HZXA0K', 'B000I00SEU', 'B000I00SJU', 'B000I0PLTW', 'B000I0WTSI', 'B000I13DNW', 'B000ICG2Q6', 'B000IJT3WO', 'B000IJT44G', 'B000IJWZXS', 'B000INPN2Y', 'B000IV0QNC', 'B000J346LC', 'B000JFI21K', 'B000JLL4NC', 'B000JLMYZY', 'B000JWICKO', 'B000K2XIFW', 'B000K3HI70', 'B000KAYRKY', 'B000KED788', 'B000KKIG92', 'B000KKKTWO', 'B000KKKU1Y', 'B000KKMEMC', 'B000KKMFRG', 'B000KKMPLC', 'B000KKO5KG', 'B000KKOE20', 'B000KKOGPK', 'B000KKQAKO', 'B000KKVZ7M', 'B000L3GOIS', 'B000LBV97Q', 'B000LNM40U', 'B000LNONNG', 'B000LNQD9I', 'B000LOAUJ6', 'B000LRHCLW', 'B000M2VZH8', 'B000M3LKLI', 'B000M5DNP2', 'B000ME6V5C', 'B000MMY5I4', 'B000MQB4IE', 'B000MYJC6C', 'B000N1785G', 'B000N5MIL6', 'B000NCUUAU', 'B000NHW2SI', 'B000NI6986', 'B000NO400Y', 'B000NO5PSK', 'B000NO5PT4', 'B000NO5Q8O', 'B000NOKWZ6', 'B000NWXKQG', 'B000O1LNZQ', 'B000OGS232', 'B000OGXN1I', 'B000OGZQW2', 'B000OGZR8A', 'B000OSK09Y', 'B000OV12ES', 'B000OVB2MK', 'B000P6BF7Q', 'B000PJ6YGK', 'B000PJA0SS', 'B000PL1ZJ4', 'B000PSPBQA', 'B000PY65B4', 'B000Q38ICS', 'B000Q6O5B8', 'B000Q6QT6W', 'B000Q73AD6', 'B000Q7TIQE', 'B000QEXBA6', 'B000QFF8EW', 'B000QOM5YO', 'B000R9ABSU', 'B000R9CFS4', 'B000R9E5I2', 'B000R9GCV0', 'B000R9GD46', 'B000R9GDBO', 'B000REH0W0', 'B000RFJP3Q', 'B000RHJFZW', 'B000RHYMOG', 'B000RI0CCQ', 'B000RI0HYO', 'B000RI0JCY', 'B000RI2DKA', 'B000RI2E2M', 'B000RMI5OY', 'B000RMPRPO', 'B000RPIQWC', 'B000RQ6AZ6', 'B000RZY3FG', 'B000SOL9IK', 'B000SQN4U4', 'B000ST98KQ', 'B000TEVNH6', 'B000TQG3NS', 'B000TQG554', 'B000UFW72E', 'B000UFWC1U', 'B000UN5TX0', 'B000UNAEBM', 'B000UOHUEK', 'B000UU19GO', 'B000UVLB2U', 'B000UVLB66', 'B000UVMULG', 'B000UVMUM0', 'B000UVUPW2', 'B000UVUVEE', 'B000UVUXJW', 'B000UVUYN2', 'B000UVWAU2', 'B000UVWBU6', 'B000UVWHEQ', 'B000UVWSKY', 'B000UVYABY', 'B000UVYB22', 'B000UVYB2M', 'B000UVYERE', 'B000UVYFGE', 'B000UVZY1Y', 'B000UW05I0', 'B000UW05LC', 'B000UW05UI', 'B000UW0AGW', 'B000UW1W96', 'B000UW1WM8', 'B000UW201U', 'B000UW21X2', 'B000UW24U2', 'B000UW2ACE', 'B000UW2AEC', 'B000UW3NVG', 'B000UW3R12', 'B000UW3UIW', 'B000VAC066', 'B000VGH9G6', 'B000VGX9JC', 'B000VME11G', 'B000VTOQZA', 'B000VVTYE6', 'B000VZM0RU', 'B000VZOQBI', 'B000W0SHY4', 'B000W0TWXO', 'B000W3LGD0', 'B000W3LHOI', 'B000W3P8X4', 'B000W4O3L6', 'B000W5SLQS', 'B000WR2ZEU', 'B000X0278A', 'B000XB44EE', 'B000XBIAXK', 'B000XPEQ48', 'B000XT4036', 'B000XWIPBG', 'B000Y35EFE', 'B000Y8SR7Q', 'B000Y8SR8A', 'B000Y8SSIO', 'B000Y8UJDQ', 'B000Y8UPSU', 'B000Y8WNU8', 'B000Y8WP3S', 'B000Y8WVZ0', 'B000Y8YF0Y', 'B000Y8YGH6', 'B000Y8YHXO', 'B000Y8YJVY', 'B000Y8YKN6', 'B000Y8YKZE', 'B000Y8YL1C', 'B000Y8YLJO', 'B000Y8ZYCW', 'B000Y91GNC', 'B000Y91GTG', 'B000Y91HCC', 'B000YIU9R2', 'B000YIY3YM', 'B000YL1PIQ', 'B000YL8U5M', 'B000YW3K42', 'B000Z76K2A', 'B000ZIIL1C', 'B000ZIINSS', 'B000ZIMP9G', 'B000ZIMPC8', 'B000ZIMPTQ', 'B000ZINO0K', 'B000ZINOSC', 'B000ZINRAM', 'B000ZIPGJC', 'B000ZIPH5K', 'B000ZIPLLK', 'B000ZIPN0Y', 'B000ZIPNNG', 'B000ZIRHZS', 'B000ZJMG4Y', 'B000ZNGOTS', 'B000ZNHC8A', 'B000ZPK5FK', 'B001005GY4', 'B001071O9S', 'B0010H8CVQ', 'B0011YEIRU', 'B0011YFFBS', 'B0011YFJNM', 'B0011YFLRG', 'B0011YFMQQ', 'B0011YFMX4', 'B0011YFRFM', 'B0011YHHR8', 'B0011YHHVE', 'B0011YHHW8', 'B0011YHM8C', 'B0011YHOBM', 'B0011YHOJE', 'B0011YHSPY', 'B0011YHVW4', 'B0011YJI2K', 'B0011YJJ2Y', 'B0011YJJDI', 'B0011YJKNC', 'B0011YJLC2', 'B0011YJLOU', 'B0011YJLXG', 'B0011YJN70', 'B0011YJNX4', 'B0011YJPKA', 'B0011YJPPU', 'B0011YJQK4', 'B0011YLI8M', 'B0011YLJHW', 'B0011YLL0C', 'B0011YLNDW', 'B0011YLNLY', 'B0011YLNRS', 'B0011YLOZE', 'B0011YLQGG', 'B0011YLU12', 'B0011YLXB4', 'B0011YLXEG', 'B0011YN61E', 'B0011YN6IC', 'B0011YN8QW', 'B0011YN9S4', 'B0011YNAM4', 'B0011YNGLE', 'B0011YNIF8', 'B0012109LG', 'B0012DQF5S', 'B0012PVYFW', 'B0012Q01S2', 'B0012XP6QC', 'B00132Q88C', 'B00138WA3I', 'B0013E4HP6', 'B0013E4MLU', 'B0013ECRT4', 'B0013FAK2Y', 'B0013G1DJM', 'B0013GGE7I', 'B0013JR0CI', 'B0013JV8TO', 'B0013UAU8S', 'B00146M6LA', 'B00147DG8G', 'B00147FJ8G', 'B00147FJAE', 'B00147FJO0', 'B00147FK8U', 'B00147J4TQ', 'B00147K0OE', 'B00147K0OO', 'B00147K15M', 'B0014C08SM', 'B0014KQFJA', 'B00153CN8I', 'B00154PED8', 'B00154UQSG', 'B00155VV6Q', 'B00155YCGC', 'B00155YKFA', 'B0015LUW8I', 'B0015LVE0S', 'B0015LYLV2', 'B0015LZ6MA', 'B0015M26JK', 'B0015PJ95G', 'B0015PJCR6', 'B0015V207Y', 'B0015YMABM', 'B0015YR1CK', 'B0015YR2OW', 'B0015YSZH0', 'B0015YT5Y2', 'B0015YTG3M', 'B0015YVPVS', 'B0015Z2B8I', 'B001643722', 'B0016GZF0C', 'B0016HSCGA', 'B0016IV392', 'B0016J2HIC', 'B0016PYBEY', 'B001715VF0', 'B00172DO9O', 'B00176O08O', 'B0017IJ6FY', 'B0017K8U22', 'B0017KASSG', 'B0017LD3W8', 'B0017SEJRE', 'B0017SJLJ0', 'B0017SL96S', 'B0017T6W4Q', 'B0017YP2L0', 'B00181A2YO', 'B00181C9PO', 'B00181J2Z4', 'B00188QD5E', 'B0018JOGK2', 'B0018S05SU', 'B0018S1M9G', 'B0018YQTDE', 'B0018Z0ONE', 'B00197CJRK', 'B00197G8I6', 'B00197QNTK', 'B00198A5FC', 'B0019CCVQY', 'B0019CF2BU', 'B0019CV6XI', 'B0019KUG8G', 'B0019MLMQ4', 'B0019R4KPE', 'B001A5HSZY', 'B001A68XAM', 'B001AAEG4K', 'B001AAEG7C', 'B001AAEG90', 'B001AAGXT6', 'B001AAKC6G', 'B001AAKD56', 'B001ADY5QQ', 'B001AH8HBQ', 'B001AHAK0M', 'B001AHWKM8', 'B001ANXPM6', 'B001ANXR42', 'B001AO1TTQ', 'B001AO1WAM', 'B001AO4MUO', 'B001APVUCQ', 'B001ASBK4Q', 'B001ASF0X8', 'B001ASGZ64', 'B001ASL6EA', 'B001ASNBD4', 'B001ASOVMO', 'B001ASOYZ8', 'B001ASQHFS', 'B001ASSM92', 'B001ASSMJ2', 'B001ASSOBS', 'B001AV5T0Y', 'B001AZL5O4', 'B001B1B3VW', 'B001B3XKZW', 'B001BEHUAC', 'B001BEHWDM', 'B001BEJVA4', 'B001BEL5D0', 'B001BEL9KY', 'B001BELBZW', 'B001BEMBHO', 'B001BEOMDA', 'B001BS42H2', 'B001BXDXT0', 'B001BYECEE', 'B001C2E4CU', 'B001C47VZU', 'B001C4C3GM', 'B001C4C5TW', 'B001CBWM16', 'B001CDTOTC', 'B001CEN0BY', 'B001CG0934', 'B001CG21M6', 'B001CG377O', 'B001CG39SQ', 'B001CJ1EJE', 'B001CJ4ARW', 'B001CW8LQK', 'B001CW9QBO', 'B001CW9QCI', 'B001CZJNLY', 'B001D0C9ZU', 'B001D1J5Q0', 'B001D8J5SQ', 'B001DEA9M6', 'B001DEAEAI', 'B001DEBYUM', 'B001DEC3RA', 'B001DECPXC', 'B001DEE5JY', 'B001DEGBVE', 'B001DEI69Y', 'B001DEJM2Y', 'B001DEJNMI', 'B001DEJTK4', 'B001DH47QM', 'B001DHGAM6', 'B001DHGBIY', 'B001DHGC6U', 'B001DHGIH8', 'B001DHKEDM', 'B001DHKEK0', 'B001DHKIX8', 'B001DHKKD6', 'B001DHKMCK', 'B001DHKQ3A', 'B001DHLCHO', 'B001DHLCTW', 'B001DHLDH8', 'B001DHLDW8', 'B001DHLG5M', 'B001DHLJEA', 'B001DHLJLS', 'B001DHLMHO', 'B001DHLNAK', 'B001DHLPCQ', 'B001DHLPYE', 'B001DHLQT8', 'B001DHLTU4', 'B001DHNHT0', 'B001DHNJFC', 'B001DHNJGQ', 'B001DHNL8C', 'B001DHNLC8', 'B001DHNMNG', 'B001DHNNZ8', 'B001DHNQY6', 'B001DHNW2W', 'B001DHNWV8', 'B001DHNXYY', 'B001DHP6RG', 'B001DHP92S', 'B001DHP978', 'B001DHP9Q4', 'B001DHPFBS', 'B001DHPGXK', 'B001DHPICO', 'B001DHRAJ8', 'B001DHRASY', 'B001DHRFV6', 'B001DHRK3Y', 'B001DPFLU0', 'B001DPFPW4', 'B001DPHP72', 'B001DPHPUE', 'B001DPHT32', 'B001DPHTF0', 'B001DPHVLC', 'B001DPJRJQ', 'B001DPJTGM', 'B001DPJVOM', 'B001DPJVQU', 'B001DPLST8', 'B001DPLUCS', 'B001DPLVCC', 'B001DPM23Y', 'B001DPM5J0', 'B001DPM6QM', 'B001DPM78O', 'B001DPNK62', 'B001DPNK9E', 'B001DPNKCQ', 'B001DPNL1Q', 'B001DPNPNU', 'B001DPNRCO', 'B001DPNSPU', 'B001DPO32M', 'B001DPOAM0', 'B001DPODFY', 'B001DPOJZI', 'B001DPOMOG', 'B001DPONF4', 'B001DPOPS4', 'B001DPOTTY', 'B001DPOXFE', 'B001DPP28G', 'B001DPP51U', 'B001DPP8Q2', 'B001DPP99I', 'B001DPPE4S', 'B001DPPEXO', 'B001DPPO34', 'B001DPPP2E', 'B001DPPYMK', 'B001DPQASW', 'B001DPQI48', 'B001DPQM0I', 'B001DPQNQQ', 'B001DPQWD0', 'B001DPR0EK', 'B001DPR0LS', 'B001DPR49G', 'B001DPR5KY', 'B001DPR9D2', 'B001DPRH3O', 'B001DPRO0U', 'B001DPRQ08', 'B001DPS846', 'B001DPSRK6', 'B001DPSSBE', 'B001DPT3P4', 'B001DPT67E', 'B001DPT90I', 'B001DPTB56', 'B001DPTK6Q', 'B001DPTNCM', 'B001DPTYEE', 'B001DPTZ70', 'B001DPU1F0', 'B001DPUVDW', 'B001DPUXM6', 'B001DPUY0C', 'B001DPV3G6', 'B001DPV87U', 'B001DPVB7C', 'B001DPVI9S', 'B001DPVRI0', 'B001DPVWD0', 'B001DPVZBE', 'B001DPW2Z2', 'B001DPW6JO', 'B001DPW8KQ', 'B001DPWYCI', 'B001DPX1K2', 'B001DPX4OA', 'B001DPX6CU', 'B001DPX6D4', 'B001DPXCXS', 'B001DPXINC', 'B001DPXQ7U', 'B001DPXU08', 'B001DPXW1K', 'B001DPXZVW', 'B001DSIL54', 'B001DSZ2IS', 'B001DT216I', 'B001E0GAEK', 'B001E0GCL6', 'B001E0IEC6', 'B001E0K6J0', 'B001E0KI0W', 'B001E0LGTY', 'B001E0LH5C', 'B001E0LK7C', 'B001E0LLP8', 'B001E0LQO4', 'B001E0MYF4', 'B001E0N60Q', 'B001E0N6W4', 'B001E0NDEU', 'B001E0NDZY', 'B001E0P4JW', 'B001E0P992', 'B001E1QHNI', 'B001E1S8GC', 'B001E1TXJS', 'B001E6DLOQ', 'B001E6DLVY', 'B001E6DM54', 'B001E8B1N2', 'B001E8D01I', 'B001E8D1BM', 'B001E8I2ZM', 'B001ED41NE', 'B001ED7JG0', 'B001EH2538', 'B001EH41GW', 'B001EH5KLC', 'B001EH9EFA', 'B001ELNL3C', 'B001ETS7XS', 'B001ETUFUG', 'B001EY3ED6', 'B001EY4LT2', 'B001EY50NS', 'B001EY51SC', 'B001EY54CK', 'B001EY599S', 'B001EY5AK6', 'B001EY5I1W', 'B001EY6SAC', 'B001EY6X98', 'B001EY7JCS', 'B001EY88Y6', 'B001EY8QO8', 'B001EY8YKO', 'B001EY99HQ', 'B001EYA5OM', 'B001EYAECU', 'B001EYANGM', 'B001EYB992', 'B001EYCFX6', 'B001EYD0EY', 'B001EYD70Q', 'B001EYD864', 'B001EYDAPI', 'B001EYECX2', 'B001EYEI7W', 'B001EYEJWG', 'B001EYGSDY', 'B001EYGWZI', 'B001EYIJ9U', 'B001F80RRM', 'B001F84C8M', 'B001F85WIG', 'B001F85WKY', 'B001F86CJO', 'B001F8BWIA', 'B001F8EK2K', 'B001F8GIX4', 'B001FB2UHY', 'B001FCFC4G', 'B001FCJ0VW', 'B001FCK6BU', 'B001FCMODS', 'B001FDDYAE', 'B001FVRXVC', 'B001FXFH4A', 'B001G090WW', 'B001G0BVSS', 'B001G0IZQE', 'B001G0MB5A', 'B001G4XOHU', 'B001G52CJ0', 'B001GD5X0W', 'B001GD67VQ', 'B001GD7POO', 'B001GD7VK2', 'B001GDB68A', 'B001GDEH6I', 'B001GDI6S8', 'B001GDIPQQ', 'B001GN0U5K', 'B001GRFU06', 'B001GRNB2K', 'B001GX8F0C', 'B001H074Z6', 'B001H7U1MW', 'B001HJWZGK', 'B001HNAY8W', 'B001HNCJXU', 'B001HNIDZ8', 'B001HNIGKK', 'B001HNKJ4G', 'B001HNYC12', 'B001HO0XF0', 'B001HO3BBS', 'B001HO6HWS', 'B001HO7EAW', 'B001HOOSIS', 'B001HOW4WA', 'B001HOWBWS', 'B001HP22XA', 'B001HP2OGA', 'B001HPAL9W', 'B001HSA8DI', 'B001HSBQA2', 'B001HSEEB0', 'B001HSGGGG', 'B001HSTBK4', 'B001HSTNJI', 'B001HSUNRO', 'B001HT5LWA', 'B001HZKJDU', 'B001I689NK', 'B001IA21XK', 'B001IA3OQ8', 'B001ICK0SQ', 'B001ICM7JG', 'B001ICNYGQ', 'B001ICPRSY', 'B001ICQE72', 'B001ICQOHW', 'B001ICR944', 'B001ICRKLG', 'B001ICSCNG', 'B001ICSY5W', 'B001ICT4ME', 'B001ICTT0Q', 'B001ICVNMS', 'B001ICVQW0', 'B001ICVYC2', 'B001ICVYDQ', 'B001ICXJMA', 'B001ICXUQU', 'B001ICY80C', 'B001ICYECO', 'B001ID00LW', 'B001ID2PM4', 'B001ID3X7U', 'B001ID86MW', 'B001IDH9XO', 'B001ILV3VK', 'B001IO46MU', 'B001J7SOGU', 'B001J81YTS', 'B001JCNV8G', 'B001JPB360', 'B001JPE2TA', 'B001JSQKMO', 'B001JYQ7I0', 'B001K2TX6E', 'B001K2VL78', 'B001K5LQU2', 'B001K5M192', 'B001K5TA3W', 'B001KAARPC', 'B001KGL34A', 'B001KGP5HG', 'B001KGQRHS', 'B001KGT2B6', 'B001KGTITC', 'B001KGUNXM', 'B001KGW524', 'B001KGWPG0', 'B001KJ29S6', 'B001KJ67U2', 'B001KP61WK', 'B001KPPOZU', 'B001KSO23M', 'B001LCYP1G', 'B001LTVWCO', 'B001MRXRNC', 'B001MRXSFO', 'B001MRXX2C', 'B001MS1F76', 'B001MS1I0U', 'B001MS3EXO', 'B001MS3HFE', 'B001MYLEKI', 'B001N0IK3U', 'B001N0UK6A', 'B001N3ESME', 'B001N3FPO4', 'B001N3IA8W', 'B001N3K8FK', 'B001NL4QOG', 'B001NPNFJY', 'B001NPPDFS', 'B001NPPDJY', 'B001NPRIEC', 'B001NPRIEW', 'B001NPRIJW', 'B001NZDKUS', 'B001O4FWZY', 'B001O7CKT2', 'B001O9OI3G', 'B001OA4CBS', 'B001OBQG0W', 'B001OD2C2G', 'B001ODUGYC', 'B001OLWJ8K', 'B001OO6KXW', 'B001OQRBA6', 'B001OSZZOI', 'B001OTK9MK', 'B001OXP12O', 'B001P0LJ8Q', 'B001P5XSEE', 'B001P5ZQLM', 'B001P63P2I', 'B001P75HQ4', 'B001P7SR52', 'B001PAGSZU', 'B001PAUQ8K', 'B001PB0MLA', 'B001PB2A0Q', 'B001PBC42K', 'B001PH4634', 'B001PL2O7U', 'B001PO7M4C', 'B001Q9X66O', 'B001QA2OB6', 'B001QC39NQ', 'B001QFZ6RU', 'B001QFZ6WU', 'B001QFZ6X4', 'B001QFZ7BK', 'B001QGGGXC', 'B001QGGH2C', 'B001QGKT30', 'B001QGM7PI', 'B001QOGNFA', 'B001QSNWOG', 'B001QUP78I', 'B001R2LUCM', 'B001R660GY', 'B001RC5BQS', 'B001RCDVGK', 'B001RCDYWQ', 'B001RCM04O', 'B001RCMX5U', 'B001RCVN8S', 'B001RICYK8', 'B001S2Z8WO', 'B001TH7H0E', 'B001TISS7Y', 'B001TIUNWC', 'B001TON9WM', 'B001U0OJ6U', 'B001U0OJ74', 'B001U0OJ8I', 'B001U50O0K', 'B001UHVFII', 'B001UI040W', 'B001UON0NO', 'B001UOSMT6', 'B001UOUME4', 'B001UOWK9Y', 'B001UOWMGU', 'B001V79UJI', 'B001VEL2ZG', 'B001VGF2N2', 'B001VMGVXQ', 'B001VMMSZ6', 'B001VMMXM4', 'B001VMPT98', 'B001VY3JRA', 'B001W2PMGM', 'B001W39GMW', 'B001W3BA62', 'B001W7JEWK', 'B001XTOHQK', 'B001XW6GA2', 'B001YKD5QG', 'B001YQB63O', 'B00201KG38', 'B00202PEZ2', 'B00204OBEK', 'B00205Z6GQ', 'B0021J2QJQ', 'B0021JC19Q', 'B0021JC4E8', 'B0021JC5R4', 'B0021K329I', 'B00239IATO', 'B0023RUBN4', 'B0023V1IUA', 'B0024ID72O', 'B0025HXZN0', 'B0025TFOZK', 'B0025TJALY', 'B0025VK2LY', 'B0025Y9B9A', 'B0025YIS62', 'B0025ZKNFU', 'B0025ZN2NU', 'B0025ZQKP2', 'B0025ZUGB6', 'B0026G53BW', 'B0026GE9IK', 'B0026GQBWC', 'B0026GSNRI', 'B0026GZOSO', 'B0026L02Y0', 'B0026T209C', 'B0026T40YU', 'B0026T4LXK', 'B0026TB6JC', 'B00270DPMQ', 'B0027A1IQ6', 'B0027A2G6M', 'B0027TW55K', 'B0027U3L2K', 'B0027VJPOC', 'B0027YH21M', 'B00284CQTE', 'B00286SU6U', 'B0028AHRLU', 'B0028RXZ0K', 'B0028SL30S', 'B0028UFZ28', 'B0028WPYLS', 'B0028Z2QRK', 'B0028ZKAIC', 'B00294KUZ0', 'B00294Q6ZS', 'B0029B5K30', 'B002A0OB7Q', 'B002ABV4ZM', 'B002AC44BW', 'B002AC5C4A', 'B002AC7NNS', 'B002ACI0A8', 'B002AH1OYW', 'B002AJA8BK', 'B002B8CK8E', 'B002B8EZCS', 'B002B8I3LW', 'B002B8L6AM', 'B002B8NXCQ', 'B002BFY44A', 'B002BG5BAK', 'B002BGBHDU', 'B002BHCLF2', 'B002BUWZ4Q', 'B002C4U5LG', 'B002C8DPLO', 'B002C9ITIW', 'B002CJBOVG', 'B002CRZBGM', 'B002CRZYFK', 'B002D0G2RA', 'B002DFOOKC', 'B002DK917S', 'B002E53JMA', 'B002EFN6C8', 'B002EFNDS0', 'B002EFQOZO', 'B002EFQQ8E', 'B002EFU9KA', 'B002ENL45Q', 'B002F33WT6', 'B002FACT2K', 'B002FAF60W', 'B002FAF634', 'B002FAKBH0', 'B002FK1Q56', 'B002FYE2P8', 'B002G9TNII', 'B002GBEWCS', 'B002GI8RCC', 'B002GI8RG8', 'B002GI8SD0', 'B002GIEDNY', 'B002GJJQIK', 'B002GZAWOG', 'B002GZEAEO', 'B002GZX3FQ', 'B002H3PB0C', 'B002HDC9LQ', 'B002HDCUBK', 'B002HDELIK', 'B002HDF8FU', 'B002HDFCI8', 'B002HE82ES', 'B002HEEMS8', 'B002HGF0J6', 'B002HIAL5W', 'B002HMQ1JI', 'B002HMRHXM', 'B002HMRIB8', 'B002HMTKM8', 'B002HMVOMW', 'B002HMVT8Q', 'B002HMXDCQ', 'B002I9MEWS', 'B002I9MEZ0', 'B002I9O88Q', 'B002I9O91W', 'B002I9O9OE', 'B002I9QCEY', 'B002I9S9IQ', 'B002I9VNL6', 'B002I9VY6U', 'B002IQOV22', 'B002ITOQRE', 'B002IYQTLA', 'B002J1K6SY', 'B002J1UNV4', 'B002J94YVQ', 'B002JARM7S', 'B002JQNTP6', 'B002JZVWMO', 'B002K8VHT8', 'B002K8VJQY', 'B002KGB9G6', 'B002KGB9GG', 'B002KGKNWM', 'B002KJ00IG', 'B002KMQITS', 'B002L1W0FO', 'B002L1YHLE', 'B002L7VIBU', 'B002LGLB18', 'B002LK46L6', 'B002LSGJMC', 'B002LSMRZA', 'B002M2FYNC', 'B002M6129I', 'B002MFNTTA', 'B002MPI0MQ', 'B002MPN78I', 'B002MRBBFC', 'B002MRHR1Y', 'B002MUAGGE', 'B002MUBY7E', 'B002MWWAUM', 'B002N2HX6M', 'B002N4SDG4', 'B002NFL0SQ', 'B002NFOVOG', 'B002NFSKTI', 'B002NJOD8Q', 'B002NS6M18', 'B002OFYSOS', 'B002OG026A', 'B002P4K0RW', 'B002P4LBDY', 'B002P4MXQ8', 'B002P4P0OK', 'B002PA83XO', 'B002PJ29EO', 'B002PWATUW', 'B002PWIBVG', 'B002PWLXZM', 'B002PXLK36', 'B002Q47BG4', 'B002Q4U1KM', 'B002Q4U1R0', 'B002Q6I9NQ', 'B002QQSAVM', 'B002QQXUBC', 'B002R0DXPU', 'B002R5FS9Y', 'B002RB5JVU', 'B002RBASNE', 'B002RMYXMA', 'B002RN0D8C', 'B002RU9K3O', 'B002SEP650', 'B002SV47RG', 'B002SW3GNQ', 'B002TGA0QC', 'B002TGC11Y', 'B002TI2PCM', 'B002TIUJBG', 'B002TIW996', 'B002TIY3RC', 'B002TS3F8U', 'B002UCYZ3O', 'B002UD10RM', 'B002UJU9FA', 'B002UNCNTQ', 'B002URE71E', 'B002USN5AC', 'B002VC4W1I', 'B002VNGPJE', 'B002VNGPSA', 'B002VTWTWU', 'B002W8HB32', 'B002WH8X0S', 'B002WP0EFC', 'B002WS7HO0', 'B002XGIAF6', 'B002XTBPIM', 'B002YCKCQO', 'B002YDK6DM', 'B002YDZ05G', 'B002YFXHOA', 'B002YG30CS', 'B002YG74W0', 'B002YG8QKY', 'B002YJ3YRQ', 'B002YKLVKM', 'B002YL1RPU', 'B002YO6WVQ', 'B002YOC1DE', 'B002YOE31M', 'B002YOFRM6', 'B002YOFVKE', 'B002YOHZG2', 'B002YOKR6M', 'B002YTQ4KA', 'B002YTQDQA', 'B002YTS354', 'B002YTXKI4', 'B002YTXMT6', 'B002YVMVKU', 'B002YZ77OG', 'B002Z8DRKU', 'B002Z8EUVK', 'B002Z8KYE2', 'B002ZAYO6Y', 'B002ZD3AHA', 'B002ZD3C14', 'B002ZD6MJ8', 'B002ZD8L2E', 'B002ZDC9IG', 'B002ZHQCS0', 'B002ZHS7LU', 'B002ZHSAEE', 'B002ZHSANU', 'B002ZHU3MG', 'B002ZHU3Y4', 'B002ZHVN02', 'B002ZHVNQG', 'B002ZHVU78', 'B002ZHVUVE', 'B002ZHXKG2', 'B002ZHXMSI', 'B002ZN9WL8', 'B002ZNBF3Q', 'B002ZNBU7C', 'B002ZNBUTU', 'B002ZNBY82', 'B002ZNC4D6', 'B002ZNC4P4', 'B002ZNC7J2', 'B002ZNDOBC', 'B002ZNDOTY', 'B002ZNDP5C', 'B002ZNDSUO', 'B002ZNDTA8', 'B002ZNDVZQ', 'B002ZNE0XS', 'B002ZNE1S2', 'B002ZNE574', 'B002ZNE74U', 'B002ZNEA1K', 'B002ZNEC2W', 'B002ZNECYA', 'B002ZNFFMS', 'B002ZNFIVQ', 'B002ZNFUH8', 'B002ZNFVAO', 'B002ZNG2HA', 'B002ZNG2Y8', 'B002ZNG3YW', 'B002ZNG4JQ', 'B002ZNGCFC', 'B002ZNGCPW', 'B002ZNGE1E', 'B002ZNGG26', 'B002ZNGGEO', 'B002ZNHDEG', 'B002ZNHUTE', 'B002ZNHYLI', 'B002ZNHZEO', 'B002ZNI1E2', 'B002ZNI2SW', 'B002ZNI5P2', 'B002ZNI8J0', 'B002ZNI958', 'B002ZNICG4', 'B002ZNICJQ', 'B002ZNIF52', 'B002ZNL4IM', 'B002ZNLHAW', 'B002ZNLJRI', 'B002ZNLL3K', 'B002ZNLNCE', 'B002ZNNAW0', 'B002ZNNCXM', 'B002ZNNGSI', 'B002ZNNH14', 'B002ZNNLC4', 'B002ZNNR14', 'B002ZNNSYK', 'B002ZNP7IA', 'B002ZNP8PW', 'B002ZNP9S8', 'B002ZNP9VU', 'B002ZNPAWS', 'B002ZZ24J8', 'B00303VJYU', 'B00304TWOS', 'B00307ZZC8', 'B003080MMU', 'B003083TK2', 'B003083YO8', 'B003085QE4', 'B003086076', 'B003089GZO', 'B00308B1HK', 'B00308BA4Y', 'B00308BXSC', 'B00308GEZO', 'B00308J1Q8', 'B00308NMKO', 'B00308O622', 'B00308P0FO', 'B00308R5UC', 'B00308SS8U', 'B00308V24M', 'B00308X2UO', 'B00308X4I4', 'B00308X6ZA', 'B00308XAG0', 'B00308XJNE', 'B00308Z7FC', 'B003094V3K', 'B00309979S', 'B0030HK3JI', 'B0030MAU46', 'B0030VCLG2', 'B00310QQ0E', 'B00310USMG', 'B00310WL12', 'B00312T5GE', 'B00314WY0G', 'B00314WY7E', 'B00314YS5A', 'B003150S3K', 'B00316KL3G', 'B003175RHU', 'B003179GMM', 'B0031CS6WS', 'B0031HYS9I', 'B0031JD9GE', 'B0031O0BY2', 'B0032AMC4W', 'B0032K9PPQ', 'B003349YCA', 'B0033GK01M', 'B0033SNI50', 'B00346RDR0', 'B0034C1UX2', 'B0034C6X3O', 'B0034C9KJI', 'B0034C9KZM', 'B0034CDCAG', 'B0034CDCNI', 'B0034IM3P0', 'B0034IM3WS', 'B0034IM72Y', 'B0034IMA7G', 'B0034IO6Q4', 'B0034IO9W0', 'B0034IOF5Q', 'B0034IQ85G', 'B0034IQC3E', 'B0034IRN32', 'B0034IRNKA', 'B0034IRQKW', 'B0034IRTC2', 'B0034ISODA', 'B0034IT66E', 'B0034IVWOI', 'B0034IX3RM', 'B0034IX61A', 'B0034IXATI', 'B0034IYGJ6', 'B0034IZA4Q', 'B0034J1QD4', 'B0034J4CB2', 'B0034J5YSW', 'B0034J64L8', 'B0034J8U6U', 'B0034KACRO', 'B0034KG2OQ', 'B0034KJRFM', 'B0034KJUL8', 'B0034YODFC', 'B0035LU53I', 'B0035Q98CM', 'B0035QECPU', 'B0035QEMSW', 'B0035QI4F4', 'B003637HOA', 'B003637HTK', 'B0036EPNKY', 'B0036EQ4U2', 'B0036ERND4', 'B0036ERXOI', 'B0036P4WO6', 'B0036PGUV4', 'B0036QUDES', 'B0036UXD0K', 'B0036V8H28', 'B0037AAPSC', 'B0037AZLDG', 'B0037L236I', 'B0037LAHSY', 'B0037XOZJO', 'B0037XT3XM', 'B00380080G', 'B0038071G0', 'B0038EW9LI', 'B0038EWC6A', 'B0038HO3VY', 'B0038MFHW8', 'B0038MOVMU', 'B0038REJUO', 'B0038ZS6VY', 'B0038ZSE6G', 'B0038ZVY90', 'B0038ZXJ5C', 'B0038ZXVMS', 'B0038ZZFPE', 'B0039003W8', 'B003901HKK', 'B0039BF19W', 'B0039DPG4U', 'B0039Q5OK8', 'B0039V17GS', 'B0039ZMSL2', 'B003AFP0PM', 'B003AJ7S5S', 'B003AJBUPC', 'B003AJD9TW', 'B003AO1MPU', 'B003APV83U', 'B003B79GFE', 'B003B7W6BK', 'B003B7Z91E', 'B003BF7DPQ', 'B003BGMT2C', 'B003BRYXSY', 'B003BSRKL0', 'B003C235FU', 'B003C2C9KC', 'B003C68L00', 'B003CGA25C', 'B003CKTS4Y', 'B003CNBYDO', 'B003CS6EPM', 'B003CUWDKA', 'B003CUZM6C', 'B003CV070C', 'B003CV67XS', 'B003CY2H5W', 'B003CY2JKK', 'B003CY2JMI', 'B003CY4MVE', 'B003DA62R4', 'B003DGINRK', 'B003DOIBMO', 'B003DOLEO6', 'B003DUPBRG', 'B003DY5ROY', 'B003DY5T88', 'B003DY7SYQ', 'B003DY9XAS', 'B003DY9XBM', 'B003DYCMN8', 'B003E0NVGS', 'B003E0TF86', 'B003EA8XMK', 'B003EA8Y42', 'B003EAC3XU', 'B003EAC41G', 'B003EAC5DI', 'B003EAC6U0', 'B003EAE2PW', 'B003EAE33S', 'B003EAE6L2', 'B003EAE6U8', 'B003EAE9G4', 'B003EAE9Z0', 'B003EAFQ7A', 'B003EAFR1K', 'B003EAFR3I', 'B003EAFUVW', 'B003EAFWMO', 'B003EAFX96', 'B003EAFY2M', 'B003EAHVO6', 'B003EAHZQ0', 'B003EAJRRU', 'B003EAK396', 'B003EALXDG', 'B003EALYTE', 'B003EAM0SS', 'B003EAM1FU', 'B003EFX20S', 'B003EGBY4S', 'B003EUU7GA', 'B003EV392I', 'B003EYNTE8', 'B003F0O72E', 'B003FBG4SS', 'B003FJ436U', 'B003FJ9I7O', 'B003FVZS0I', 'B003FW5P32', 'B003FW7AUI', 'B003FWE736', 'B003G5ZUYW', 'B003GD5IAA', 'B003GFAY7U', 'B003GR4YZ6', 'B003GUNZQM', 'B003GV7P08', 'B003GX8M76', 'B003H3A1JW', 'B003H3A9YY', 'B003HFKVJK', 'B003HFSZR0', 'B003HN63M6', 'B003HPRHLK', 'B003IFQ2TC', 'B003IFWDMW', 'B003IR7T7E', 'B003JFV4Q2', 'B003JJ05A4', 'B003JMNH60', 'B003JMYY62', 'B003JN38BI', 'B003JN4ZU6', 'B003JN5258', 'B003JN6NS8', 'B003JN6O3W', 'B003JN6QTY', 'B003JN7WTW', 'B003JN7YG8', 'B003JN9R4A', 'B003JN9S5S', 'B003JNBUK4', 'B003JNDZOS', 'B003JNE5B0', 'B003JRDS14', 'B003JRDSRS', 'B003JRI0WG', 'B003JRM93W', 'B003JRM9NW', 'B003JT9DSY', 'B003K7RYKO', 'B003KIMJF8', 'B003KTAX7S', 'B003L07IYW', 'B003L08NSC', 'B003L4Y8PU', 'B003LB2JIG', 'B003LIJSSS', 'B003LKXZOE', 'B003LRB07Q', 'B003LUEN8Q', 'B003LZO12Y', 'B003LZQ622', 'B003M0D50C', 'B003M1QTOU', 'B003M1SQ3C', 'B003M4R08G', 'B003M7X4GU', 'B003MC00A8', 'B003MFGBKI', 'B003MM4F7C', 'B003MM6RTG', 'B003MNEQRU', 'B003MQ3RNQ', 'B003MQ5S3I', 'B003MQ7UUW', 'B003MWOG2G', 'B003MYEDUO', 'B003MYK9R0', 'B003MYUBJ6', 'B003MYWSBK', 'B003MZ6U5E', 'B003MZ8Q92', 'B003MZEEMU', 'B003N2F408', 'B003N3N1XO', 'B003N52SRM', 'B003N5FGWQ', 'B003N5MW5A', 'B003N5NDYO', 'B003N5TK46', 'B003N60ZS0', 'B003N6OLOY', 'B003N6SKDW', 'B003NSEETO', 'B003NTFMKS', 'B003NUGPTY', 'B003O1Y58K', 'B003O46W38', 'B003O4DMTK', 'B003O66B5A', 'B003O6AORQ', 'B003O6B024', 'B003OCAN6C', 'B003P8JIAW', 'B003P8JKX2', 'B003PB97XW', 'B003PCDG42', 'B003PCKD8O', 'B003PE4VPS', 'B003Q6PHJE', 'B003QRST0C', 'B003QZGZFK', 'B003R4O656', 'B003RRWW54', 'B003RRWW8G', 'B003S6KZSK', 'B003S6L0GQ', 'B003SFA4L4', 'B003T5UCFG', 'B003T62NL6', 'B003T67S34', 'B003T6ACU0', 'B003TF61U6', 'B003TFK8PU', 'B003TI48OO', 'B003TNTE4S', 'B003TOJO1K', 'B003TVPE7G', 'B003U5XAA4', 'B003U6R2AC', 'B003U6RBNK', 'B003U70IIO', 'B003U8HRDM', 'B003UDHU66', 'B003UKCEKG', 'B003USHZHK', 'B003UVZERK', 'B003V1CNFK', 'B003V5Z8EE', 'B003VAXC4M', 'B003VHSAL0', 'B003VLBHL6', 'B003VRR4ZI', 'B003VTAWZU', 'B003VVB0U4', 'B003VVFWRQ', 'B003VVG39W', 'B003VVPAZA', 'B003WFDSKE', 'B003X3D7IS', 'B003X3FD6C', 'B003X4KVKY', 'B003X7GFQA', 'B003XF3538', 'B003XI8RW4', 'B003XMZHOQ', 'B003XNBKD2', 'B003XNZERA', 'B003XOJUUQ', 'B003XV4UY0', 'B003XV9CPC', 'B003XWFRK0', 'B003Y3RYNG', 'B003Y59JJQ', 'B003Y888PE', 'B003YLI112', 'B003ZB3TM2', 'B003ZB3TTA', 'B003ZDFCLG', 'B003ZDFCNO', 'B003ZDJ2YO', 'B003ZFZMV4', 'B003ZFZMVY', 'B003ZKZ6ZQ', 'B003ZVE1P6', 'B003ZVI864', 'B003ZVJZU2', 'B003ZVMZKO', 'B003ZVRUK4', 'B003ZX01OO', 'B00400RVV2', 'B00404DO0A', 'B00404W8F2', 'B00404Y0U8', 'B0040776XI', 'B00413440O', 'B00413X6XK', 'B00414APWE', 'B00414WTIW', 'B0041H32DU', 'B0041O9BJC', 'B0042L0IJQ', 'B0042NNIKU', 'B0042QFXPK', 'B0042QJNM4', 'B0042SRWQQ', 'B004352FII', 'B004353THE', 'B0043GQNTE', 'B0043MQK0K', 'B0043QI7PW', 'B0043QMF78', 'B0043Y8B50', 'B004403MU2', 'B0044DYGKY', 'B0044E1QX8', 'B0044EQPAM', 'B0044I4640', 'B0044OFNSW', 'B0044P9QDE', 'B0044UU5JS', 'B0044UWMSU', 'B00457IOXO', 'B0045DWLJ6', 'B0045LQY8M', 'B0045LSA3Y', 'B0045TZQ5G', 'B0045U35X0', 'B0045XUOLI', 'B0045XUP62', 'B00461D858', 'B00461IZ0Q', 'B00469UT8Y', 'B0046BXXCG', 'B0046C11B0', 'B0046ECL44', 'B0046J4ZSE', 'B0046JMAK4', 'B0046M7AKQ', 'B0046PUNZM', 'B0046WJVWQ', 'B004708164', 'B00472MEHY', 'B0047L4B5I', 'B0047P9GDQ', 'B0047Q4QTY', 'B0047Q7TDY', 'B0047QBMJ6', 'B0047UQFE4', 'B004820IB2', 'B004829QZ6', 'B00482BXWA', 'B00482HA9K', 'B00482NVC0', 'B00485GXTK', 'B00487SMU6', 'B00496FZX8', 'B0049I4S9I', 'B0049I9D3E', 'B0049I9FBO', 'B0049I9OQA', 'B0049IDML8', 'B0049NSYW0', 'B0049OSWEO', 'B004A346DU', 'B004A5PKP6', 'B004A60G6S', 'B004A6Q8IS', 'B004AJ6IO4', 'B004AP40XY', 'B004ATHYZ6', 'B004B987Y2', 'B004B9DQUC', 'B004BBGZZI', 'B004BMZHQU', 'B004BW58Z0', 'B004BWVCKA', 'B004C3U0RO', 'B004C3U16O', 'B004C3U1MI', 'B004C3U1W8', 'B004C3VV4A', 'B004C3VW6C', 'B004C3VXCU', 'B004C3VXSE', 'B004C3XGIY', 'B004C3Z6DM', 'B004C3Z9S4', 'B004C40HB2', 'B004C4125M', 'B004C413ME', 'B004C47WJC', 'B004CEEAO2', 'B004CJF2BW', 'B004CZLJ8G', 'B004D4T794', 'B004D8RLCK', 'B004DEHAW0', 'B004DM01VE', 'B004EA796A', 'B004EA9IGE', 'B004EFN2KM', 'B004EFP8QI', 'B004EPX9GO', 'B004ETGSMM', 'B004ETKLWK', 'B004F02KIQ', 'B004F63ZS4', 'B004F641A0', 'B004F9Q9I4', 'B004F9Q9K2', 'B004FED2FC', 'B004FHLKZI', 'B004FJZ48K', 'B004FLKAZK', 'B004FN9EK0', 'B004FUP9XO', 'B004FVC1E8', 'B004G66GRU', 'B004G6IMHM', 'B004G6NTPM', 'B004G6V0IU', 'B004G7PQ16', 'B004GASMD2', 'B004GCSZI2', 'B004GIBPG0', 'B004GJ4IA4', 'B004GMOZ54', 'B004GUI084', 'B004GV0G76', 'B004H1M5QU', 'B004H3XPGM', 'B004H3XPHQ', 'B004H3XPQ2', 'B004H3XPS0', 'B004H3XQ2A', 'B004H3XQAM', 'B004H3XQB6', 'B004H3XQD4', 'B004H3XQQ6', 'B004H3XQUW', 'B004H3XR10', 'B004H3XR3S', 'B004H3XRRY', 'B004H3XS00', 'B004H3XS78', 'B004H3XS9G', 'B004H3XSGO', 'B004H3XSLE', 'B004H3XTXG', 'B004H3XV16', 'B004H3XVAC', 'B004H3XVI4', 'B004H3XW8I', 'B004H3XWAQ', 'B004H3XWDI', 'B004H3XWII', 'B004H3XWMY', 'B004H3XWOM', 'B004H3XWW4', 'B004H3XX8W', 'B004H5WIC2', 'B004H69LHG', 'B004HAEZ5U', 'B004HD98UE', 'B004HQ5PR6', 'B004I045ZE', 'B004I084F6', 'B004I084SS', 'B004I0A4X6', 'B004I0AC88', 'B004I0BB6U', 'B004I2KO98', 'B004I50JM2', 'B004I52FW4', 'B004I54NPQ', 'B004I54PTK', 'B004I564CQ', 'B004I57ZEM', 'B004IA8GNG', 'B004IBO70Q', 'B004IBTJ1I', 'B004IPKX64', 'B004IQU4QW', 'B004IYJ9SI', 'B004J50Z66', 'B004J5QARO', 'B004JOF9EK', 'B004JW45K6', 'B004K9HEMY', 'B004K9OX4Q', 'B004KF8LPC', 'B004KF8M4W', 'B004KF8MZQ', 'B004KFAMOK', 'B004KFEJS0', 'B004KNRNDA', 'B004KSBLGA', 'B004L4JUIY', 'B004LCN3ZW', 'B004LGXOJI', 'B004MDO8RM', 'B004MDQQNQ', 'B004MDQR6W', 'B004MLQ2AA', 'B004MLRS4E', 'B004NHMORI', 'B004NHP0H4', 'B004OD50MC', 'B004OET7ZM', 'B004OI66IY', 'B004OI7IUO', 'B004OLQJJW', 'B004OMAW8K', 'B004OYPVOI', 'B004PFG0GO', 'B004PIKD28', 'B004PINNG6', 'B004PYEBC0', 'B004PZWJ50', 'B004Q01XVK', 'B004Q026XY', 'B004Q07Z62', 'B004Q0FHYE', 'B004Q0K3GQ', 'B004Q0KSEI', 'B004Q3HJWO', 'B004Q3SYBE', 'B004Q3TI6Y', 'B004Q3V6VY', 'B004Q3V9OI', 'B004Q3VAHE', 'B004Q3VC8G', 'B004Q3VUF6', 'B004Q3W2WG', 'B004Q3WSV6', 'B004Q3WVGS', 'B004Q3WZX2', 'B004Q3X0Q8', 'B004Q3X248', 'B004Q3XB6W', 'B004Q3XD1U', 'B004Q3XQIU', 'B004Q3XW0C', 'B004Q3Y73I', 'B004Q3YTC2', 'B004Q3Z35O', 'B004Q3Z3X6', 'B004Q3Z7SW', 'B004Q3Z7ZK', 'B004Q3ZC3W', 'B004Q3ZFXE', 'B004Q3ZPRU', 'B004Q3ZTYO', 'B004Q3ZXBS', 'B004Q40LX2', 'B004Q40MX6', 'B004Q41GWM', 'B004Q41IQ6', 'B004Q41SCK', 'B004Q42NA6', 'B004Q4A8OE', 'B004Q6K2B6', 'B004QEGZPK', 'B004QFBYOG', 'B004QI8H6G', 'B004QMXL86', 'B004QOD9KO', 'B004QOJAHU', 'B004RCQSMQ', 'B004S61PME', 'B004S7IQS4', 'B004SBHEZG', 'B004SOXQ8C', 'B004SQVQO6', 'B004SRDE22', 'B004TSR1DI', 'B004TSTFJQ', 'B004TSV8Q4', 'B004TT4ZW2', 'B004TT6804', 'B004TYBDCC', 'B004U44328', 'B004U50JVG', 'B004UH3B0U', 'B004UH6XBE', 'B004URUJYG', 'B004VN9Q7A', 'B004VZ2XUU', 'B004W2WJCO', 'B004W32AWC', 'B004W32FT0', 'B004W6IKLY', 'B004W7YBF2', 'B004WBEKBS', 'B004WEH2OC', 'B004WI6OQU', 'B004WP4BTU', 'B004WTJH5Y', 'B004X4UQR6', 'B004XG4UZI', 'B004XG4V7A', 'B004XJ5LQC', 'B004XJ6C06', 'B004XJ71E2', 'B004XKZTXQ', 'B004XL09MQ', 'B004XL0DSG', 'B004XL0PB6', 'B004XL0TVM', 'B004XL0UX4', 'B004XL0XFO', 'B004XL11ZK', 'B004XL1HOU', 'B004XL1JK2', 'B004XL1JPW', 'B004XL1K8S', 'B004XL1VSM', 'B004XL20KK', 'B004XL21BS', 'B004XL22PS', 'B004XL25K0', 'B004XL2AZK', 'B004XL2CX0', 'B004XL2EOM', 'B004XL2L40', 'B004XL2N2U', 'B004XL2PXC', 'B004XL2YOC', 'B004XL3068', 'B004XL32S4', 'B004XL3CCK', 'B004XL3LLW', 'B004XL3NNI', 'B004XLDFZ4', 'B004XLDGQ2', 'B004XLDI1K', 'B004XLDK2M', 'B004XLDMAC', 'B004XLDOLY', 'B004XLDQ4E', 'B004XLE0QC', 'B004XLE1C0', 'B004XLEA9Y', 'B004XLEC2O', 'B004XLED8C', 'B004XLEDE6', 'B004XQH91A', 'B004XQH9VK', 'B004XQHA0U', 'B004XQHFHS', 'B004XQHHG2', 'B004XTK7ZM', 'B004XUISAM', 'B004Y0OPT4', 'B004Y26SRY', 'B004Y27RA6', 'B004Y2P276', 'B004Y7511S', 'B004YDS5CY', 'B004YFGLVE', 'B004YK7K0U', 'B004YM9OX4', 'B004YZCB7C', 'B004Z2HFSO', 'B004Z2HFYI', 'B004Z2JM0S', 'B004Z4M3NE', 'B004Z4PPV6', 'B004Z6PJHO', 'B004ZMUD1A', 'B004ZO4V3O', 'B004ZO68V2', 'B004ZRKZLI', 'B004ZRKZP4', 'B004ZTB1J6', 'B0050KJCWC', 'B0050KJD4Y', 'B0050KJEXY', 'B0050KJK92', 'B0050KJLNC', 'B0050KJPTM', 'B0050KJS3A', 'B0050KJSTY', 'B0050KJTF2', 'B0050KJTGG', 'B0050KJTWK', 'B0050KJW1S', 'B0050KJX3K', 'B0050KJXFI', 'B0050KJXNU', 'B0050KJXXU', 'B0050KJY7U', 'B0050KJYR0', 'B0050KK0LY', 'B0050KK1PE', 'B0050KK226', 'B0050KK262', 'B0050KK2XU', 'B0050KK3JS', 'B0050KK5NW', 'B0050KK82A', 'B0050KK8RU', 'B0050KKA7I', 'B0050KKADW', 'B0050KKAP0', 'B0050KKD3O', 'B0050KKDUM', 'B0050KKENI', 'B0050KKME4', 'B0050KKMSK', 'B0050KKMYY', 'B0050KKN7U', 'B0050KKO2Y', 'B0050KKONI', 'B0050KKXXE', 'B0050KKYTM', 'B0050KKZ0U', 'B0050KKZ96', 'B0050KL05E', 'B0050KL17G', 'B0050KL4BO', 'B0050KL676', 'B0050KL8TW', 'B0050KLHA2', 'B0050KLIAG', 'B0050KMOM2', 'B0050KMOZE', 'B0050MFK4O', 'B0050O1KNW', 'B0050O1L2M', 'B0050O1MFS', 'B0050O1TSI', 'B0050O1VWC', 'B0050O20FE', 'B0050O25IG', 'B0050O2EWS', 'B0050O2H52', 'B0050O2JWI', 'B0050O2KE0', 'B0050O2L6C', 'B0050O2MJ8', 'B0050O2MV6', 'B0050O2O8W', 'B0050O7AQI', 'B0050ZG4Q4', 'B00511ROIO', 'B00514O75O', 'B0051AN268', 'B0051AYC6M', 'B0051C0AJI', 'B0051HEL2A', 'B0051O838Q', 'B0051OWLNE', 'B0051PUD88', 'B0051VFQSO', 'B0051W8KYK', 'B00527D5F8', 'B0052DGP40', 'B0052E5MM0', 'B0052EE4VA', 'B0052IO3P8', 'B0052P1Z7K', 'B0052U17H8', 'B0052WLE6K', 'B0052XNPX4', 'B0052YTXXE', 'B00533HMLO', 'B0053F7PZU', 'B0053F7SUM', 'B0053F7TAQ', 'B0053F7WGM', 'B0053F82CU', 'B0053F83EW', 'B0053F88EM', 'B0053F8EVY', 'B0053F8F2W', 'B0053F8FVI', 'B0053F8L58', 'B0053F8QWQ', 'B0053F90CQ', 'B0053F961Q', 'B0053F9AJY', 'B0053F9I7I', 'B0053F9IXW', 'B0053F9MFQ', 'B0053F9R24', 'B0053K4N9G', 'B0053K4XCI', 'B0053K4YI6', 'B0053TJV9O', 'B0053Y2A1A', 'B0053Y2AIS', 'B0053Y2F7O', 'B0053Y2IQM', 'B0053Y2LOG', 'B0053Y2LUK', 'B0053Y2M1I', 'B0053Y2O2A', 'B0053Y2PVA', 'B0053Y2SQ2', 'B0053Y2UBU', 'B0053Y2VQ4', 'B0053Y2XQM', 'B0053Y2ZCO', 'B0053Y2ZRY', 'B0053Y30YQ', 'B0053Y34B0', 'B0053Y34ZG', 'B0053Y35F0', 'B0053Y392E', 'B0053Y39HE', 'B0053Y39K6', 'B0053Y3B22', 'B0053Y3BHM', 'B00542YV9U', 'B005459F2A', 'B005459L5G', 'B005459LMO', 'B005459SQI', 'B00545AEW0', 'B00545AILM', 'B00545AL4G', 'B00545AYTS', 'B00545AZ9W', 'B00545B1GS', 'B00545B58M', 'B00545B8C0', 'B00545B9L0', 'B00545Z2QS', 'B00549456C', 'B0054IEC9I', 'B0054LYDNK', 'B0054LYE2U', 'B0055522EM', 'B0055F530W', 'B0055GMBPG', 'B0055MVVT2', 'B0055NZ4US', 'B0055TS8WI', 'B0055ZDJJY', 'B0055ZF03W', 'B00563NRI8', 'B00564USLQ', 'B00564UZ3C', 'B00564V234', 'B00564VVLC', 'B00566BE7G', 'B00566DTX8', 'B00566DVCC', 'B00569N93A', 'B0056AUYAK', 'B0056CEGQ6', 'B0056CGTUM', 'B0056CSJDM', 'B0056IYZPC', 'B0056IZ0XI', 'B0056L29GG', 'B0056XFW8Q', 'B0056XGPM8', 'B00570QDYA', 'B00570QE44', 'B00570QGUG', 'B00570QQ5G', 'B00570QRBE', 'B00570QTRG', 'B00570R3T4', 'B00570RDYO', 'B00570RH36', 'B00570RHLI', 'B00570RKJW', 'B00570RL0K', 'B0057P2GNC', 'B0057QVUZQ', 'B0057QVYOI', 'B0057W4VQ0', 'B0057WCJLE', 'B0057Y73Z4', 'B0057Z1GQK', 'B0057Z1H0K', 'B0057ZVI1S', 'B0058CE46G', 'B0058CE8D0', 'B0058CE95M', 'B0058OJFQ8', 'B0058ZZR9Q', 'B0059NMYOS', 'B005AEVJ74', 'B005AHIYMY', 'B005AHKCF6', 'B005AHL13I', 'B005AR6OH6', 'B005AR6RNC', 'B005AR6WLE', 'B005AR6XGS', 'B005AR71E6', 'B005AR71IM', 'B005AR71QE', 'B005AR75VU', 'B005AR79M0', 'B005AR7D26', 'B005AR7FX8', 'B005AR7GEG', 'B005AR7IF8', 'B005AR7SRG', 'B005AR859G', 'B005AR8AG4', 'B005AR9VEO', 'B005ARA134', 'B005ARAEOU', 'B005ARAT7M', 'B005ARAW1K', 'B005ARCOXY', 'B005ARCTNY', 'B005ARCXJO', 'B005B45CMG', 'B005B45M7Q', 'B005B46GRQ', 'B005B47A4E', 'B005B48552', 'B005B48872', 'B005B48KMA', 'B005B4DE5S', 'B005B4DULQ', 'B005B4EL5K', 'B005B5EI8Y', 'B005B5QVQ6', 'B005B5RCDC', 'B005B5RVSI', 'B005B9CIFK', 'B005B9CJMM', 'B005B9CLIO', 'B005B9CLO8', 'B005B9CM7O', 'B005B9CMM4', 'B005B9CWOC', 'B005B9CYF4', 'B005B9D0ZW', 'B005B9D7ZK', 'B005B9ELM8', 'B005BA2IUO', 'B005BA31P0', 'B005BA36XC', 'B005BA3ZYC', 'B005BA43ZM', 'B005BA44VU', 'B005BA46EU', 'B005BA4GSQ', 'B005BHT0KI', 'B005BHT3VE', 'B005BNL61I', 'B005BNLGV8', 'B005BNLHVC', 'B005BNLMQ2', 'B005BNM1QM', 'B005BNM7GQ', 'B005BNMXXS', 'B005BNMZC2', 'B005BNN1NE', 'B005BNN4KY', 'B005BQS65E', 'B005BYS40S', 'B005CFV6N8', 'B005CY0G1M', 'B005CZOPRW', 'B005D2IWGE', 'B005D6QARS', 'B005D7709E', 'B005D770EY', 'B005D9TKHM', 'B005D9TMFC', 'B005DHIHZU', 'B005DL6K5K', 'B005DNRKIO', 'B005DNRT9O', 'B005DNS06U', 'B005DNSB5K', 'B005DNSFZG', 'B005DNSK38', 'B005DNTJ1K', 'B005DX5AHC', 'B005E0LBFY', 'B005E0M14E', 'B005E0MO3M', 'B005E83PHI', 'B005E83QZE', 'B005E83XRK', 'B005E8464Y', 'B005ETP5NE', 'B005FNVLM8', 'B005FNVS30', 'B005FQLG6Q', 'B005FUL0A4', 'B005FUQOFK', 'B005GHNR34', 'B005GJXNRC', 'B005GNM6NA', 'B005GQWN6C', 'B005GR0NLS', 'B005GR0NMW', 'B005GSZ3JY', 'B005H6T09Y', 'B005H74VXI', 'B005HDOH72', 'B005HFB714', 'B005HYW1UQ', 'B005I5490Y', 'B005ICHEL8', 'B005ILJ00M', 'B005ILJ50C', 'B005IQS00S', 'B005IUYSSM', 'B005J2JIYI', 'B005J2JT10', 'B005JGULXG', 'B005JT9SBO', 'B005JWA9T6', 'B005KEDAX0', 'B005KEDE2W', 'B005KEDUI0', 'B005KEE29Q', 'B005KEE2NW', 'B005KEECI2', 'B005KEESHW', 'B005KEFGJQ', 'B005KEG4GU', 'B005KEGC4Y', 'B005KEGN8Y', 'B005KT4FYI', 'B005KT4IKE', 'B005KYLAT6', 'B005L10YJK', 'B005LPHQ2E', 'B005LYRKQW', 'B005M2RVL2', 'B005M4JUB4', 'B005MWEWQE', 'B005NC9O16', 'B005NC9ONO', 'B005ODF35U', 'B005OL2IIM', 'B005OVUXPM', 'B005OW8GAU', 'B005PMPDZK', 'B005PZ3D5E', 'B005Q0BZSU', 'B005SA8MUC', 'B005SIMYQM', 'B005SPDOY6', 'B005SYBWS2', 'B005T06ITS', 'B005TGD9U8', 'B005UF69WS', 'B005UIFN40', 'B005UIW7DK', 'B005UJY71O', 'B005VV62QY', 'B005WXZZS2', 'B005XJD3S4', 'B005XRPI34', 'B005XTX7E4', 'B005YJ65LA', 'B0060LPGZ2', 'B0060NSI8W', 'B0061U3EEW', 'B00620WWU8', 'B0063C1GMK', 'B0063C1SXM', 'B0063MEZR8', 'B0064B6PC6', 'B0064OGR30', 'B0064OINRI', 'B0064OM5QS', 'B0064XMZLE', 'B0065MVY0M', 'B0065QZL5M', 'B00683IEA6', 'B00695CBY8', 'B006C23JC6', 'B006CQWI4C', 'B006E7WQHI', 'B006EAK97E', 'B006EAKCIU', 'B006EAKFTG', 'B006EAKMIK', 'B006EAKQ6S', 'B006EALA40', 'B006FNL29O', 'B006G7SNPK', 'B006G8CKDK', 'B006H8PTMI', 'B006HDUS10', 'B006IA81C0', 'B006IA89GI', 'B006IA8X1O', 'B006IDM2SQ', 'B006IDM7MC', 'B006JGHCZU', 'B006JHYB6C', 'B006JVBN0A', 'B006KM3PHW', 'B006KYXDDQ', 'B006L8PS66', 'B006L8PTII', 'B006LMBLIQ', 'B006LPVHNW', 'B006MNW5XO', 'B006O1HX72', 'B006O7BPE8', 'B006O7D70I', 'B006OMVWKU', 'B006PJHOIQ', 'B006PJHV34', 'B006QKBIN6', 'B006QLDI3S', 'B006QYYV0Y', 'B006R8K6I0', 'B006R8K7JI', 'B006RFIWFW', 'B006SMRI2W', 'B006TSFC3C', 'B006VJB9MW', 'B006WN6BI4', 'B006WOLD2M', 'B006XA59UM', 'B006YFEKUG', 'B006Z7UF0M', 'B006ZH3LXA', 'B006ZJ2JZO', 'B00702RTQE', 'B0071CYBQY', 'B0071IWJ6W', 'B0071L8AOO', 'B0071NV6RK', 'B0071NVEBS', 'B0071NVF3A', 'B0071NVR7E', 'B0071NVT0Y', 'B0071NVVY8', 'B0071NVXKA', 'B0071NY4KQ', 'B0071NY5QY', 'B0071NYA5K', 'B0071NYCNK', 'B0071NYKJG', 'B0071O2N6M', 'B0072UUPME', 'B0073B0YBO', 'B0073BYFGY', 'B0073WU6FW', 'B0073ZBLS0', 'B0073ZD53E', 'B0073ZDTAI', 'B0073ZF77Q', 'B00744D5PC', 'B00744D6C4', 'B0074CJFVC', 'B0074CK4AS', 'B0074Y1E5A', 'B0074Y1FJA', 'B0074Y1NGA', 'B0074Y1ZBS', 'B00757EFQ6', 'B0075D6RJI', 'B0075D7440', 'B0075D7BXE', 'B00768HCMS', 'B0076CRDQY', 'B0076OWB0A', 'B0076OXPN2', 'B0076OXUE6', 'B0076OYNE2', 'B0076P032W', 'B0076P0OU8', 'B0076P0RVO', 'B0076P0Y3U', 'B0076P0YSA', 'B0076P13DK', 'B0076TYTAK', 'B0076UJTTA', 'B0076UNZ68', 'B007708DEG', 'B0077AKBCS', 'B0077UJJEO', 'B0078P8DYU', 'B0078S6GUK', 'B00797T4WW', 'B00797XDSI', 'B007BT2AV0', 'B007CWGYL8', 'B007DBASL0', 'B007DS1O5C', 'B007F3COFO', 'B007FI1IOC', 'B007G08YQE', 'B007GCUPZA', 'B007GCUY92', 'B007GQXZFS', 'B007HKHXSS', 'B007HRTENS', 'B007HRW4YY', 'B007I53F7A', 'B007IEXJHM', 'B007IJCZHM', 'B007IWFCP6', 'B007J24VDY', 'B007JCBJT8', 'B007JWXW98', 'B007JXZ5JM', 'B007JY3BQ0', 'B007K0TZ5Y', 'B007K1NH16', 'B007KDI0T8', 'B007KDXUF2', 'B007KDXW8M', 'B007KDYCUE', 'B007KDYQUA', 'B007KDYVTG', 'B007KDYZ7Y', 'B007KDYZJ2', 'B007KDZ122', 'B007KDZIDO', 'B007M8RTKC', 'B007MU1N8E', 'B007MU1OAG', 'B007MYZ2GY', 'B007N18KHE', 'B007N5BTVO', 'B007NCIKLO', 'B007NYHMW0', 'B007O0LT0O', 'B007O46AYU', 'B007OAQGWU', 'B007OK64UE', 'B007OK679M', 'B007OK68YQ', 'B007OK6KMQ', 'B007OK6L2U', 'B007OK6PQ2', 'B007OK6RO2', 'B007OUSESE', 'B007P4WCI2', 'B007PBKAKM', 'B007Q01T70', 'B007RWOP0K', 'B007RWORVC', 'B007RWOU7I', 'B007RWOW3U', 'B007S3VNFI', 'B007S3Y35U', 'B007S5KI9I', 'B007S7E1YO', 'B007SRTCLG', 'B007SW70WO', 'B007T6HRSG', 'B007T6HSVC', 'B007T6HT6Q', 'B007T6HVNW', 'B007T6HXI0', 'B007T8G5MI', 'B007T8JUX4', 'B007T8L492', 'B007T8Z58I', 'B007TCQHRW', 'B007TOQORI', 'B007TWBDEO', 'B007U7RI38', 'B007U9GR9W', 'B007UT2912', 'B007UX6KKE', 'B007UX6LQW', 'B007V4V3QI', 'B007V5S2WK', 'B007V7AHS0', 'B007V9JGDU', 'B007VGFAKQ', 'B007VHHZ26', 'B007VXJ082', 'B007VXJ0E6', 'B007WU3A3A', 'B007Y0Z8UQ', 'B007Y0ZL26', 'B007Y0ZLKI', 'B007Z28954', 'B007ZDHC9C', 'B007ZRI8GO', 'B007ZT6UZS', 'B007ZT6X14', 'B007ZT6X1E', 'B007ZT6XH8', 'B007ZT6XIC', 'B00806150A', 'B0080HIRO6', 'B0080HKSF2', 'B0080QP7RM', 'B00817E7PI', 'B00817F70C', 'B0081E8OYQ', 'B0081E9GCU', 'B0081E9PBM', 'B0081E9U6C', 'B0081E9UN0', 'B0081E9ZOO', 'B0081EA692', 'B0081EAF8Y', 'B0081EAFWA', 'B0081EAIOK', 'B0081EAT6C', 'B0081LV4YQ', 'B0081LV7B6', 'B0082COXF6', 'B0082OGR76', 'B0082OGRIU', 'B0082OH1PS', 'B0082OH4SC', 'B0082OHDWY', 'B0082OHEIC', 'B0082OHJUA', 'B0082OHLP8', 'B0082OHM2K', 'B0082OHMHK', 'B0082OTMVO', 'B00834T36M', 'B00834V478', 'B00834WFCQ', 'B00838JUZ2', 'B00838JX9A', 'B0083GCKBU', 'B008492GG0', 'B0084GZLHE', 'B0084IX598', 'B0084IX6HE', 'B0084IX700', 'B0084IXPPM', 'B0084V3E8C', 'B0084V3HRK', 'B0084YY85C', 'B00858TWLC', 'B0085IE884', 'B0085Y31AE', 'B0085ZI31K', 'B0085ZIMFC', 'B0085ZIRCK', 'B0085ZIUPO', 'B0085ZIXXI', 'B00865HAEA', 'B0086A4QE2', 'B0086I5Y7W', 'B008783NRE', 'B0087G2XWW', 'B0087GVIK0', 'B0087P0P4G', 'B00880Y4UG', 'B0088A8GXC', 'B008915VUQ', 'B00899ANF6', 'B0089C4WUU', 'B0089LSADG', 'B0089LSGRG', 'B0089LSIME', 'B0089LSOM8', 'B0089LTHNI', 'B0089LTSIM', 'B0089LU32M', 'B0089LUMIW', 'B0089LUNAY', 'B0089LURPA', 'B0089LUU7K', 'B0089NX6KG', 'B0089YTLUY', 'B008A3KLVW', 'B008A9OUCW', 'B008A9PFQM', 'B008A9PIBO', 'B008A9PL3E', 'B008ADBBNY', 'B008ADBDU0', 'B008B0VTBA', 'B008B7VHNI', 'B008B7X272', 'B008B7X7W2', 'B008B7X9MA', 'B008B7ZTGY', 'B008B7ZVUS', 'B008B80EAY', 'B008B80EY0', 'B008B80F9E', 'B008BBG3OM', 'B008BBJSYE', 'B008BC53Z6', 'B008BCXFD8', 'B008BK7QOO', 'B008BKE23M', 'B008BKOIW2', 'B008COH8UQ', 'B008CPE88K', 'B008CX8RCA', 'B008D5KRHK', 'B008D7MMSU', 'B008D7PFIY', 'B008D7XBUS', 'B008D7XDM4', 'B008DJH9EA', 'B008DJIWM8', 'B008DJJ4SY', 'B008DJJWV8', 'B008DJK0J6', 'B008DJK1OA', 'B008DJKZSM', 'B008DJL09A', 'B008DJLBOE', 'B008DJLBOY', 'B008DJLFM2', 'B008DJLGF8', 'B008DJLI1A', 'B008DJLM3Y', 'B008DJLQ4O', 'B008DJLQHG', 'B008DJMDI2', 'B008DJMJUY', 'B008DJMLXY', 'B008DJN25U', 'B008DJN458', 'B008DJN4SA', 'B008DJN6HY', 'B008DJNHX2', 'B008DJOFKQ', 'B008DJOFVK', 'B008DJOI8K', 'B008DJOT0M', 'B008DJOUII', 'B008DJOVK0', 'B008DJP1IQ', 'B008DJPFHS', 'B008DJPIB6', 'B008DJQQC6', 'B008DJR3IC', 'B008DJR4AY', 'B008DJR7QA', 'B008DJRCXI', 'B008DJRDW8', 'B008DJRP26', 'B008DJRVHK', 'B008DJRZAS', 'B008DJS5B6', 'B008DJSB38', 'B008DJSF1Q', 'B008DJSJ4Y', 'B008DJSZYS', 'B008DJT2YU', 'B008DJT3T4', 'B008DJTIX0', 'B008DJTMYA', 'B008DJU6W2', 'B008DJU988', 'B008DJXUSE', 'B008DJZSBQ', 'B008DK1094', 'B008DK1MVK', 'B008DK2EEO', 'B008DK3WJU', 'B008DK478A', 'B008DK5HHK', 'B008DK5S4C', 'B008DK7CNM', 'B008ELGQJG', 'B008ETQTUE', 'B008F07LA4', 'B008F41H2S', 'B008F4SELU', 'B008F8027K', 'B008FQCN1K', 'B008FS9DZC', 'B008FSDMHM', 'B008FU9UGC', 'B008GVS3T0', 'B008GXN03C', 'B008HAQ9N2', 'B008HGBL8Y', 'B008HJIG4S', 'B008HJK4YI', 'B008HQ714C', 'B008IEXL88', 'B008IU147C', 'B008J0WDJ4', 'B008KBUIKS', 'B008KFD37E', 'B008KFDBLM', 'B008KFDF54', 'B008KFG9NE', 'B008KFGMC2', 'B008KFHJ8I', 'B008KFIVQM', 'B008KL22UC', 'B008KW8SPO', 'B008KWM9W2', 'B008L2MEOE', 'B008L3CRS6', 'B008L3EWZM', 'B008L90TMG', 'B008LTKLJM', 'B008LVKMGW', 'B008LYAOLM', 'B008LZXD5K', 'B008M2IP50', 'B008M2J02C', 'B008M2TGL2', 'B008M8IM3Y', 'B008MN5RBO', 'B008MNUXMM', 'B008MNXQYE', 'B008MNZFNY', 'B008MPZKAU', 'B008MU0A64', 'B008MU43U8', 'B008MWKQHA', 'B008N1BS72', 'B008N3RI1K', 'B008N3RI56', 'B008NNOGXS', 'B008O56H8M', 'B008O58TWO', 'B008O9CZC0', 'B008OB7OBU', 'B008OQS7U2', 'B008OWA79A', 'B008Q0EZDE', 'B008Q18VTC', 'B008Q25NRO', 'B008Q9BMI6', 'B008QWV0P8', 'B008R1T9LK', 'B008R517AM', 'B008R83PKE', 'B008RHYU36', 'B008RNG3L2', 'B008RTQGPE', 'B008S0PPDG', 'B008S4XXHC', 'B008S71F7Y', 'B008S77GM2', 'B008S7FOP8', 'B008TBOYWC', 'B008UUN28O', 'B008UUNKJ0', 'B008UUQ40W', 'B008VV40HY', 'B008VYWDJ8', 'B008WA13WY', 'B008WMFNG4', 'B008WY9E8U', 'B008XCK6SI', 'B008XKZMN4', 'B008XM69XY', 'B008XNFWPY', 'B008XOEJ48', 'B008XR5OIA', 'B008XTPHHQ', 'B008XXRF9U', 'B008Y27DR4', 'B008Y27GIA', 'B008Y27IFQ', 'B008Y27IRY', 'B008Y27PUY', 'B008Y27V9O', 'B008Y27XEW', 'B008Y27YAK', 'B008Y6AEFS', 'B008Y6AEWQ', 'B008Y6V40M', 'B008Y6V4G6', 'B008Y6V4QG', 'B008YAA2NS', 'B008YAUSYQ', 'B008YHTUBQ', 'B008YN1HKM', 'B008YWIC5Q', 'B008Z1XA5S', 'B008Z82SBS', 'B008ZUIVDK', 'B0090NSIAM', 'B00910TZGA', 'B00911C6HO', 'B00911CIEU', 'B00915W2P6', 'B0091PQ9IC', 'B00921M38A', 'B0093C0IWG', 'B0093DAEME', 'B0093NFXE8', 'B0093NG41Y', 'B0093NLU4K', 'B0093PYCQG', 'B0093Q21XQ', 'B0093Q38PG', 'B0093Q3GEE', 'B0093Q43PU', 'B0093Q45DU', 'B0093Q4DWI', 'B0093Q543K', 'B0093Q5ITU', 'B0093Q5QCE', 'B0093Q6W7M', 'B0093Q7D2A', 'B0093Q7MMG', 'B0093Q7R7G', 'B0093Q7RAS', 'B0093Q7Z3C', 'B0093Q8EGE', 'B0093Q8JV4', 'B0093Q8LNA', 'B0093Q9LSY', 'B0093QB4ZM', 'B0093QD5ZY', 'B0093QT0JY', 'B0093QTAL2', 'B0093QUY8U', 'B0093QVJ8O', 'B0093QW3P2', 'B0093QWFL4', 'B0093QXQ1W', 'B0093QXW8O', 'B0093QYFLC', 'B0093QYZ12', 'B0093QZ6OM', 'B0093R0N58', 'B0093R0RCW', 'B0093R24T6', 'B0093R2VGC', 'B0093R3US0', 'B0093R3VFM', 'B0093R4E0S', 'B0093R5TIY', 'B0093R68TI', 'B0093R6FJQ', 'B0093R6JR4', 'B0093R6PVO', 'B0093R7CHA', 'B0093R83P0', 'B0093R8RGA', 'B0093R9DN6', 'B0093RB820', 'B0093RBW8U', 'B0093RDUG2', 'B0093RDXZA', 'B0093RDZGC', 'B0093RFSZI', 'B0093RFZA6', 'B0093RI2P6', 'B0093RJMZK', 'B0093RMA40', 'B0093RNZS0', 'B0093RRSVK', 'B0093RSCHY', 'B0093RTYCG', 'B0093RW68U', 'B0093W0QAA', 'B0093WCJAK', 'B00942G1KS', 'B00945LHEK', 'B0094YLQNI', 'B009616SLY', 'B0096XMJTC', 'B0096YF4EI', 'B0098HMUZY', 'B0098MFCDG', 'B0098P6V42', 'B0099YJWOI', 'B009A6OTU2', 'B009AKAK6U', 'B009AQIM46', 'B009AXBORG', 'B009B2J81U', 'B009B6MS6S', 'B009BCOJXM', 'B009CEP14A', 'B009CEPCTO', 'B009CEPKVE', 'B009CES0K2', 'B009CETINA', 'B009CETUN8', 'B009CEVL8A', 'B009D792XW', 'B009DBPZWK', 'B009DBQ0ZG', 'B009DUK51C', 'B009E489E2', 'B009EGO4JO', 'B009EGO4YY', 'B009EJ3DS4', 'B009EJ3PDW', 'B009EJ3PWS', 'B009EJ5WXS', 'B009HAIEG6', 'B009HMOREM', 'B009I8H0RQ', 'B009IAACGA', 'B009IW5WI6', 'B009JBRDII', 'B009L5OXGM', 'B009LEA2OA', 'B009LNLURY', 'B009LTIY2W', 'B009MLOQHG', 'B009NGSIDS', 'B009NH0ROK', 'B009NHCYZA', 'B009O6YTSK', 'B009P2RHVY', 'B009PAPACE', 'B009PTZGXI', 'B009RPCDNG', 'B009RPEA3W', 'B009RPHH6Y', 'B009RRTPP8', 'B009RUP22U', 'B009SL5FSY', 'B009SLB70E', 'B009T1PJ3Y', 'B009T7389U', 'B009T7MWR4', 'B009TC98JE', 'B009TYTG1M', 'B009UE9ICS', 'B009V5KLY0', 'B009VH85BY', 'B009VSBYZW', 'B009VSCQ2W', 'B009VU6VOO', 'B009VY1BZY', 'B009W2FA52', 'B009X0QYOY', 'B009YA25PU', 'B009ZCFPEU', 'B009ZZDOU4', 'B00A0HGFAW', 'B00A0P3278', 'B00A0RK454', 'B00A14V61W', 'B00A16STLU', 'B00A2ZZ7W4', 'B00A2ZZGWA', 'B00A300LXI', 'B00A42XCMC', 'B00A4E49EK', 'B00A4FR5FE', 'B00A4WGXMI', 'B00A6UB9TA', 'B00A6VVGF6', 'B00A794XP2', 'B00A79820Y', 'B00A88PEQY', 'B00A8FVL50', 'B00A8FVQJG', 'B00A8O03IM', 'B00A8O07ME', 'B00A8O09I6', 'B00A8O0DPA', 'B00A8R51ZO', 'B00A9VEUA6', 'B00AAHG6MO', 'B00AAIH0FU', 'B00AAITI32', 'B00AAIWITS', 'B00AAK7CI8', 'B00AAKH61Q', 'B00AB1XH5S', 'B00ACEM7L4', 'B00ACLOT36', 'B00ACSL9W8', 'B00AD9OWIY', 'B00AF1AU2C', 'B00AF7PS00', 'B00AF7PX0A', 'B00AF7QCAK', 'B00AF7QJXA', 'B00AF7RI80', 'B00AF7RKBK', 'B00AF7RTZ2', 'B00AF7RY8E', 'B00AF7SLFE', 'B00AF7SMEY', 'B00AF7SVVS', 'B00AF7TZU4', 'B00AF7U9PY', 'B00AF7UFI0', 'B00AF7UFJE', 'B00AF7UQX4', 'B00AF7UW8I', 'B00AF7UWAQ', 'B00AF7UY5E', 'B00AF7V2BE', 'B00AF7V3Y0', 'B00AF7V7HI', 'B00AF7VCZK', 'B00AF7VEXA', 'B00AF7VIKE', 'B00AF7W2CC', 'B00AF7W48E', 'B00AF7W8ZS', 'B00AF7WOBG', 'B00AF7WT9I', 'B00AF7WZTW', 'B00AF7X5XW', 'B00AFH126E', 'B00AFH4LF8', 'B00AFSMFVY', 'B00AFSMIAW', 'B00AFSMJ6A', 'B00AFSMJPG', 'B00AFSMJQU', 'B00AFSMOBA', 'B00AFSMS0C', 'B00AFSMTIS', 'B00AFSMU3M', 'B00AFSMVB8', 'B00AFYJG5Q', 'B00AGKCMSW', 'B00AH5Z7BU', 'B00AH5Z7GK', 'B00AH5ZH10', 'B00AH5ZJFO', 'B00AH5ZLIE', 'B00AH5ZOLI', 'B00AH5ZXUU', 'B00AH6038Q', 'B00AH608KO', 'B00AH60HBO', 'B00AH60JRQ', 'B00AH60RAA', 'B00AJ0VXPC', 'B00AKEIURG', 'B00AKEKCMW', 'B00AKF0T4W', 'B00ALYZ30M', 'B00ALYZ6U4', 'B00ALYZDDE', 'B00ALYZIC0', 'B00AME9ON8', 'B00AMF7W5E', 'B00AMF84H4', 'B00AMF89AQ', 'B00AMF8GL8', 'B00AMF8ICU', 'B00AMF8JAQ', 'B00AMF8Q22', 'B00AMF8STS', 'B00AMF8TPQ', 'B00AMF90SG', 'B00AMK2OZ2', 'B00AN65HSG', 'B00ANSZY96', 'B00ANTXJ1U', 'B00AO3UA12', 'B00AO666P8', 'B00AOB8SN6', 'B00AOBIZ9S', 'B00AOEQ1RS', 'B00AOG61FI', 'B00AOG641O', 'B00AOG64MI', 'B00AOG650O', 'B00AOG66US', 'B00AOG6AGI', 'B00AOG6B30', 'B00AOG6B9E', 'B00AOG6DPQ', 'B00AOG6FO0', 'B00AOG6HK2', 'B00AOG6KC2', 'B00AQ0LXPU', 'B00ARBDM70', 'B00ARKTF4A', 'B00ARMPL6Y', 'B00AT0R734', 'B00ATIGJNK', 'B00ATR2CDC', 'B00AU7XMEY', 'B00AUB5C9S', 'B00AUB5CQG', 'B00AUB5OYQ', 'B00AUDA5HA', 'B00AUDA7DM', 'B00AUDA9AS', 'B00AUDA9NA', 'B00AUDA9Q2', 'B00AUDAH1O', 'B00AUDAIHM', 'B00AVDLV90', 'B00AVYYBDM', 'B00AYBKBUY', 'B00AYBKBZY', 'B00AYBKKGY', 'B00AYBKU4Q', 'B00AYBL0MW', 'B00AYBL3II', 'B00AYBL6E4', 'B00AYBLB0S', 'B00AYBLIME', 'B00AYBLIOW', 'B00AYBLIR4', 'B00AYBLK1S', 'B00AYBLK2W', 'B00AYBLLQ2', 'B00AZ85P4I', 'B00AZF2X00', 'B00B14LCO2', 'B00B1WA8IU', 'B00B1WJ6JW', 'B00B2A1A38', 'B00B2OBP66', 'B00B2QG5KK', 'B00B2WH3G4', 'B00B39M2KI', 'B00B3I5PKI', 'B00B3JMNDE', 'B00B42LLAG', 'B00B4YJ91M', 'B00B53SNU0', 'B00B62LWYE', 'B00B6W72YI', 'B00B6WOS9K', 'B00B6WSX9G', 'B00B6XM530', 'B00B70MNMA', 'B00B70N15S', 'B00B70NP1S', 'B00B717G4Y', 'B00B717W20', 'B00B7L2OS2', 'B00B84DGJ4', 'B00B8AA7WC', 'B00B8ADLUC', 'B00B8AFZ3S', 'B00B8BSBXS', 'B00B8CWMZA', 'B00B999624', 'B00B9DZJDU', 'B00B9DZKDE', 'B00B9DZLF6', 'B00B9O3QEI', 'B00BA1DV5O', 'B00BBF3Z1Y', 'B00BBOY7R6', 'B00BBXTZ24', 'B00BCMTHIG', 'B00BCNHS5E', 'B00BCS6V6G', 'B00BF5TPJG', 'B00BGU9OT6', 'B00BGU9XCY', 'B00BGV3EBO', 'B00BHGXYUE', 'B00BHOOTB4', 'B00BHP9X0U', 'B00BJHBDFY', 'B00BJPE4BG', 'B00BK0N1CS', 'B00BLAXN52', 'B00BLDHH92', 'B00BLDHLN4', 'B00BLTLPGC', 'B00BLTLZD0', 'B00BLTM426', 'B00BM43B18', 'B00BMJS7TY', 'B00BMZ4IXW', 'B00BMZSXHO', 'B00BNJPZ2U', 'B00BOCM60U', 'B00BOUI9LM', 'B00BPWPZNE', 'B00BPWQ2EA', 'B00BQ0ABAC', 'B00BQGUB74', 'B00BQH5M0Y', 'B00BR083JW', 'B00BT0E920', 'B00BT0WP26', 'B00BWZR0IC', 'B00BXH14G8', 'B00BXS3YDI', 'B00BZURJ6M', 'B00C04XAIS', 'B00C2N3Z9G', 'B00C3GZ01I', 'B00C59R5ZM', 'B00C5HY13I', 'B00C6GRXCY', 'B00C6ND2Y0', 'B00C7NVUQ6', 'B00C7PUTHU', 'B00C7TGFH4', 'B00C8EQX34', 'B00C8FIAI4', 'B00C8WRA24', 'B00C9OJTC0', 'B00C9YRSCS', 'B00CA9TVGS', 'B00CA9UXNI', 'B00CABRTFQ', 'B00CBFD02C', 'B00CBJ9R70', 'B00CC2SQ0A', 'B00CCKBO8S', 'B00CD3ICXY', 'B00CD4QX7U', 'B00CD4SN00', 'B00CDA9EXY', 'B00CDQ28JU', 'B00CE3OBT2', 'B00CELPCOC', 'B00CF7M0V8', 'B00CFC9XE0', 'B00CFKGGKQ', 'B00CFQKFHK', 'B00CG541VQ', 'B00CGW1A5O', 'B00CGW2XVE', 'B00CGW78H8', 'B00CGW7H5Q', 'B00CGW7MLU', 'B00CGW856Q', 'B00CGW85YI', 'B00CGW8H2I', 'B00CGW9G2S', 'B00CGW9MD6', 'B00CGWA93I', 'B00CGWABEK', 'B00CGWAOVU', 'B00CGWDX04', 'B00CGWDZKW', 'B00CGWEK3I', 'B00CH9O2XI', 'B00CHKKKZQ', 'B00CI89XB4', 'B00CI8EIO6', 'B00CJASI44', 'B00CJNFTF2', 'B00CM6IY1W', 'B00CMI0KOE', 'B00COPIM4U', 'B00COPQQCK', 'B00CP8T5O2', 'B00CPKXJ56', 'B00CPMKE52', 'B00CPOZLAS', 'B00CPOZQH6', 'B00CR38XCU', 'B00CR76IS2', 'B00CR90DHC', 'B00CS0XLMO', 'B00CS0XO2Q', 'B00CS5VYB4', 'B00CSC66GA', 'B00CU9PTQY', 'B00CUFQDUE', 'B00CUM0REA', 'B00CVPHB0E', 'B00CW95LO2', 'B00CWIDZ3W', 'B00CWIECVQ', 'B00CWIEMIO', 'B00CWM6GVG', 'B00CWQAEP6', 'B00CWRVMMO', 'B00CWSZTPY', 'B00CWX0IF0', 'B00CX6NYHA', 'B00CX984RC', 'B00CX98G98', 'B00CX9BHU8', 'B00CX9BJJM', 'B00CXCUPBW', 'B00CXNGELQ', 'B00CXNKWH8', 'B00CXY57UO', 'B00CY30Z1K', 'B00CYSL06E', 'B00CZCCYZK', 'B00D02B8W4', 'B00D0BI3FK', 'B00D1G99IY', 'B00D4NVEQ4', 'B00D5YV3AO', 'B00D8XCPU4', 'B00D9978YK', 'B00D9BVQLE', 'B00D9DT2J0', 'B00D9ELMLU', 'B00D9OAWCA', 'B00DAGTHKU', 'B00DBF70MM', 'B00DBGBHO8', 'B00DD2VD3K', 'B00DD5WXXQ', 'B00DDHJ3AK', 'B00DDLQFNO', 'B00DE0K5YO', 'B00DE6LIZS', 'B00DEAL854', 'B00DEQA1GU', 'B00DF0IX1A', 'B00DGYC4J2', 'B00DH0KJ6K', 'B00DH6L43Q', 'B00DJ4HOXA', 'B00DJKT18A', 'B00DJPKZEO', 'B00DLVIYRG', 'B00DM8J5JY', 'B00DM8J6RU', 'B00DM8JJWW', 'B00DM8JLAW', 'B00DM8JRD8', 'B00DM8JXLO', 'B00DM8K4G2', 'B00DM8KEN0', 'B00DM8KL42', 'B00DM8KQ2O', 'B00DM8L182', 'B00DM8L4K2', 'B00DM8L5EW', 'B00DM8L6A0', 'B00DM8L7CC', 'B00DM8LM90', 'B00DM8LOWU', 'B00DM8LRF4', 'B00DM8LT52', 'B00DM8LZEW', 'B00DM8M2XA', 'B00DM8M546', 'B00DM8M9RO', 'B00DM8MAMI', 'B00DM8MCT4', 'B00DNCLLB4', 'B00DNGQXCW', 'B00DNGR01A', 'B00DNGS488', 'B00DNGTQJE', 'B00DNGV6NS', 'B00DNGVJ4O', 'B00DNGWWW2', 'B00DOHHZHM', 'B00DPJWX5I', 'B00DQMGHCE', 'B00DQVDQ60', 'B00DQVE1DW', 'B00DQVE4ZW', 'B00DQVHRCO', 'B00DQXXG86', 'B00DR8L8XU', 'B00DRI8GGW', 'B00DRIDPPO', 'B00DRIEL7A', 'B00DRIEMBA', 'B00DRIEQS4', 'B00DRIGH1I', 'B00DRIHYGU', 'B00DTGF2KU', 'B00DU5OINM', 'B00DUGIO36', 'B00DUIK9XW', 'B00DUW2VT8', 'B00DUW2ZHQ', 'B00DUW368S', 'B00DUW39TE', 'B00DUW3M0K', 'B00DUW3NAO', 'B00DUW7VK2', 'B00DUW7X7I', 'B00DUW81UQ', 'B00DUX59JQ', 'B00DUX5L76', 'B00DUX5N6A', 'B00DUXMK2U', 'B00DUXNW22', 'B00DV1D2BO', 'B00DV1DFUM', 'B00DV1DQSI', 'B00DV1EHQ8', 'B00DV1ES26', 'B00DV27ODU', 'B00DV27S5Y', 'B00DV27ZCA', 'B00DV2ESP2', 'B00DV5K46G', 'B00DV5KTM0', 'B00DVMWXQ8', 'B00DVNVS9U', 'B00DVNVT8K', 'B00DVPR5UO', 'B00DVPRJX2', 'B00DVWPO64', 'B00DW890EO', 'B00DW89YMC', 'B00DWFXEZI', 'B00DWFXYD0', 'B00DWFY8IU', 'B00DWFZA6Y', 'B00DWFZAXW', 'B00DWID6EY', 'B00DWYF0DS', 'B00DYE8WM2', 'B00DZEYXFG', 'B00DZFE7MO', 'B00DZFJ6ZW', 'B00DZFLVHS', 'B00DZU7LGS', 'B00DZU7LKO', 'B00DZU7O8S', 'B00DZU8RNY', 'B00DZU8UEK', 'B00DZU8ZZO', 'B00DZU901C', 'B00DZU9AKI', 'B00DZUA7UK', 'B00DZUAAG6', 'B00DZUAJDA', 'B00DZUAZTS', 'B00DZUBK7O', 'B00DZUBKM4', 'B00E05BHZ8', 'B00E0CVMDI', 'B00E0CW4OE', 'B00E0CWRO6', 'B00E0CWU02', 'B00E0FXT3G', 'B00E1TOP84', 'B00E37TR6E', 'B00E3L9D1E', 'B00E3MTMLE', 'B00E3UQNFY', 'B00E42YN62', 'B00E48YMDU', 'B00E48Z3T2', 'B00E4KLJDO', 'B00E4O0GQQ', 'B00E4O0GVG', 'B00E4O0HVA', 'B00E4O0SHI', 'B00E4O0TFO', 'B00E4O0UZI', 'B00E4O0ZM6', 'B00E5Y5OSU', 'B00E5Y5QNI', 'B00E62ZG98', 'B00E62ZN46', 'B00E634ECC', 'B00E64WE0K', 'B00E6KXD04', 'B00E6R3O6A', 'B00E80IF3M', 'B00E82P5OC', 'B00E9R3ZWA', 'B00EA30T9K', 'B00EAMCW6Y', 'B00EAMCW9G', 'B00EAMD8XU', 'B00EAMDKZQ', 'B00EAMDNVC', 'B00EAMDNZI', 'B00EAQQCL6', 'B00EAVAN7A', 'B00ECTS0KW', 'B00ECV2C7C', 'B00ECV2D76', 'B00ECV2PWE', 'B00ECV2UZQ', 'B00ECV2XW6', 'B00ECV3RIA', 'B00ECV42DE', 'B00ECV4DJW', 'B00ECV4ZXQ', 'B00ECV51DY', 'B00ECV53D2', 'B00ECV5J4A', 'B00ECV5MQA', 'B00ECV62LY', 'B00ECV649Y', 'B00ECV64NK', 'B00ECV67Y6', 'B00ECV67YQ', 'B00ECV69CG', 'B00ECV6EEE', 'B00ECV6EEO', 'B00ECV6IHW', 'B00ECV6JGC', 'B00ECX02JU', 'B00ECX02MW', 'B00ECX0C1I', 'B00ECX0E2K', 'B00ED9HL3S', 'B00EE86S96', 'B00EE89JLU', 'B00EE89KU0', 'B00EEH2IXW', 'B00EEQ2KY0', 'B00EH2K3V8', 'B00EH89980', 'B00EIR40SY', 'B00EIRWOQE', 'B00EJ87BHE', 'B00EJINSYO', 'B00EKJRZ8C', 'B00EKZHMCU', 'B00ELI9YXQ', 'B00ELIB498', 'B00ELIBAGK', 'B00ELIHPVY', 'B00ELIMFWS', 'B00ELIWHH6', 'B00ELOXUPI', 'B00ELQ8308', 'B00ELXH92O', 'B00EM2JM38', 'B00EM5YR3K', 'B00EMIG9CE', 'B00EMIHX92', 'B00EMINMMY', 'B00EMJNYNK', 'B00EMJONUS', 'B00EMJPQFE', 'B00EMJY14Q', 'B00EMJYUB0', 'B00EMK03UQ', 'B00EMK0V5S', 'B00EMK145O', 'B00EMK1YUY', 'B00EMK2BF6', 'B00EMK2OWG', 'B00EMZ4A5A', 'B00EMZ6666', 'B00EN8HHCO', 'B00EN8JB78', 'B00EN8MH5Q', 'B00EN8PGBS', 'B00EN8PJN8', 'B00EN8QHSY', 'B00EN8RFNK', 'B00EN9TPB4', 'B00ENL28WU', 'B00ENL3BYE', 'B00ENL480A', 'B00ENXD65Q', 'B00ENXDX3G', 'B00EO5S8WO', 'B00EO7VZS6', 'B00EO81WWE', 'B00EO843UW', 'B00EOVES86', 'B00EOVEWW8', 'B00EOVISI2', 'B00EP070J0', 'B00EPDJF8Q', 'B00EQ7IJE2', 'B00EQ7KL34', 'B00EQG2OQ2', 'B00EQRFCSS', 'B00ESZT2OS', 'B00ET9GDBS', 'B00ET9GDTU', 'B00EUC55Y0', 'B00EUK4THQ', 'B00EUZPIS0', 'B00EV9MZKO', 'B00EV9SUJE', 'B00EV9TQYC', 'B00EXMBLO0', 'B00EXMBNNO', 'B00EXPC9VQ', 'B00EXPC9ZW', 'B00EXPCAJM', 'B00EXQ2ZHI', 'B00EXQ3GA8', 'B00EXQ4TRM', 'B00EXQ4WAG', 'B00EXQ50F2', 'B00EXQGSHQ', 'B00EXQH4LU', 'B00EXQH59G', 'B00EXQHI70', 'B00EXQHYTW', 'B00EXQKBG0', 'B00EYJ9NGU', 'B00EZ2BB6G', 'B00EZ2C4T4', 'B00EZ2CPWK', 'B00EZ2EUN2', 'B00EZAC784', 'B00EZAC9YQ', 'B00EZAD4IG', 'B00EZHODY8', 'B00EZJ2QAO', 'B00EZQYREA', 'B00F0OT5UW', 'B00F1H4BKM', 'B00F3E19PI', 'B00F3HF6LS', 'B00F3UOUUI', 'B00F3WBRCK', 'B00F43154S', 'B00F4FEVME', 'B00F4JW6Q8', 'B00F4NR43Y', 'B00F4OU3IG', 'B00F4YEYKO', 'B00F538V80', 'B00F55V4YG', 'B00F5CQ2FK', 'B00F5X7ICA', 'B00F660POO', 'B00F6612J6', 'B00F8LEQWY', 'B00F9ANUYO', 'B00F9T4RY2', 'B00FA3BGDM', 'B00FA3NHPC', 'B00FAI9T6I', 'B00FARB6CY', 'B00FAWLBUG', 'B00FAZYHYU', 'B00FB1KEEK', 'B00FB1WJUW', 'B00FB3149C', 'B00FB7K2K0', 'B00FBC2OJW', 'B00FBJMG1Q', 'B00FCXOI2G', 'B00FDUO1IY', 'B00FEHPSSI', 'B00FER7GN8', 'B00FF3A5JS', 'B00FF3A8Y0', 'B00FF3A8YK', 'B00FGJ0QVS', 'B00FGUI7JK', 'B00FGVQ8JU', 'B00FGVSAN2', 'B00FGWU8WM', 'B00FGWUA34', 'B00FGWUF0C', 'B00FH1OYOK', 'B00FH1PS8G', 'B00FH43VF0', 'B00FH43W1I', 'B00FH46B6G', 'B00FH46LAW', 'B00FH4A8P6', 'B00FH4AINS', 'B00FH4CF6Q', 'B00FI6TE8A', 'B00FI6TO2G', 'B00FICQIIS', 'B00FIE4VLM', 'B00FIHTEX4', 'B00FIV17DA', 'B00FIY4JMI', 'B00FIYB7CS', 'B00FIYEJZU', 'B00FIYI7LC', 'B00FIYOJLE', 'B00FIYPVL6', 'B00FIYQDBS', 'B00FJGERU4', 'B00FJIHD8U', 'B00FKID7UC', 'B00FMSHSFK', 'B00FN621L2', 'B00FN898HU', 'B00FNAWG6I', 'B00FPJ38F0', 'B00FQ9G2PC', 'B00FQJ522G', 'B00FQPU85G', 'B00FRGMYNS', 'B00FRK90A4', 'B00FROP41O', 'B00FROWY12', 'B00FUCAK7G', 'B00FVJFUVO', 'B00FVYF050', 'B00FX5WO9M', 'B00FX73ZCA', 'B00FX7U1OK', 'B00FXT61EM', 'B00FXY77TU', 'B00FXY9SUQ', 'B00FXYB2K0', 'B00FXYDCBW', 'B00FXYE65S', 'B00FXYE6PI', 'B00FYV9RXQ', 'B00FYWBSSM', 'B00FYWDYES', 'B00FYWG166', 'B00FYWIR0O', 'B00FYWK0N6', 'B00FYWLF1C', 'B00FZST4S6', 'B00G1BL49S', 'B00G23MKES', 'B00G3EYRJC', 'B00G3OYGXY', 'B00G4C38GQ', 'B00G5LFHZ6', 'B00G5TLCGG', 'B00G5TPO7E', 'B00G5TV8BA', 'B00G5TW008', 'B00G6RDV20', 'B00G77WE6S', 'B00G8SOKRC', 'B00G99KQBY', 'B00G9AZWOE', 'B00G9DISCO', 'B00GA95492', 'B00GAC1A4M', 'B00GB9KWRK', 'B00GDI05H6', 'B00GEAXU7A', 'B00GECX2VW', 'B00GGIPNNE', 'B00GGK0VOS', 'B00GGK7C0Y', 'B00GHNAMRK', 'B00GHNAONC', 'B00GHSFNQU', 'B00GICLLZM', 'B00GIXO0BI', 'B00GIZBB68', 'B00GJ2D1N6', 'B00GLQDIUG', 'B00GM72HGU', 'B00GMIZ82O', 'B00GMP36YE', 'B00GMQ2FP4', 'B00GNNQ8P4', 'B00GNS0I7S', 'B00GNUETWQ', 'B00GOFH4YK', 'B00GOFUISY', 'B00GOIWAO6', 'B00GP9EHL8', 'B00GPBBYEY', 'B00GPVQW1O', 'B00GQ04MAC', 'B00GQ12AC8', 'B00GRY0JTU', 'B00GS2BOJA', 'B00GS2E212', 'B00GS2GNHI', 'B00GS31B8S', 'B00GS3H1GO', 'B00GS3U36O', 'B00GS3YE7S', 'B00GS48IOC', 'B00GS4JYYA', 'B00GSES3ZG', 'B00GSOSSG0', 'B00GSUN6HA', 'B00GT5WEFY', 'B00GT8GY0W', 'B00GTA40QK', 'B00GTID838', 'B00GTV8F2E', 'B00GVJ6WDS', 'B00GVKN1XG', 'B00GVLOSVO', 'B00GW7OOVG', 'B00GW8O3DY', 'B00GWH2RIS', 'B00GWYNCGW', 'B00GXCQLYI', 'B00GXCR46C', 'B00GXYBB3W', 'B00GYB63NC', 'B00GYRVJL2', 'B00GZOI1OC', 'B00GZQB21E', 'B00GZRKAQG', 'B00H1S7GTC', 'B00H30WEW2', 'B00H330RRS', 'B00H3UREOK', 'B00H4PM35O', 'B00H577AGS', 'B00H578PI0', 'B00H7K47Y6', 'B00HALY4LS', 'B00HCS537S', 'B00HFVA2MI', 'B00HHCAACW', 'B00HHKP5EC', 'B00HI0JVI2', 'B00HJIXIQE', 'B00HLFMW8U', 'B00HMXQ0T8', 'B00HNQ7XCC', 'B00HNQBOJU', 'B00HNQBWK6', 'B00HNQCNAY', 'B00HNQDHXG', 'B00HNT0GZU', 'B00HO6JQXK', 'B00HOK51BW', 'B00HP39ZHO', 'B00HQF1R86', 'B00HQF1RA4', 'B00HRIBV2E', 'B00HT39JM6', 'B00HT39JXU', 'B00HT39LEM', 'B00HT39NX6', 'B00HT39RF0', 'B00HTMDSRO', 'B00HV0M39S', 'B00HV0ME7O', 'B00HV0NIDI', 'B00HV0QB00', 'B00HW2W840', 'B00HWRNGP0', 'B00HWS47NO', 'B00HWS6318', 'B00HWS6X4K', 'B00HWS9ARW', 'B00HX3ZJKS', 'B00HXB7J6M', 'B00HY3619A', 'B00HYHDIJ2', 'B00HYHJLZC', 'B00I0WON6C', 'B00I2G2LDS', 'B00I2PBAOU', 'B00I2UNO2Q', 'B00I3IF7IG', 'B00I3X730Q', 'B00I5SC5KW', 'B00I9NCQEI', 'B00I9XFOPG', 'B00IAUAYT4', 'B00IAXH47Q', 'B00IB7AXAQ', 'B00ICFQF0E', 'B00IFAG5N8', 'B00IFGM3ME', 'B00IGBTZDI', 'B00IGFPMEA', 'B00II9UEFG', 'B00IJ18WEI', 'B00IJ1SAEA', 'B00IJKXHOE', 'B00IK2EYTS', 'B00IKREBYQ', 'B00IMFZMIA', 'B00IMHFW9M', 'B00IMO1Z6Y', 'B00IMOB0DM', 'B00IN825NG', 'B00INZYB5Y', 'B00IO33PXO', 'B00IPPTLHA', 'B00IQIEBOE', 'B00IR2M5FQ', 'B00IR6LER2', 'B00IRH73H6', 'B00ISB3Q9U', 'B00IT03XY8', 'B00ITW6FYG', 'B00IU2GWS4', 'B00IU2H75Q', 'B00IUNKGXK', 'B00IVO8EH8', 'B00IZ3JCQM', 'B00IZGNVG6', 'B00IZH3Q88', 'B00J0KSA9E', 'B00J21XANM', 'B00J21XK9Q', 'B00J2DYJBC', 'B00J399RDA', 'B00J4TLY1M', 'B00J5CA1T4', 'B00J7ANVNW', 'B00J8HGRNK', 'B00J8U0328', 'B00J9RHTFE', 'B00JAN3WCG', 'B00JBINJ4G', 'B00JBIO1ES', 'B00JCVQK20', 'B00JF4SMOS', 'B00JFCLIVY', 'B00JFHKAUE', 'B00JGTUQJ6', 'B00JGUFPLO', 'B00JGUIPHA', 'B00JHPCIRW', 'B00JI5JJOG', 'B00JKDWUZ6', 'B00JKNDLBI', 'B00JKU385K', 'B00JN2Z7DQ', 'B00JNAV7UU', 'B00JQ1EVHM', 'B00JUDZ1MK', 'B00JVRUUUI', 'B00JXPICQW', 'B00K1JOZBK', 'B00K24OYZG', 'B00K4SGCUU', 'B00K5UJRDG', 'B00K6B12RS', 'B00K7VUICM', 'B00KAFSHKU', 'B00KAQ83HG', 'B00KBA4DES', 'B00KC847OA', 'B00KCRS3AK', 'B00KEACXWY', 'B00KGHWR44', 'B00KI3ZHYS', 'B00KLHOMHO', 'B00KLKLVZW', 'B00KM5CDX0', 'B00KPVK1XK', 'B00KRP7XMG', 'B00KRWQ6RW', 'B00KXKFGU6', 'B00KXTDPSW', 'B00LDTVCSQ', 'B00LLMKPVK'], 'type': 'nominal', 'name': 'asin_index'}}]\n",
      "+--------------------+----------------+---------------+----------+\n",
      "|        model_vector|   model_version|model_timestamp|      asin|\n",
      "+--------------------+----------------+---------------+----------+\n",
      "|[0.21924263, 0.28...|ALS_48482ac4832a|     1686716885|B000AST3AK|\n",
      "|[0.25532573, 0.10...|ALS_48482ac4832a|     1686716885|B003N1ZSYG|\n",
      "|[0.16128449, 0.15...|ALS_48482ac4832a|     1686716885|B000NCTOUM|\n",
      "|[0.17999192, 0.31...|ALS_48482ac4832a|     1686716885|B0029CZQIS|\n",
      "|[0.30785376, 0.08...|ALS_48482ac4832a|     1686716885|B004JV8ZUS|\n",
      "+--------------------+----------------+---------------+----------+\n",
      "only showing top 5 rows\n",
      "\n"
     ]
    },
    {
     "name": "stderr",
     "output_type": "stream",
     "text": [
      "23/06/14 12:28:05 WARN DAGScheduler: Broadcasting large task binary with size 5.4 MiB\n"
     ]
    }
   ],
   "source": [
    "\n",
    "\n",
    "asin_index_meta = [\n",
    "    f.metadata for f in trans.schema.fields if f.name == \"asin_index\"]\n",
    "\n",
    "print(asin_index_meta)\n",
    "asin_index_labels = asin_index_meta[0][\"ml_attr\"][\"vals\"]\n",
    "\n",
    "\n",
    "reviewerId_converter = IndexToString(inputCol=\"asin_index\", outputCol=\"asin\",   labels=asin_index_labels)\n",
    "PredictedLabels = reviewerId_converter.transform(product_vector)\n",
    "\n",
    "# remove the asin_index column and show remaining columns\n",
    "PredictedLabels = PredictedLabels.drop(\"asin_index\")\n",
    "PredictedLabels.show(5)\n",
    "\n",
    "\n",
    "\n",
    "\n",
    "# asin_index_meta is to get the metadata of asin_index column\n",
    "# metadata because we need to get the labels of the asin_index column\n",
    "# ml_attr represents the metadata of the column\n",
    "# vals represents the labels of the column, labels are the values of the column\n",
    "\n",
    "\n"
   ]
  },
  {
   "cell_type": "code",
   "execution_count": 29,
   "id": "0e0fdaec",
   "metadata": {},
   "outputs": [
    {
     "name": "stderr",
     "output_type": "stream",
     "text": [
      "23/06/14 12:28:05 WARN DAGScheduler: Broadcasting large task binary with size 5.3 MiB\n"
     ]
    },
    {
     "name": "stdout",
     "output_type": "stream",
     "text": [
      "predicted labels count: 11402\n"
     ]
    }
   ],
   "source": [
    "predictedlabels = PredictedLabels.count()\n",
    "print(f\"predicted labels count: {predictedlabels}\")"
   ]
  },
  {
   "cell_type": "code",
   "execution_count": 30,
   "id": "3b5a869e",
   "metadata": {},
   "outputs": [
    {
     "name": "stderr",
     "output_type": "stream",
     "text": [
      "23/06/14 12:28:06 WARN DAGScheduler: Broadcasting large task binary with size 5.4 MiB\n",
      "/var/folders/3v/prng965x6vg3z8l8gf2j4pmw0000gn/T/ipykernel_1702/2702437792.py:13: DeprecationWarning: The 'body' parameter is deprecated and will be removed in a future version. Instead use individual parameters.\n",
      "  res = es.update(index=\"products\", id=id, body={'doc': doc})\n"
     ]
    }
   ],
   "source": [
    "\n",
    "\n",
    "# Convert DataFrame to Pandas DataFrame\n",
    "pandas_df = PredictedLabels.toPandas()\n",
    "\n",
    "# change model_vector column dimension from 10 to 25 adding 0s\n",
    "# pandas_df['model_vector'] = pandas_df['model_vector'].apply(lambda x: np.append(x, np.zeros(15)))\n",
    "\n",
    "# Bulk index the Pandas DataFrame to Elasticsearch\n",
    "documents = pandas_df.to_dict(orient='records')\n",
    "\n",
    "for doc in documents:\n",
    "    id = doc['asin']\n",
    "    _ = es.get(index=\"products\", id=id)\n",
    "    res = es.update(index=\"products\", id=id, body={'doc': doc})\n",
    "\n",
    "\n"
   ]
  },
  {
   "cell_type": "code",
   "execution_count": 31,
   "id": "7698adc4",
   "metadata": {},
   "outputs": [
    {
     "name": "stdout",
     "output_type": "stream",
     "text": [
      "+--------------------+----------------+---------------+----------+\n",
      "|        model_vector|   model_version|model_timestamp|      asin|\n",
      "+--------------------+----------------+---------------+----------+\n",
      "|[0.21924263, 0.28...|ALS_48482ac4832a|     1686716991|B000AST3AK|\n",
      "|[0.25532573, 0.10...|ALS_48482ac4832a|     1686716991|B003N1ZSYG|\n",
      "|[0.16128449, 0.15...|ALS_48482ac4832a|     1686716991|B000NCTOUM|\n",
      "|[0.17999192, 0.31...|ALS_48482ac4832a|     1686716991|B0029CZQIS|\n",
      "|[0.30785376, 0.08...|ALS_48482ac4832a|     1686716991|B004JV8ZUS|\n",
      "+--------------------+----------------+---------------+----------+\n",
      "only showing top 5 rows\n",
      "\n"
     ]
    },
    {
     "name": "stderr",
     "output_type": "stream",
     "text": [
      "23/06/14 12:29:51 WARN DAGScheduler: Broadcasting large task binary with size 5.4 MiB\n"
     ]
    }
   ],
   "source": [
    "PredictedLabels.show(5)"
   ]
  },
  {
   "cell_type": "code",
   "execution_count": 32,
   "id": "5a627f4b",
   "metadata": {},
   "outputs": [],
   "source": [
    "from IPython.display import Image, HTML, display\n",
    "def vector_query(query_vec, category,vector_field, cosine=False):\n",
    "    \"\"\"\n",
    "    Construct an Elasticsearch script score query using `dense_vector` fields\n",
    "    \n",
    "    The script score query takes as parameters the query vector (as a Python list)\n",
    "    \n",
    "    Parameters\n",
    "    ----------\n",
    "    query_vec : list\n",
    "        The query vector\n",
    "    vector_field : str\n",
    "        The field name in the document against which to score `query_vec`\n",
    "    q : str, optional\n",
    "        Query string for the search query (default: '*' to search across all documents)\n",
    "    cosine : bool, optional\n",
    "        Whether to compute cosine similarity. If `False` then the dot product is computed (default: False)\n",
    "     \n",
    "    Note: Elasticsearch cannot rank negative scores. Therefore, in the case of the dot product, a sigmoid transform\n",
    "    is applied. In the case of cosine similarity, 1.0 is added to the score. In both cases, documents with no \n",
    "    factor vectors are ignored by applying a 0.0 score.\n",
    "    \n",
    "    The query vector passed in will be the user factor vector (if generating recommended items for a user)\n",
    "    or product factor vector (if generating similar items for a given item)\n",
    "    \"\"\"\n",
    "    \n",
    "    if cosine:\n",
    "        score_fn = \"doc['{v}'].size() == 0 ? 0 : cosineSimilarity(params.vector, '{v}') + 1.0\"\n",
    "    else:\n",
    "        score_fn = \"doc['{v}'].size() == 0 ? 0 : sigmoid(1, Math.E, -dotProduct(params.vector, '{v}'))\"\n",
    "       \n",
    "    score_fn = score_fn.format(v=vector_field, fn=score_fn)\n",
    "    \n",
    "    return {\n",
    "    \"query\": {\n",
    "        \"script_score\": {\n",
    "            \"query\" : { \n",
    "                \"bool\" : {\n",
    "                      \"filter\" : {\n",
    "                            \"term\" : {\n",
    "                              \"main_category\" : category\n",
    "                            }\n",
    "                        }\n",
    "                }\n",
    "            },\n",
    "            \"script\": {\n",
    "                \"source\": score_fn,\n",
    "                \"params\": {\n",
    "                    \"vector\": query_vec\n",
    "                }\n",
    "            }\n",
    "        }\n",
    "    }\n",
    "}\n",
    "\n",
    "\n",
    "def get_similar(the_id, num=10, index=\"products\", vector_field='model_vector'):\n",
    "    \"\"\"\n",
    "    Given a item id, execute the recommendation script score query to find similar items,\n",
    "    ranked by cosine similarity. We return the `num` most similar, excluding the item itself.\n",
    "    \"\"\"\n",
    "    response = es.get(index=index, id=the_id)\n",
    "    src = response['_source']\n",
    "    if vector_field in src:\n",
    "        query_vec = src[vector_field]\n",
    "        category = src['main_category']\n",
    "        q = vector_query(query_vec, category,vector_field, cosine=True)\n",
    "#         print(q)\n",
    "        results = es.search(index=index, body=q)\n",
    "        hits = results['hits']['hits']\n",
    "        return src,hits[1:num+1]\n",
    "\n",
    "def display_similar(the_id, num=10, es_index=\"products\"):\n",
    "    \"\"\"\n",
    "    Display query product, together with similar product and similarity scores, in a table\n",
    "    \"\"\"\n",
    "    product, recs = get_similar(the_id, num, es_index)\n",
    "       \n",
    "    display(HTML(\"<h2>Get similar products for:</h2>\"))\n",
    "    display(HTML(\"<h4>%s (ASIN - %s)</h4>\" % (product['title'], product['asin'])))\n",
    "    display(HTML(\"<br>\"))\n",
    "    display(HTML(\"<h2>People who liked this product also liked these:</h2>\"))\n",
    "    sim_html = \"<table border=0>\"\n",
    "    i = 0\n",
    "    pd_data = []\n",
    "    for rec in recs:\n",
    "        r_id = rec['_id']\n",
    "        r_score = rec['_score']\n",
    "        r_title = rec['_source']['title']\n",
    "        r = {}\n",
    "        r['asin'] = rec['_source']['asin']\n",
    "        r['title'] = r_title\n",
    "        r['score'] = r_score\n",
    "        pd_data.append(r)\n",
    "        r_im_url = rec['_source']['image'] or ''\n",
    "        sim_html += \"<tr><td><h5>%s - %s</h5><img src=%s width=150></img></td><td><h5>%2.3f</h5></td></tr>\" % (r_id, r_title, r_im_url, r_score)\n",
    "        i += 1\n",
    "    sim_html += \"</table>\"\n",
    "    pd.set_option('display.max_colwidth', -1) \n",
    "    pd_df = pd.DataFrame (pd_data)\n",
    "    display(HTML(pd_df.to_html()))\n",
    "    display(HTML(sim_html))"
   ]
  },
  {
   "cell_type": "code",
   "execution_count": 33,
   "id": "e05ee072",
   "metadata": {},
   "outputs": [
    {
     "name": "stderr",
     "output_type": "stream",
     "text": [
      "/var/folders/3v/prng965x6vg3z8l8gf2j4pmw0000gn/T/ipykernel_1702/7932373.py:69: DeprecationWarning: The 'body' parameter is deprecated and will be removed in a future version. Instead use individual parameters.\n",
      "  results = es.search(index=index, body=q)\n"
     ]
    },
    {
     "data": {
      "text/html": [
       "<h2>Get similar products for:</h2>"
      ],
      "text/plain": [
       "<IPython.core.display.HTML object>"
      ]
     },
     "metadata": {},
     "output_type": "display_data"
    },
    {
     "data": {
      "text/html": [
       "<h4>None (ASIN - B0075CU8MG)</h4>"
      ],
      "text/plain": [
       "<IPython.core.display.HTML object>"
      ]
     },
     "metadata": {},
     "output_type": "display_data"
    },
    {
     "data": {
      "text/html": [
       "<br>"
      ],
      "text/plain": [
       "<IPython.core.display.HTML object>"
      ]
     },
     "metadata": {},
     "output_type": "display_data"
    },
    {
     "data": {
      "text/html": [
       "<h2>People who liked this product also liked these:</h2>"
      ],
      "text/plain": [
       "<IPython.core.display.HTML object>"
      ]
     },
     "metadata": {},
     "output_type": "display_data"
    },
    {
     "name": "stderr",
     "output_type": "stream",
     "text": [
      "/var/folders/3v/prng965x6vg3z8l8gf2j4pmw0000gn/T/ipykernel_1702/7932373.py:99: FutureWarning: Passing a negative integer is deprecated in version 1.0 and will not be supported in future version. Instead, use None to not limit the column width.\n",
      "  pd.set_option('display.max_colwidth', -1)\n"
     ]
    },
    {
     "data": {
      "text/html": [
       "<table border=\"1\" class=\"dataframe\">\n",
       "  <thead>\n",
       "    <tr style=\"text-align: right;\">\n",
       "      <th></th>\n",
       "      <th>asin</th>\n",
       "      <th>title</th>\n",
       "      <th>score</th>\n",
       "    </tr>\n",
       "  </thead>\n",
       "  <tbody>\n",
       "    <tr>\n",
       "      <th>0</th>\n",
       "      <td>B000UVUPPY</td>\n",
       "      <td>None</td>\n",
       "      <td>1.742133</td>\n",
       "    </tr>\n",
       "    <tr>\n",
       "      <th>1</th>\n",
       "      <td>B005HF5H5Q</td>\n",
       "      <td>None</td>\n",
       "      <td>1.716442</td>\n",
       "    </tr>\n",
       "    <tr>\n",
       "      <th>2</th>\n",
       "      <td>B000UVUQJ4</td>\n",
       "      <td>None</td>\n",
       "      <td>1.710652</td>\n",
       "    </tr>\n",
       "    <tr>\n",
       "      <th>3</th>\n",
       "      <td>B002WS5FUS</td>\n",
       "      <td>Maytag MEC4536WB 36&amp;quot; Black Electric Coil Cooktop</td>\n",
       "      <td>1.710645</td>\n",
       "    </tr>\n",
       "    <tr>\n",
       "      <th>4</th>\n",
       "      <td>B002C7PYFA</td>\n",
       "      <td>None</td>\n",
       "      <td>1.704245</td>\n",
       "    </tr>\n",
       "  </tbody>\n",
       "</table>"
      ],
      "text/plain": [
       "<IPython.core.display.HTML object>"
      ]
     },
     "metadata": {},
     "output_type": "display_data"
    },
    {
     "data": {
      "text/html": [
       "<table border=0><tr><td><h5>B000UVUPPY - None</h5><img src=http://ecx.images-amazon.com/images/I/51NKZRw0axL._SY300_.jpg width=150></img></td><td><h5>1.742</h5></td></tr><tr><td><h5>B005HF5H5Q - None</h5><img src=http://ecx.images-amazon.com/images/I/51X4db70DfL._SY300_.jpg width=150></img></td><td><h5>1.716</h5></td></tr><tr><td><h5>B000UVUQJ4 - None</h5><img src=http://ecx.images-amazon.com/images/I/51FpO-ye3DL._SX300_.jpg width=150></img></td><td><h5>1.711</h5></td></tr><tr><td><h5>B002WS5FUS - Maytag MEC4536WB 36&quot; Black Electric Coil Cooktop</h5><img src=http://ecx.images-amazon.com/images/I/514ZHSxzTgL._SX300_.jpg width=150></img></td><td><h5>1.711</h5></td></tr><tr><td><h5>B002C7PYFA - None</h5><img src=http://ecx.images-amazon.com/images/I/41aNYHF%2BbZL._SY300_.jpg width=150></img></td><td><h5>1.704</h5></td></tr></table>"
      ],
      "text/plain": [
       "<IPython.core.display.HTML object>"
      ]
     },
     "metadata": {},
     "output_type": "display_data"
    }
   ],
   "source": [
    "data = display_similar('B0075CU8MG', num=5)"
   ]
  },
  {
   "cell_type": "code",
   "execution_count": 34,
   "id": "580b469e",
   "metadata": {},
   "outputs": [
    {
     "data": {
      "text/plain": [
       "ObjectApiResponse({'_shards': {'total': 2, 'successful': 1, 'failed': 0}})"
      ]
     },
     "execution_count": 34,
     "metadata": {},
     "output_type": "execute_result"
    }
   ],
   "source": [
    "es.indices.refresh(index=\"products\")\n",
    "\n",
    "# es.search(index=\"products\", body={\"query\": {\"match\": {\"main_category\": \"Cooktops\"}}})\n",
    "\n",
    "# es.get(index=\"products\", id=\"962\")"
   ]
  }
 ],
 "metadata": {
  "kernelspec": {
   "display_name": "Python 3 (ipykernel)",
   "language": "python",
   "name": "python3"
  },
  "language_info": {
   "codemirror_mode": {
    "name": "ipython",
    "version": 3
   },
   "file_extension": ".py",
   "mimetype": "text/x-python",
   "name": "python",
   "nbconvert_exporter": "python",
   "pygments_lexer": "ipython3",
   "version": "3.8.15"
  }
 },
 "nbformat": 4,
 "nbformat_minor": 5
}
